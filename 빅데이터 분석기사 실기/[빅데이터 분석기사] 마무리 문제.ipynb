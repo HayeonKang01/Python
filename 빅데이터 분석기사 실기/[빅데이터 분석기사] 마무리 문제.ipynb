{
 "cells": [
  {
   "cell_type": "markdown",
   "id": "5933f6c1",
   "metadata": {},
   "source": [
    "## 빅데이터 분석기사 실기 \n",
    "---\n",
    "# 1. 작업형 제1 유형\n",
    "### (1) Iris Dataset\n",
    "> **1. Iris 데이터 세트에서 species 변수 값 별로 petal_width 상위 25% 값을 구한 후, 가장 큰 값과 가장 작은 값 사이의 차이를 계산하시오.** <br>-> 🤬 0.75로 구해야 함 . ❌"
   ]
  },
  {
   "cell_type": "code",
   "execution_count": 1,
   "id": "858e551c",
   "metadata": {},
   "outputs": [],
   "source": [
    "import pandas as pd\n",
    "import numpy as np\n",
    "import warnings\n",
    "warnings.filterwarnings('ignore')"
   ]
  },
  {
   "cell_type": "code",
   "execution_count": 2,
   "id": "555bfd03",
   "metadata": {},
   "outputs": [],
   "source": [
    "iris = pd.read_csv('/Users/hayeon/Downloads/iris.csv')"
   ]
  },
  {
   "cell_type": "code",
   "execution_count": 3,
   "id": "fa6b0a84",
   "metadata": {},
   "outputs": [
    {
     "name": "stdout",
     "output_type": "stream",
     "text": [
      "<class 'pandas.core.frame.DataFrame'>\n",
      "RangeIndex: 150 entries, 0 to 149\n",
      "Data columns (total 5 columns):\n",
      " #   Column        Non-Null Count  Dtype  \n",
      "---  ------        --------------  -----  \n",
      " 0   sepal_length  150 non-null    float64\n",
      " 1   sepal_width   150 non-null    float64\n",
      " 2   petal_length  150 non-null    float64\n",
      " 3   petal_width   150 non-null    float64\n",
      " 4   species       150 non-null    object \n",
      "dtypes: float64(4), object(1)\n",
      "memory usage: 6.0+ KB\n"
     ]
    }
   ],
   "source": [
    "iris.info()"
   ]
  },
  {
   "cell_type": "code",
   "execution_count": 4,
   "id": "74aa6b04",
   "metadata": {},
   "outputs": [
    {
     "data": {
      "text/html": [
       "<div>\n",
       "<style scoped>\n",
       "    .dataframe tbody tr th:only-of-type {\n",
       "        vertical-align: middle;\n",
       "    }\n",
       "\n",
       "    .dataframe tbody tr th {\n",
       "        vertical-align: top;\n",
       "    }\n",
       "\n",
       "    .dataframe thead th {\n",
       "        text-align: right;\n",
       "    }\n",
       "</style>\n",
       "<table border=\"1\" class=\"dataframe\">\n",
       "  <thead>\n",
       "    <tr style=\"text-align: right;\">\n",
       "      <th></th>\n",
       "      <th>sepal_length</th>\n",
       "      <th>sepal_width</th>\n",
       "      <th>petal_length</th>\n",
       "      <th>petal_width</th>\n",
       "    </tr>\n",
       "  </thead>\n",
       "  <tbody>\n",
       "    <tr>\n",
       "      <th>count</th>\n",
       "      <td>150.000000</td>\n",
       "      <td>150.000000</td>\n",
       "      <td>150.000000</td>\n",
       "      <td>150.000000</td>\n",
       "    </tr>\n",
       "    <tr>\n",
       "      <th>mean</th>\n",
       "      <td>5.843333</td>\n",
       "      <td>3.057333</td>\n",
       "      <td>3.758000</td>\n",
       "      <td>1.199333</td>\n",
       "    </tr>\n",
       "    <tr>\n",
       "      <th>std</th>\n",
       "      <td>0.828066</td>\n",
       "      <td>0.435866</td>\n",
       "      <td>1.765298</td>\n",
       "      <td>0.762238</td>\n",
       "    </tr>\n",
       "    <tr>\n",
       "      <th>min</th>\n",
       "      <td>4.300000</td>\n",
       "      <td>2.000000</td>\n",
       "      <td>1.000000</td>\n",
       "      <td>0.100000</td>\n",
       "    </tr>\n",
       "    <tr>\n",
       "      <th>25%</th>\n",
       "      <td>5.100000</td>\n",
       "      <td>2.800000</td>\n",
       "      <td>1.600000</td>\n",
       "      <td>0.300000</td>\n",
       "    </tr>\n",
       "    <tr>\n",
       "      <th>50%</th>\n",
       "      <td>5.800000</td>\n",
       "      <td>3.000000</td>\n",
       "      <td>4.350000</td>\n",
       "      <td>1.300000</td>\n",
       "    </tr>\n",
       "    <tr>\n",
       "      <th>75%</th>\n",
       "      <td>6.400000</td>\n",
       "      <td>3.300000</td>\n",
       "      <td>5.100000</td>\n",
       "      <td>1.800000</td>\n",
       "    </tr>\n",
       "    <tr>\n",
       "      <th>max</th>\n",
       "      <td>7.900000</td>\n",
       "      <td>4.400000</td>\n",
       "      <td>6.900000</td>\n",
       "      <td>2.500000</td>\n",
       "    </tr>\n",
       "  </tbody>\n",
       "</table>\n",
       "</div>"
      ],
      "text/plain": [
       "       sepal_length  sepal_width  petal_length  petal_width\n",
       "count    150.000000   150.000000    150.000000   150.000000\n",
       "mean       5.843333     3.057333      3.758000     1.199333\n",
       "std        0.828066     0.435866      1.765298     0.762238\n",
       "min        4.300000     2.000000      1.000000     0.100000\n",
       "25%        5.100000     2.800000      1.600000     0.300000\n",
       "50%        5.800000     3.000000      4.350000     1.300000\n",
       "75%        6.400000     3.300000      5.100000     1.800000\n",
       "max        7.900000     4.400000      6.900000     2.500000"
      ]
     },
     "execution_count": 4,
     "metadata": {},
     "output_type": "execute_result"
    }
   ],
   "source": [
    "iris.describe()"
   ]
  },
  {
   "cell_type": "code",
   "execution_count": 194,
   "id": "c351cffd",
   "metadata": {},
   "outputs": [],
   "source": [
    "one = iris.groupby('species')['petal_width'].quantile([0.75]) # 🤬 0.75"
   ]
  },
  {
   "cell_type": "code",
   "execution_count": 202,
   "id": "b610c636",
   "metadata": {},
   "outputs": [
    {
     "data": {
      "text/plain": [
       "species         \n",
       "setosa      0.75    0.3\n",
       "versicolor  0.75    1.5\n",
       "virginica   0.75    2.3\n",
       "Name: petal_width, dtype: float64"
      ]
     },
     "execution_count": 202,
     "metadata": {},
     "output_type": "execute_result"
    }
   ],
   "source": [
    "one"
   ]
  },
  {
   "cell_type": "code",
   "execution_count": 204,
   "id": "aca4c1ca",
   "metadata": {},
   "outputs": [
    {
     "data": {
      "text/plain": [
       "2"
      ]
     },
     "execution_count": 204,
     "metadata": {},
     "output_type": "execute_result"
    }
   ],
   "source": [
    "# 1. 답\n",
    "round(2.3 - 0.3)"
   ]
  },
  {
   "cell_type": "markdown",
   "id": "b2f04183",
   "metadata": {},
   "source": [
    "> **2. iris 데이터 세트에서 sepal_length 변수의 전체 값들을 중복없이 리스트로 만든 후, 오름차순으로 정렬했을 때 리스트의 10번째에 오는 숫자를 계산하시오** <br> -> 10번째라고 말하면 인덱스는 9라고 입력해야 됨. ❌"
   ]
  },
  {
   "cell_type": "code",
   "execution_count": 191,
   "id": "33e0dfb3",
   "metadata": {},
   "outputs": [
    {
     "data": {
      "text/plain": [
       "5.2"
      ]
     },
     "execution_count": 191,
     "metadata": {},
     "output_type": "execute_result"
    }
   ],
   "source": [
    "# 2. 답\n",
    "sorted(iris['sepal_length'].unique().tolist())[9] ### 인덱스 번호 잘 찾아넣기 "
   ]
  },
  {
   "cell_type": "markdown",
   "id": "3604dae1",
   "metadata": {},
   "source": [
    "> **3. iris 데이터 세트를 sepal_width 변수 값으로 내림차순 한 후 위에서부터 100개 행을 학습 데이터로 분리하고, <br> 학습 데이터에서 sepal_width의 표준편차 값을 구한 후 50을 곱한 값을 계산하시오. <br>(최종 계산 값의 소수점 이하는 버린다.)** ✅"
   ]
  },
  {
   "cell_type": "code",
   "execution_count": 22,
   "id": "387ae2a3",
   "metadata": {},
   "outputs": [],
   "source": [
    "train = iris.sort_values(by='sepal_width', ascending=False)[:100]"
   ]
  },
  {
   "cell_type": "code",
   "execution_count": 26,
   "id": "36c5b23b",
   "metadata": {},
   "outputs": [
    {
     "data": {
      "text/plain": [
       "16"
      ]
     },
     "execution_count": 26,
     "metadata": {},
     "output_type": "execute_result"
    }
   ],
   "source": [
    "# 3. 답\n",
    "round(np.std(train['sepal_width'])*50)"
   ]
  },
  {
   "cell_type": "markdown",
   "id": "81795be0",
   "metadata": {},
   "source": [
    "> **4. iris 데이터 세트에서 species 변수 값별로 petal_length 상위 10개 행 (큰 값)의 평균값을 구한 후, 평균값의 합을 계산하시오.<br> (최종 계산 값의 소수점 이하는 반올림한다.)**. ❌"
   ]
  },
  {
   "cell_type": "code",
   "execution_count": 43,
   "id": "a7bd5e7e",
   "metadata": {},
   "outputs": [],
   "source": [
    "setosa = iris[iris['species']=='setosa']\n",
    "virginica = iris[iris['species']=='virginica']\n",
    "versicolor = iris[iris['species']=='versicolor']"
   ]
  },
  {
   "cell_type": "code",
   "execution_count": 47,
   "id": "95e117fb",
   "metadata": {},
   "outputs": [],
   "source": [
    "set_m = setosa.sort_values('petal_length', ascending=False)[:10]['petal_length'].mean()"
   ]
  },
  {
   "cell_type": "code",
   "execution_count": 48,
   "id": "195a5baf",
   "metadata": {},
   "outputs": [],
   "source": [
    "vir_m = virginica.sort_values('petal_length', ascending=False)[:10]['petal_length'].mean()"
   ]
  },
  {
   "cell_type": "code",
   "execution_count": 49,
   "id": "7ac42f6a",
   "metadata": {},
   "outputs": [],
   "source": [
    "ver_m = versicolor.sort_values('petal_length', ascending=False)[:10]['petal_length'].mean()"
   ]
  },
  {
   "cell_type": "code",
   "execution_count": 206,
   "id": "345fece1",
   "metadata": {},
   "outputs": [
    {
     "data": {
      "text/plain": [
       "13"
      ]
     },
     "execution_count": 206,
     "metadata": {},
     "output_type": "execute_result"
    }
   ],
   "source": [
    "# 4 답\n",
    "round(np.sum([set_m, vir_m, ver_m])) #### sum인지 mean 인지 구분해서 함수 적용하고 round 함수 적용"
   ]
  },
  {
   "cell_type": "markdown",
   "id": "a53cc3d6",
   "metadata": {},
   "source": [
    "> **5. Iris 데이터세트에서 sepal_length 변수가 이상치를 가지는 데이터 행 수를 계산하시오. <br> (단, 이상치 범위는 (평균 + 2 x 표준편차) 이상이거나 (평균 - 2 x 표준편차) 이하이다.)** ✅"
   ]
  },
  {
   "cell_type": "code",
   "execution_count": 63,
   "id": "04497267",
   "metadata": {},
   "outputs": [],
   "source": [
    "mean = iris['sepal_length'].mean()\n",
    "std = iris['sepal_length'].std()\n",
    "\n",
    "upper_bound = mean + (2*std)\n",
    "lower_bound = mean - (2*std)"
   ]
  },
  {
   "cell_type": "code",
   "execution_count": 67,
   "id": "6b4c95aa",
   "metadata": {},
   "outputs": [
    {
     "data": {
      "text/plain": [
       "6"
      ]
     },
     "execution_count": 67,
     "metadata": {},
     "output_type": "execute_result"
    }
   ],
   "source": [
    "# 5. 답\n",
    "len(iris[(iris['sepal_length']>= upper_bound) | (iris['sepal_length']<=lower_bound)])"
   ]
  },
  {
   "cell_type": "markdown",
   "id": "46865bf3",
   "metadata": {},
   "source": [
    "## (2) Wine Dataset"
   ]
  },
  {
   "cell_type": "code",
   "execution_count": 68,
   "id": "de6ae153",
   "metadata": {},
   "outputs": [],
   "source": [
    "wine = pd.read_csv('/Users/hayeon/Downloads/wine.csv')"
   ]
  },
  {
   "cell_type": "code",
   "execution_count": 70,
   "id": "edcec53b",
   "metadata": {},
   "outputs": [
    {
     "data": {
      "text/html": [
       "<div>\n",
       "<style scoped>\n",
       "    .dataframe tbody tr th:only-of-type {\n",
       "        vertical-align: middle;\n",
       "    }\n",
       "\n",
       "    .dataframe tbody tr th {\n",
       "        vertical-align: top;\n",
       "    }\n",
       "\n",
       "    .dataframe thead th {\n",
       "        text-align: right;\n",
       "    }\n",
       "</style>\n",
       "<table border=\"1\" class=\"dataframe\">\n",
       "  <thead>\n",
       "    <tr style=\"text-align: right;\">\n",
       "      <th></th>\n",
       "      <th>alcohol</th>\n",
       "      <th>malic_acid</th>\n",
       "      <th>ash</th>\n",
       "      <th>alcalinity_of_ash</th>\n",
       "      <th>magnesium</th>\n",
       "      <th>total_phenols</th>\n",
       "      <th>flavanoids</th>\n",
       "      <th>nonflavanoid_phenols</th>\n",
       "      <th>proanthocyanins</th>\n",
       "      <th>color_intensity</th>\n",
       "      <th>hue</th>\n",
       "      <th>od280/od315_of_diluted_wines</th>\n",
       "      <th>proline</th>\n",
       "      <th>class</th>\n",
       "    </tr>\n",
       "  </thead>\n",
       "  <tbody>\n",
       "    <tr>\n",
       "      <th>0</th>\n",
       "      <td>14.23</td>\n",
       "      <td>1.71</td>\n",
       "      <td>2.43</td>\n",
       "      <td>15.6</td>\n",
       "      <td>127.0</td>\n",
       "      <td>2.80</td>\n",
       "      <td>3.06</td>\n",
       "      <td>0.28</td>\n",
       "      <td>2.29</td>\n",
       "      <td>5.64</td>\n",
       "      <td>1.04</td>\n",
       "      <td>3.92</td>\n",
       "      <td>1065.0</td>\n",
       "      <td>0</td>\n",
       "    </tr>\n",
       "    <tr>\n",
       "      <th>1</th>\n",
       "      <td>13.20</td>\n",
       "      <td>1.78</td>\n",
       "      <td>2.14</td>\n",
       "      <td>11.2</td>\n",
       "      <td>100.0</td>\n",
       "      <td>2.65</td>\n",
       "      <td>2.76</td>\n",
       "      <td>0.26</td>\n",
       "      <td>1.28</td>\n",
       "      <td>4.38</td>\n",
       "      <td>1.05</td>\n",
       "      <td>3.40</td>\n",
       "      <td>1050.0</td>\n",
       "      <td>0</td>\n",
       "    </tr>\n",
       "    <tr>\n",
       "      <th>2</th>\n",
       "      <td>13.16</td>\n",
       "      <td>2.36</td>\n",
       "      <td>2.67</td>\n",
       "      <td>18.6</td>\n",
       "      <td>101.0</td>\n",
       "      <td>NaN</td>\n",
       "      <td>3.24</td>\n",
       "      <td>0.30</td>\n",
       "      <td>2.81</td>\n",
       "      <td>5.68</td>\n",
       "      <td>1.03</td>\n",
       "      <td>3.17</td>\n",
       "      <td>1185.0</td>\n",
       "      <td>0</td>\n",
       "    </tr>\n",
       "  </tbody>\n",
       "</table>\n",
       "</div>"
      ],
      "text/plain": [
       "   alcohol  malic_acid   ash  alcalinity_of_ash  magnesium  total_phenols  \\\n",
       "0    14.23        1.71  2.43               15.6      127.0           2.80   \n",
       "1    13.20        1.78  2.14               11.2      100.0           2.65   \n",
       "2    13.16        2.36  2.67               18.6      101.0            NaN   \n",
       "\n",
       "   flavanoids  nonflavanoid_phenols  proanthocyanins  color_intensity   hue  \\\n",
       "0        3.06                  0.28             2.29             5.64  1.04   \n",
       "1        2.76                  0.26             1.28             4.38  1.05   \n",
       "2        3.24                  0.30             2.81             5.68  1.03   \n",
       "\n",
       "   od280/od315_of_diluted_wines  proline  class  \n",
       "0                          3.92   1065.0      0  \n",
       "1                          3.40   1050.0      0  \n",
       "2                          3.17   1185.0      0  "
      ]
     },
     "execution_count": 70,
     "metadata": {},
     "output_type": "execute_result"
    }
   ],
   "source": [
    "wine.head(3)"
   ]
  },
  {
   "cell_type": "code",
   "execution_count": 71,
   "id": "610e7b1b",
   "metadata": {},
   "outputs": [
    {
     "name": "stdout",
     "output_type": "stream",
     "text": [
      "<class 'pandas.core.frame.DataFrame'>\n",
      "RangeIndex: 178 entries, 0 to 177\n",
      "Data columns (total 14 columns):\n",
      " #   Column                        Non-Null Count  Dtype  \n",
      "---  ------                        --------------  -----  \n",
      " 0   alcohol                       178 non-null    float64\n",
      " 1   malic_acid                    178 non-null    float64\n",
      " 2   ash                           178 non-null    float64\n",
      " 3   alcalinity_of_ash             168 non-null    float64\n",
      " 4   magnesium                     178 non-null    float64\n",
      " 5   total_phenols                 163 non-null    float64\n",
      " 6   flavanoids                    178 non-null    float64\n",
      " 7   nonflavanoid_phenols          178 non-null    float64\n",
      " 8   proanthocyanins               178 non-null    float64\n",
      " 9   color_intensity               178 non-null    float64\n",
      " 10  hue                           178 non-null    float64\n",
      " 11  od280/od315_of_diluted_wines  178 non-null    float64\n",
      " 12  proline                       178 non-null    float64\n",
      " 13  class                         178 non-null    int64  \n",
      "dtypes: float64(13), int64(1)\n",
      "memory usage: 19.6 KB\n"
     ]
    }
   ],
   "source": [
    "wine.info()"
   ]
  },
  {
   "cell_type": "code",
   "execution_count": 72,
   "id": "cb6ff807",
   "metadata": {},
   "outputs": [
    {
     "data": {
      "text/html": [
       "<div>\n",
       "<style scoped>\n",
       "    .dataframe tbody tr th:only-of-type {\n",
       "        vertical-align: middle;\n",
       "    }\n",
       "\n",
       "    .dataframe tbody tr th {\n",
       "        vertical-align: top;\n",
       "    }\n",
       "\n",
       "    .dataframe thead th {\n",
       "        text-align: right;\n",
       "    }\n",
       "</style>\n",
       "<table border=\"1\" class=\"dataframe\">\n",
       "  <thead>\n",
       "    <tr style=\"text-align: right;\">\n",
       "      <th></th>\n",
       "      <th>alcohol</th>\n",
       "      <th>malic_acid</th>\n",
       "      <th>ash</th>\n",
       "      <th>alcalinity_of_ash</th>\n",
       "      <th>magnesium</th>\n",
       "      <th>total_phenols</th>\n",
       "      <th>flavanoids</th>\n",
       "      <th>nonflavanoid_phenols</th>\n",
       "      <th>proanthocyanins</th>\n",
       "      <th>color_intensity</th>\n",
       "      <th>hue</th>\n",
       "      <th>od280/od315_of_diluted_wines</th>\n",
       "      <th>proline</th>\n",
       "      <th>class</th>\n",
       "    </tr>\n",
       "  </thead>\n",
       "  <tbody>\n",
       "    <tr>\n",
       "      <th>count</th>\n",
       "      <td>178.000000</td>\n",
       "      <td>178.000000</td>\n",
       "      <td>178.000000</td>\n",
       "      <td>168.000000</td>\n",
       "      <td>178.000000</td>\n",
       "      <td>163.000000</td>\n",
       "      <td>178.000000</td>\n",
       "      <td>178.000000</td>\n",
       "      <td>178.000000</td>\n",
       "      <td>178.000000</td>\n",
       "      <td>178.000000</td>\n",
       "      <td>178.000000</td>\n",
       "      <td>178.000000</td>\n",
       "      <td>178.000000</td>\n",
       "    </tr>\n",
       "    <tr>\n",
       "      <th>mean</th>\n",
       "      <td>13.000618</td>\n",
       "      <td>2.336348</td>\n",
       "      <td>2.366517</td>\n",
       "      <td>19.451786</td>\n",
       "      <td>99.741573</td>\n",
       "      <td>2.313067</td>\n",
       "      <td>2.029270</td>\n",
       "      <td>0.361854</td>\n",
       "      <td>1.590899</td>\n",
       "      <td>5.058090</td>\n",
       "      <td>0.957449</td>\n",
       "      <td>2.611685</td>\n",
       "      <td>746.893258</td>\n",
       "      <td>0.938202</td>\n",
       "    </tr>\n",
       "    <tr>\n",
       "      <th>std</th>\n",
       "      <td>0.811827</td>\n",
       "      <td>1.117146</td>\n",
       "      <td>0.274344</td>\n",
       "      <td>3.353521</td>\n",
       "      <td>14.282484</td>\n",
       "      <td>0.623317</td>\n",
       "      <td>0.998859</td>\n",
       "      <td>0.124453</td>\n",
       "      <td>0.572359</td>\n",
       "      <td>2.318286</td>\n",
       "      <td>0.228572</td>\n",
       "      <td>0.709990</td>\n",
       "      <td>314.907474</td>\n",
       "      <td>0.775035</td>\n",
       "    </tr>\n",
       "    <tr>\n",
       "      <th>min</th>\n",
       "      <td>11.030000</td>\n",
       "      <td>0.740000</td>\n",
       "      <td>1.360000</td>\n",
       "      <td>10.600000</td>\n",
       "      <td>70.000000</td>\n",
       "      <td>0.980000</td>\n",
       "      <td>0.340000</td>\n",
       "      <td>0.130000</td>\n",
       "      <td>0.410000</td>\n",
       "      <td>1.280000</td>\n",
       "      <td>0.480000</td>\n",
       "      <td>1.270000</td>\n",
       "      <td>278.000000</td>\n",
       "      <td>0.000000</td>\n",
       "    </tr>\n",
       "    <tr>\n",
       "      <th>25%</th>\n",
       "      <td>12.362500</td>\n",
       "      <td>1.602500</td>\n",
       "      <td>2.210000</td>\n",
       "      <td>17.075000</td>\n",
       "      <td>88.000000</td>\n",
       "      <td>1.785000</td>\n",
       "      <td>1.205000</td>\n",
       "      <td>0.270000</td>\n",
       "      <td>1.250000</td>\n",
       "      <td>3.220000</td>\n",
       "      <td>0.782500</td>\n",
       "      <td>1.937500</td>\n",
       "      <td>500.500000</td>\n",
       "      <td>0.000000</td>\n",
       "    </tr>\n",
       "    <tr>\n",
       "      <th>50%</th>\n",
       "      <td>13.050000</td>\n",
       "      <td>1.865000</td>\n",
       "      <td>2.360000</td>\n",
       "      <td>19.450000</td>\n",
       "      <td>98.000000</td>\n",
       "      <td>2.360000</td>\n",
       "      <td>2.135000</td>\n",
       "      <td>0.340000</td>\n",
       "      <td>1.555000</td>\n",
       "      <td>4.690000</td>\n",
       "      <td>0.965000</td>\n",
       "      <td>2.780000</td>\n",
       "      <td>673.500000</td>\n",
       "      <td>1.000000</td>\n",
       "    </tr>\n",
       "    <tr>\n",
       "      <th>75%</th>\n",
       "      <td>13.677500</td>\n",
       "      <td>3.082500</td>\n",
       "      <td>2.557500</td>\n",
       "      <td>21.500000</td>\n",
       "      <td>107.000000</td>\n",
       "      <td>2.815000</td>\n",
       "      <td>2.875000</td>\n",
       "      <td>0.437500</td>\n",
       "      <td>1.950000</td>\n",
       "      <td>6.200000</td>\n",
       "      <td>1.120000</td>\n",
       "      <td>3.170000</td>\n",
       "      <td>985.000000</td>\n",
       "      <td>2.000000</td>\n",
       "    </tr>\n",
       "    <tr>\n",
       "      <th>max</th>\n",
       "      <td>14.830000</td>\n",
       "      <td>5.800000</td>\n",
       "      <td>3.230000</td>\n",
       "      <td>30.000000</td>\n",
       "      <td>162.000000</td>\n",
       "      <td>3.880000</td>\n",
       "      <td>5.080000</td>\n",
       "      <td>0.660000</td>\n",
       "      <td>3.580000</td>\n",
       "      <td>13.000000</td>\n",
       "      <td>1.710000</td>\n",
       "      <td>4.000000</td>\n",
       "      <td>1680.000000</td>\n",
       "      <td>2.000000</td>\n",
       "    </tr>\n",
       "  </tbody>\n",
       "</table>\n",
       "</div>"
      ],
      "text/plain": [
       "          alcohol  malic_acid         ash  alcalinity_of_ash   magnesium  \\\n",
       "count  178.000000  178.000000  178.000000         168.000000  178.000000   \n",
       "mean    13.000618    2.336348    2.366517          19.451786   99.741573   \n",
       "std      0.811827    1.117146    0.274344           3.353521   14.282484   \n",
       "min     11.030000    0.740000    1.360000          10.600000   70.000000   \n",
       "25%     12.362500    1.602500    2.210000          17.075000   88.000000   \n",
       "50%     13.050000    1.865000    2.360000          19.450000   98.000000   \n",
       "75%     13.677500    3.082500    2.557500          21.500000  107.000000   \n",
       "max     14.830000    5.800000    3.230000          30.000000  162.000000   \n",
       "\n",
       "       total_phenols  flavanoids  nonflavanoid_phenols  proanthocyanins  \\\n",
       "count     163.000000  178.000000            178.000000       178.000000   \n",
       "mean        2.313067    2.029270              0.361854         1.590899   \n",
       "std         0.623317    0.998859              0.124453         0.572359   \n",
       "min         0.980000    0.340000              0.130000         0.410000   \n",
       "25%         1.785000    1.205000              0.270000         1.250000   \n",
       "50%         2.360000    2.135000              0.340000         1.555000   \n",
       "75%         2.815000    2.875000              0.437500         1.950000   \n",
       "max         3.880000    5.080000              0.660000         3.580000   \n",
       "\n",
       "       color_intensity         hue  od280/od315_of_diluted_wines      proline  \\\n",
       "count       178.000000  178.000000                    178.000000   178.000000   \n",
       "mean          5.058090    0.957449                      2.611685   746.893258   \n",
       "std           2.318286    0.228572                      0.709990   314.907474   \n",
       "min           1.280000    0.480000                      1.270000   278.000000   \n",
       "25%           3.220000    0.782500                      1.937500   500.500000   \n",
       "50%           4.690000    0.965000                      2.780000   673.500000   \n",
       "75%           6.200000    1.120000                      3.170000   985.000000   \n",
       "max          13.000000    1.710000                      4.000000  1680.000000   \n",
       "\n",
       "            class  \n",
       "count  178.000000  \n",
       "mean     0.938202  \n",
       "std      0.775035  \n",
       "min      0.000000  \n",
       "25%      0.000000  \n",
       "50%      1.000000  \n",
       "75%      2.000000  \n",
       "max      2.000000  "
      ]
     },
     "execution_count": 72,
     "metadata": {},
     "output_type": "execute_result"
    }
   ],
   "source": [
    "wine.describe()"
   ]
  },
  {
   "cell_type": "markdown",
   "id": "2ccaa65f",
   "metadata": {},
   "source": [
    "> **1. wine 데이터셋에서 total_phenols 결측치를 제거하고 alcalinity_of_ash 변수의 결측치는 중앙값으로 대체한 후, <br>alcalinity_of_ash 평균값을 계산하시오 (최종 계산 값의 소수점 이하는 버린다.)** ✅"
   ]
  },
  {
   "cell_type": "code",
   "execution_count": 80,
   "id": "52f235e5",
   "metadata": {},
   "outputs": [],
   "source": [
    "wine_dropna = wine.dropna(subset=['total_phenols'])"
   ]
  },
  {
   "cell_type": "code",
   "execution_count": 84,
   "id": "a7ec9b2e",
   "metadata": {},
   "outputs": [],
   "source": [
    "from sklearn.impute import SimpleImputer\n",
    "\n",
    "imputer = SimpleImputer(missing_values=np.nan, strategy='median')\n",
    "wine_dropna['alcalinity_of_ash'] = imputer.fit_transform(wine_dropna[['alcalinity_of_ash']])"
   ]
  },
  {
   "cell_type": "code",
   "execution_count": 88,
   "id": "91fba033",
   "metadata": {},
   "outputs": [
    {
     "data": {
      "text/plain": [
       "19"
      ]
     },
     "execution_count": 88,
     "metadata": {},
     "output_type": "execute_result"
    }
   ],
   "source": [
    "# 1 답\n",
    "round(wine_dropna['alcalinity_of_ash'].mean())"
   ]
  },
  {
   "cell_type": "markdown",
   "id": "b31c347d",
   "metadata": {},
   "source": [
    "> **2. wine 데이터셋에서 alcohol 값이 alcohol 평균 값 이상이고, color_intensity 값이 color_intensity 평균 값 이상인 데이터만 남겼을 때, <br>가장 많은 class 값을 구하시오** ✅"
   ]
  },
  {
   "cell_type": "code",
   "execution_count": 90,
   "id": "33a8bb02",
   "metadata": {},
   "outputs": [],
   "source": [
    "alc_mean = wine['alcohol'].mean()\n",
    "clr_mean = wine['color_intensity'].mean()"
   ]
  },
  {
   "cell_type": "code",
   "execution_count": 92,
   "id": "647ffc3d",
   "metadata": {},
   "outputs": [
    {
     "name": "stdout",
     "output_type": "stream",
     "text": [
      "13.000617977528083 5.058089882022473\n"
     ]
    }
   ],
   "source": [
    "print(alc_mean, clr_mean)"
   ]
  },
  {
   "cell_type": "code",
   "execution_count": 94,
   "id": "80662967",
   "metadata": {
    "scrolled": true
   },
   "outputs": [],
   "source": [
    "two_df = wine[(wine['alcohol']>=alc_mean)&(wine['color_intensity']>=clr_mean)]"
   ]
  },
  {
   "cell_type": "code",
   "execution_count": 98,
   "id": "4de71bdf",
   "metadata": {},
   "outputs": [
    {
     "data": {
      "text/plain": [
       "0    37\n",
       "2    23\n",
       "1     1\n",
       "Name: class, dtype: int64"
      ]
     },
     "execution_count": 98,
     "metadata": {},
     "output_type": "execute_result"
    }
   ],
   "source": [
    "# 0 클래스가 가장 많음\n",
    "two_df['class'].value_counts()"
   ]
  },
  {
   "cell_type": "markdown",
   "id": "d312584e",
   "metadata": {},
   "source": [
    "> **3. wine 데이터셋에서 class 1에 해당하는 데이터의 ash 평균값과 wine 데이터셋의 모든 결측치를 제거한 후의 ash 값의 평균값의 차이의 <br>절댓값을 계산하시오(최종 계산 값의 소수점 아래 4번째 자리에서 반올림한다).** ❌"
   ]
  },
  {
   "cell_type": "code",
   "execution_count": 104,
   "id": "6a604479",
   "metadata": {},
   "outputs": [],
   "source": [
    "class1 = wine[wine['class']==1]['ash'].mean()"
   ]
  },
  {
   "cell_type": "code",
   "execution_count": 105,
   "id": "65f41a5f",
   "metadata": {},
   "outputs": [],
   "source": [
    "dropna = wine.dropna().ash.mean()"
   ]
  },
  {
   "cell_type": "code",
   "execution_count": 207,
   "id": "adae3816",
   "metadata": {},
   "outputs": [
    {
     "data": {
      "text/plain": [
       "0.12"
      ]
     },
     "execution_count": 207,
     "metadata": {},
     "output_type": "execute_result"
    }
   ],
   "source": [
    "# 3 답\n",
    "round(abs(dropna-class1), 3) ### 4번째 자리에서 = round(x, 3) 결과적으론 두자리만 나오게"
   ]
  },
  {
   "cell_type": "markdown",
   "id": "5e096296",
   "metadata": {},
   "source": [
    "> **4. wine 데이터셋에서 alcohol 변수의 상위에서 20번째 값(alcohol을 오름차순 정렬했을 때 20번째에 위치한 값)으로 상위 20개의 값을 변환한 후, <br>proanthocyanins가 2 이하인 데이터를 추출하여 alcohol의 평균값을 계산하시오(최종 계산 값의 소수점 아래 3번째 자리에서 반올림한다).**. ❌"
   ]
  },
  {
   "cell_type": "code",
   "execution_count": 227,
   "id": "74c33a27",
   "metadata": {},
   "outputs": [],
   "source": [
    "test = wine.sort_values('alcohol')\n",
    "test.reset_index(drop=True, inplace=True)"
   ]
  },
  {
   "cell_type": "code",
   "execution_count": 232,
   "id": "7a4d7af8",
   "metadata": {},
   "outputs": [],
   "source": [
    "top20 = test.iloc[19]['alcohol']"
   ]
  },
  {
   "cell_type": "code",
   "execution_count": 233,
   "id": "e837dc41",
   "metadata": {},
   "outputs": [
    {
     "name": "stdout",
     "output_type": "stream",
     "text": [
      "12.0\n"
     ]
    }
   ],
   "source": [
    "print(top20)"
   ]
  },
  {
   "cell_type": "code",
   "execution_count": 234,
   "id": "76e0ffcb",
   "metadata": {},
   "outputs": [],
   "source": [
    "test['alcohol'][:20] = top20"
   ]
  },
  {
   "cell_type": "code",
   "execution_count": 236,
   "id": "1ff9e516",
   "metadata": {
    "scrolled": true
   },
   "outputs": [
    {
     "data": {
      "text/plain": [
       "12.97"
      ]
     },
     "execution_count": 236,
     "metadata": {},
     "output_type": "execute_result"
    }
   ],
   "source": [
    "# 4 답\n",
    "round(test[test['proanthocyanins']<=2]['alcohol'].mean(), 2) #### 인덱스 리셋, 번호 신경쓰기"
   ]
  },
  {
   "cell_type": "markdown",
   "id": "f8c4ac18",
   "metadata": {},
   "source": [
    "#### 정답"
   ]
  },
  {
   "cell_type": "code",
   "execution_count": 222,
   "id": "42dd4970",
   "metadata": {},
   "outputs": [
    {
     "name": "stdout",
     "output_type": "stream",
     "text": [
      "12.97\n"
     ]
    }
   ],
   "source": [
    "data_sorted = wine.sort_values(by=\"alcohol\", axis=0, ascending=True)\n",
    "data_sorted = data_sorted.reset_index(drop=True)\n",
    "data_sorted.loc[0:19, 'alcohol'] = data_sorted.loc[19, 'alcohol']\n",
    "print(round(data_sorted[data_sorted['proanthocyanins']<=2]['alcohol'].mean(), 2))"
   ]
  },
  {
   "cell_type": "markdown",
   "id": "3a898320",
   "metadata": {},
   "source": [
    "> **5. wine 데이터셋에서 class 1에 해당하는 데이터의 proline 변수의 제 3사분위수와 제 1사분위수 차를 구하고, <br> class 2에 해당하는 데이터의 proline 변수의 제 3사분위수와 제 1사분위수 차를 구하여 두 값의 차이를 절댓값을 계산하시오** ✅"
   ]
  },
  {
   "cell_type": "code",
   "execution_count": 139,
   "id": "48bc6745",
   "metadata": {},
   "outputs": [],
   "source": [
    "quant = wine[wine['class']==1]['proline'].quantile([0.75, 0.25]).values"
   ]
  },
  {
   "cell_type": "code",
   "execution_count": 144,
   "id": "70f81a73",
   "metadata": {},
   "outputs": [],
   "source": [
    "class1_minus = quant[0] - quant[1] # class 1에 해당하는 데이터의 proline 3사분위수 - 1사분위수"
   ]
  },
  {
   "cell_type": "code",
   "execution_count": 142,
   "id": "53ec6db1",
   "metadata": {},
   "outputs": [],
   "source": [
    "quant2 = wine[wine['class']==2]['proline'].quantile([0.75, 0.25]).values"
   ]
  },
  {
   "cell_type": "code",
   "execution_count": 145,
   "id": "0d2f798d",
   "metadata": {},
   "outputs": [],
   "source": [
    "class2_minus = quant2[0] - quant2[1]"
   ]
  },
  {
   "cell_type": "code",
   "execution_count": 146,
   "id": "bfe80986",
   "metadata": {},
   "outputs": [
    {
     "data": {
      "text/plain": [
       "68.5"
      ]
     },
     "execution_count": 146,
     "metadata": {},
     "output_type": "execute_result"
    }
   ],
   "source": [
    "# 5 답\n",
    "abs(class1_minus - class2_minus)"
   ]
  },
  {
   "cell_type": "markdown",
   "id": "4ac48b5e",
   "metadata": {},
   "source": [
    "---\n",
    "# 작업형 제 2 유형\n",
    "### Stellar Classification\n",
    "1. 문제 \n",
    "- 제공 데이터 목록 \n",
    "    * stellar_y_train.csv : 은하 여부 데이터 (학습용), csv 형식의 파일\n",
    "    * stellar_X_train.csv, stellar_X_test.csv : 천체 관측 특성(학습용 및 평가용), csv 형식의 파일\n",
    "- 데이터 형식 및 내용\n",
    "    * stellar_y_train.csv (70,000)\n",
    "    \n",
    "- 주어진 학습용 데이터를 활용하여 해당 천체가 은하인지 아닌지 예측모형을 만든 후, 이를 평가용 데이터에 적용하여 <br>얻은 천체의 은하 여부(은하인 경우 1)를 다음과 같은 형식의 csv 파일로 생성하시오 (제출한 모델의 성능은 ROC-AUC 평가 지표에 따라 채점)"
   ]
  },
  {
   "cell_type": "code",
   "execution_count": 185,
   "id": "1a8ad173",
   "metadata": {},
   "outputs": [],
   "source": [
    "# 출력을 원하실 경우 print() 함수 활용\n",
    "# 예시) print(df.head())\n",
    "\n",
    "# getcwd(), chdir() 등 작업 폴더 설정 불필요\n",
    "# 파일 경로 상 내부 드라이브 경로 접근 불가\n",
    "\n",
    "# 데이터 파일 읽기 예제 \n",
    "import pandas as pd\n",
    "\n",
    "X_test = pd.read_csv('/Users/hayeon/Downloads/stellar_X_test.csv')\n",
    "X_train = pd.read_csv('/Users/hayeon/Downloads/stellar_X_train.csv')\n",
    "y_train = pd.read_csv('/Users/hayeon/Downloads/stellar_y_train.csv')\n",
    "\n",
    "# 사용자 코딩\n",
    "\n",
    "# 답안 제출 참고\n",
    "# 아래 코드 예측 변수와 수험번호를 개인별로 변경하여 활용\n",
    "# pd.DataFrame({'gender':pred}).to_csv('수험번호.csv', index=False)"
   ]
  },
  {
   "cell_type": "markdown",
   "id": "154edf8a",
   "metadata": {},
   "source": [
    "### 유의사항\n",
    "- 성능이 우수한 예측모형을 구축하기 위해서는 적절한 데이터 전처리, Feature Engineering, 분류 알고리즘 사용, 초매개변수 최적화, 모형 앙상블 등이 수반되어야 한다. \n",
    "- 수험번호.csv (예 : 0000.csv) 파일이 만들어지도록 코드를 제출한다.\n",
    "- 제출한 모델의 성능은 ROC-AUC 평가 지표에 따라 채점한다.\n",
    "<br><br>\n",
    "* galaxy 변수는 종속변수"
   ]
  },
  {
   "cell_type": "code",
   "execution_count": 149,
   "id": "f5c239f2",
   "metadata": {},
   "outputs": [
    {
     "name": "stdout",
     "output_type": "stream",
     "text": [
      "<class 'pandas.core.frame.DataFrame'>\n",
      "RangeIndex: 70000 entries, 0 to 69999\n",
      "Data columns (total 13 columns):\n",
      " #   Column    Non-Null Count  Dtype  \n",
      "---  ------    --------------  -----  \n",
      " 0   alpha     70000 non-null  float64\n",
      " 1   delta     70000 non-null  float64\n",
      " 2   u         70000 non-null  float64\n",
      " 3   g         70000 non-null  float64\n",
      " 4   r         70000 non-null  float64\n",
      " 5   i         70000 non-null  float64\n",
      " 6   z         70000 non-null  float64\n",
      " 7   redshift  70000 non-null  float64\n",
      " 8   run_ID    70000 non-null  int64  \n",
      " 9   rerun_ID  70000 non-null  int64  \n",
      " 10  cam_col   70000 non-null  int64  \n",
      " 11  field_ID  70000 non-null  int64  \n",
      " 12  plate     70000 non-null  int64  \n",
      "dtypes: float64(8), int64(5)\n",
      "memory usage: 6.9 MB\n",
      "None\n"
     ]
    }
   ],
   "source": [
    "print(X_train.info())"
   ]
  },
  {
   "cell_type": "code",
   "execution_count": 151,
   "id": "f66432a2",
   "metadata": {
    "scrolled": true
   },
   "outputs": [
    {
     "data": {
      "text/html": [
       "<div>\n",
       "<style scoped>\n",
       "    .dataframe tbody tr th:only-of-type {\n",
       "        vertical-align: middle;\n",
       "    }\n",
       "\n",
       "    .dataframe tbody tr th {\n",
       "        vertical-align: top;\n",
       "    }\n",
       "\n",
       "    .dataframe thead th {\n",
       "        text-align: right;\n",
       "    }\n",
       "</style>\n",
       "<table border=\"1\" class=\"dataframe\">\n",
       "  <thead>\n",
       "    <tr style=\"text-align: right;\">\n",
       "      <th></th>\n",
       "      <th>alpha</th>\n",
       "      <th>delta</th>\n",
       "      <th>u</th>\n",
       "      <th>g</th>\n",
       "      <th>r</th>\n",
       "      <th>i</th>\n",
       "      <th>z</th>\n",
       "      <th>redshift</th>\n",
       "      <th>run_ID</th>\n",
       "      <th>rerun_ID</th>\n",
       "      <th>cam_col</th>\n",
       "      <th>field_ID</th>\n",
       "      <th>plate</th>\n",
       "    </tr>\n",
       "  </thead>\n",
       "  <tbody>\n",
       "    <tr>\n",
       "      <th>count</th>\n",
       "      <td>70000.000000</td>\n",
       "      <td>70000.000000</td>\n",
       "      <td>70000.000000</td>\n",
       "      <td>70000.000000</td>\n",
       "      <td>70000.000000</td>\n",
       "      <td>70000.000000</td>\n",
       "      <td>70000.000000</td>\n",
       "      <td>70000.000000</td>\n",
       "      <td>70000.000000</td>\n",
       "      <td>70000.0</td>\n",
       "      <td>70000.000000</td>\n",
       "      <td>70000.000000</td>\n",
       "      <td>70000.000000</td>\n",
       "    </tr>\n",
       "    <tr>\n",
       "      <th>mean</th>\n",
       "      <td>177.535809</td>\n",
       "      <td>24.107885</td>\n",
       "      <td>21.938806</td>\n",
       "      <td>20.486718</td>\n",
       "      <td>19.644011</td>\n",
       "      <td>19.082969</td>\n",
       "      <td>18.624590</td>\n",
       "      <td>0.575246</td>\n",
       "      <td>4478.649443</td>\n",
       "      <td>301.0</td>\n",
       "      <td>3.510500</td>\n",
       "      <td>186.045714</td>\n",
       "      <td>5127.852900</td>\n",
       "    </tr>\n",
       "    <tr>\n",
       "      <th>std</th>\n",
       "      <td>96.483093</td>\n",
       "      <td>19.665057</td>\n",
       "      <td>37.942814</td>\n",
       "      <td>37.925201</td>\n",
       "      <td>1.852053</td>\n",
       "      <td>1.755997</td>\n",
       "      <td>37.904705</td>\n",
       "      <td>0.729921</td>\n",
       "      <td>1965.326847</td>\n",
       "      <td>0.0</td>\n",
       "      <td>1.585203</td>\n",
       "      <td>148.661268</td>\n",
       "      <td>2947.452991</td>\n",
       "    </tr>\n",
       "    <tr>\n",
       "      <th>min</th>\n",
       "      <td>0.005528</td>\n",
       "      <td>-18.785328</td>\n",
       "      <td>-9999.000000</td>\n",
       "      <td>-9999.000000</td>\n",
       "      <td>9.822070</td>\n",
       "      <td>9.469903</td>\n",
       "      <td>-9999.000000</td>\n",
       "      <td>-0.009971</td>\n",
       "      <td>109.000000</td>\n",
       "      <td>301.0</td>\n",
       "      <td>1.000000</td>\n",
       "      <td>11.000000</td>\n",
       "      <td>266.000000</td>\n",
       "    </tr>\n",
       "    <tr>\n",
       "      <th>25%</th>\n",
       "      <td>127.385304</td>\n",
       "      <td>5.115922</td>\n",
       "      <td>20.349987</td>\n",
       "      <td>18.957325</td>\n",
       "      <td>18.136183</td>\n",
       "      <td>17.733732</td>\n",
       "      <td>17.463838</td>\n",
       "      <td>0.052602</td>\n",
       "      <td>3185.000000</td>\n",
       "      <td>301.0</td>\n",
       "      <td>2.000000</td>\n",
       "      <td>82.000000</td>\n",
       "      <td>2525.750000</td>\n",
       "    </tr>\n",
       "    <tr>\n",
       "      <th>50%</th>\n",
       "      <td>180.706865</td>\n",
       "      <td>23.579507</td>\n",
       "      <td>22.183860</td>\n",
       "      <td>21.095445</td>\n",
       "      <td>20.122805</td>\n",
       "      <td>19.399590</td>\n",
       "      <td>19.001010</td>\n",
       "      <td>0.422838</td>\n",
       "      <td>4188.000000</td>\n",
       "      <td>301.0</td>\n",
       "      <td>4.000000</td>\n",
       "      <td>146.000000</td>\n",
       "      <td>4978.000000</td>\n",
       "    </tr>\n",
       "    <tr>\n",
       "      <th>75%</th>\n",
       "      <td>233.942154</td>\n",
       "      <td>39.871336</td>\n",
       "      <td>23.684145</td>\n",
       "      <td>22.121073</td>\n",
       "      <td>21.039012</td>\n",
       "      <td>20.391340</td>\n",
       "      <td>19.917578</td>\n",
       "      <td>0.700399</td>\n",
       "      <td>5326.000000</td>\n",
       "      <td>301.0</td>\n",
       "      <td>5.000000</td>\n",
       "      <td>241.000000</td>\n",
       "      <td>7389.000000</td>\n",
       "    </tr>\n",
       "    <tr>\n",
       "      <th>max</th>\n",
       "      <td>359.999615</td>\n",
       "      <td>82.947622</td>\n",
       "      <td>32.781390</td>\n",
       "      <td>31.602240</td>\n",
       "      <td>29.571860</td>\n",
       "      <td>32.141470</td>\n",
       "      <td>28.790550</td>\n",
       "      <td>7.011245</td>\n",
       "      <td>8162.000000</td>\n",
       "      <td>301.0</td>\n",
       "      <td>6.000000</td>\n",
       "      <td>989.000000</td>\n",
       "      <td>12547.000000</td>\n",
       "    </tr>\n",
       "  </tbody>\n",
       "</table>\n",
       "</div>"
      ],
      "text/plain": [
       "              alpha         delta             u             g             r  \\\n",
       "count  70000.000000  70000.000000  70000.000000  70000.000000  70000.000000   \n",
       "mean     177.535809     24.107885     21.938806     20.486718     19.644011   \n",
       "std       96.483093     19.665057     37.942814     37.925201      1.852053   \n",
       "min        0.005528    -18.785328  -9999.000000  -9999.000000      9.822070   \n",
       "25%      127.385304      5.115922     20.349987     18.957325     18.136183   \n",
       "50%      180.706865     23.579507     22.183860     21.095445     20.122805   \n",
       "75%      233.942154     39.871336     23.684145     22.121073     21.039012   \n",
       "max      359.999615     82.947622     32.781390     31.602240     29.571860   \n",
       "\n",
       "                  i             z      redshift        run_ID  rerun_ID  \\\n",
       "count  70000.000000  70000.000000  70000.000000  70000.000000   70000.0   \n",
       "mean      19.082969     18.624590      0.575246   4478.649443     301.0   \n",
       "std        1.755997     37.904705      0.729921   1965.326847       0.0   \n",
       "min        9.469903  -9999.000000     -0.009971    109.000000     301.0   \n",
       "25%       17.733732     17.463838      0.052602   3185.000000     301.0   \n",
       "50%       19.399590     19.001010      0.422838   4188.000000     301.0   \n",
       "75%       20.391340     19.917578      0.700399   5326.000000     301.0   \n",
       "max       32.141470     28.790550      7.011245   8162.000000     301.0   \n",
       "\n",
       "            cam_col      field_ID         plate  \n",
       "count  70000.000000  70000.000000  70000.000000  \n",
       "mean       3.510500    186.045714   5127.852900  \n",
       "std        1.585203    148.661268   2947.452991  \n",
       "min        1.000000     11.000000    266.000000  \n",
       "25%        2.000000     82.000000   2525.750000  \n",
       "50%        4.000000    146.000000   4978.000000  \n",
       "75%        5.000000    241.000000   7389.000000  \n",
       "max        6.000000    989.000000  12547.000000  "
      ]
     },
     "execution_count": 151,
     "metadata": {},
     "output_type": "execute_result"
    }
   ],
   "source": [
    "X_train.describe()"
   ]
  },
  {
   "cell_type": "code",
   "execution_count": 154,
   "id": "d04f6997",
   "metadata": {},
   "outputs": [],
   "source": [
    "from sklearn.model_selection import train_test_split\n",
    "\n",
    "X_train, X_val, y_train, y_val = train_test_split(X_train, y_train, test_size=0.3)"
   ]
  },
  {
   "cell_type": "code",
   "execution_count": 157,
   "id": "4fc85f0a",
   "metadata": {},
   "outputs": [
    {
     "data": {
      "text/plain": [
       "RandomForestClassifier()"
      ]
     },
     "execution_count": 157,
     "metadata": {},
     "output_type": "execute_result"
    }
   ],
   "source": [
    "from sklearn.ensemble import RandomForestClassifier\n",
    "\n",
    "model_rf = RandomForestClassifier()\n",
    "model_rf.fit(X_train, y_train)"
   ]
  },
  {
   "cell_type": "code",
   "execution_count": 158,
   "id": "ef1d70ec",
   "metadata": {},
   "outputs": [
    {
     "data": {
      "text/plain": [
       "LogisticRegression()"
      ]
     },
     "execution_count": 158,
     "metadata": {},
     "output_type": "execute_result"
    }
   ],
   "source": [
    "from sklearn.linear_model import LogisticRegression\n",
    "\n",
    "model_lr = LogisticRegression()\n",
    "model_lr.fit(X_train, y_train)"
   ]
  },
  {
   "cell_type": "code",
   "execution_count": 159,
   "id": "51353027",
   "metadata": {},
   "outputs": [
    {
     "name": "stdout",
     "output_type": "stream",
     "text": [
      "[18:29:52] WARNING: /opt/concourse/worker/volumes/live/7a2b9f41-3287-451b-6691-43e9a6c0910f/volume/xgboost-split_1619728204606/work/src/learner.cc:1061: Starting in XGBoost 1.3.0, the default evaluation metric used with the objective 'binary:logistic' was changed from 'error' to 'logloss'. Explicitly set eval_metric if you'd like to restore the old behavior.\n"
     ]
    },
    {
     "data": {
      "text/plain": [
       "XGBClassifier(base_score=0.5, booster='gbtree', colsample_bylevel=1,\n",
       "              colsample_bynode=1, colsample_bytree=1, gamma=0, gpu_id=-1,\n",
       "              importance_type='gain', interaction_constraints='',\n",
       "              learning_rate=0.300000012, max_delta_step=0, max_depth=6,\n",
       "              min_child_weight=1, missing=nan, monotone_constraints='()',\n",
       "              n_estimators=100, n_jobs=8, num_parallel_tree=1, random_state=0,\n",
       "              reg_alpha=0, reg_lambda=1, scale_pos_weight=1, subsample=1,\n",
       "              tree_method='exact', validate_parameters=1, verbosity=None)"
      ]
     },
     "execution_count": 159,
     "metadata": {},
     "output_type": "execute_result"
    }
   ],
   "source": [
    "from xgboost import XGBClassifier\n",
    "\n",
    "model_xgb = XGBClassifier()\n",
    "model_xgb.fit(X_train, y_train)"
   ]
  },
  {
   "cell_type": "code",
   "execution_count": 161,
   "id": "d86ba47f",
   "metadata": {},
   "outputs": [],
   "source": [
    "y_pred_rf = model_rf.predict(X_val)\n",
    "y_pred_lr = model_lr.predict(X_val)\n",
    "y_pred_xgb = model_xgb.predict(X_val)"
   ]
  },
  {
   "cell_type": "code",
   "execution_count": 162,
   "id": "b889bac7",
   "metadata": {},
   "outputs": [],
   "source": [
    "from sklearn.metrics import classification_report, roc_auc_score"
   ]
  },
  {
   "cell_type": "code",
   "execution_count": 170,
   "id": "8fa1a500",
   "metadata": {},
   "outputs": [
    {
     "name": "stdout",
     "output_type": "stream",
     "text": [
      "------------------------------------------------------------\n",
      "랜덤포레스트 결과 확인\n",
      "              precision    recall  f1-score   support\n",
      "\n",
      "           0       0.97      0.97      0.97      8508\n",
      "           1       0.98      0.98      0.98     12492\n",
      "\n",
      "    accuracy                           0.98     21000\n",
      "   macro avg       0.98      0.98      0.98     21000\n",
      "weighted avg       0.98      0.98      0.98     21000\n",
      "\n",
      "ROC : 0.975\n",
      "------------------------------------------------------------\n",
      "로지스틱 회귀 결과 확인\n",
      "              precision    recall  f1-score   support\n",
      "\n",
      "           0       0.70      0.62      0.66      8508\n",
      "           1       0.76      0.82      0.79     12492\n",
      "\n",
      "    accuracy                           0.74     21000\n",
      "   macro avg       0.73      0.72      0.72     21000\n",
      "weighted avg       0.74      0.74      0.74     21000\n",
      "\n",
      "ROC : 0.720\n",
      "------------------------------------------------------------\n",
      "XGB 결과 확인\n",
      "              precision    recall  f1-score   support\n",
      "\n",
      "           0       0.98      0.97      0.97      8508\n",
      "           1       0.98      0.99      0.98     12492\n",
      "\n",
      "    accuracy                           0.98     21000\n",
      "   macro avg       0.98      0.98      0.98     21000\n",
      "weighted avg       0.98      0.98      0.98     21000\n",
      "\n",
      "ROC : 0.977\n"
     ]
    }
   ],
   "source": [
    "print('-'*60)\n",
    "print('랜덤포레스트 결과 확인')\n",
    "print(classification_report(y_val, y_pred_rf))\n",
    "print('ROC : %.3f'%roc_auc_score(y_val, y_pred_rf))\n",
    "\n",
    "print('-'*60)\n",
    "print('로지스틱 회귀 결과 확인')\n",
    "print(classification_report(y_val, y_pred_lr))\n",
    "print('ROC : %.3f'%roc_auc_score(y_val, y_pred_lr))\n",
    "\n",
    "print('-'*60)\n",
    "print('XGB 결과 확인')\n",
    "print(classification_report(y_val, y_pred_xgb))\n",
    "print('ROC : %.3f'%roc_auc_score(y_val, y_pred_xgb))\n"
   ]
  },
  {
   "cell_type": "code",
   "execution_count": 172,
   "id": "395946f8",
   "metadata": {},
   "outputs": [],
   "source": [
    "# xgb 성능이 가장 좋음 \n",
    "pred = model_xgb.predict(X_test)\n",
    "pd.DataFrame({'galaxy':pred}).to_csv('수험번호.csv', index=False)"
   ]
  },
  {
   "cell_type": "markdown",
   "id": "353ac44c",
   "metadata": {},
   "source": [
    "--- \n",
    "### Scaling"
   ]
  },
  {
   "cell_type": "code",
   "execution_count": 176,
   "id": "274a52d1",
   "metadata": {},
   "outputs": [],
   "source": [
    "from sklearn.preprocessing import StandardScaler\n",
    "\n",
    "scaler = StandardScaler()\n",
    "X_train_scaled = scaler.fit_transform(X_train)\n",
    "X_val_scaled = scaler.transform(X_val)\n",
    "X_test_scaled = scaler.transform(X_test)"
   ]
  },
  {
   "cell_type": "code",
   "execution_count": 177,
   "id": "1f810ba1",
   "metadata": {},
   "outputs": [
    {
     "data": {
      "text/plain": [
       "RandomForestClassifier()"
      ]
     },
     "execution_count": 177,
     "metadata": {},
     "output_type": "execute_result"
    }
   ],
   "source": [
    "model_rf = RandomForestClassifier()\n",
    "model_rf.fit(X_train_scaled, y_train)"
   ]
  },
  {
   "cell_type": "code",
   "execution_count": 178,
   "id": "74d99099",
   "metadata": {},
   "outputs": [
    {
     "data": {
      "text/plain": [
       "LogisticRegression()"
      ]
     },
     "execution_count": 178,
     "metadata": {},
     "output_type": "execute_result"
    }
   ],
   "source": [
    "model_lr = LogisticRegression()\n",
    "model_lr.fit(X_train_scaled, y_train)"
   ]
  },
  {
   "cell_type": "code",
   "execution_count": 180,
   "id": "6b0cb003",
   "metadata": {},
   "outputs": [
    {
     "name": "stdout",
     "output_type": "stream",
     "text": [
      "[18:40:16] WARNING: /opt/concourse/worker/volumes/live/7a2b9f41-3287-451b-6691-43e9a6c0910f/volume/xgboost-split_1619728204606/work/src/learner.cc:1061: Starting in XGBoost 1.3.0, the default evaluation metric used with the objective 'binary:logistic' was changed from 'error' to 'logloss'. Explicitly set eval_metric if you'd like to restore the old behavior.\n"
     ]
    },
    {
     "data": {
      "text/plain": [
       "XGBClassifier(base_score=0.5, booster='gbtree', colsample_bylevel=1,\n",
       "              colsample_bynode=1, colsample_bytree=1, gamma=0, gpu_id=-1,\n",
       "              importance_type='gain', interaction_constraints='',\n",
       "              learning_rate=0.300000012, max_delta_step=0, max_depth=6,\n",
       "              min_child_weight=1, missing=nan, monotone_constraints='()',\n",
       "              n_estimators=100, n_jobs=8, num_parallel_tree=1, random_state=0,\n",
       "              reg_alpha=0, reg_lambda=1, scale_pos_weight=1, subsample=1,\n",
       "              tree_method='exact', validate_parameters=1, verbosity=None)"
      ]
     },
     "execution_count": 180,
     "metadata": {},
     "output_type": "execute_result"
    }
   ],
   "source": [
    "model_xgb = XGBClassifier()\n",
    "model_xgb.fit(X_train_scaled, y_train)"
   ]
  },
  {
   "cell_type": "code",
   "execution_count": 181,
   "id": "d8da5ca3",
   "metadata": {},
   "outputs": [],
   "source": [
    "y_pred_rf_scaled = model_rf.predict(X_val_scaled)\n",
    "y_pred_lr_scaled = model_lr.predict(X_val_scaled)\n",
    "y_pred_xgb_scaled = model_xgb.predict(X_val_scaled)"
   ]
  },
  {
   "cell_type": "code",
   "execution_count": 182,
   "id": "2e813042",
   "metadata": {},
   "outputs": [
    {
     "name": "stdout",
     "output_type": "stream",
     "text": [
      "------------------------------------------------------------\n",
      "랜덤포레스트 결과 확인\n",
      "              precision    recall  f1-score   support\n",
      "\n",
      "           0       0.97      0.97      0.97      8508\n",
      "           1       0.98      0.98      0.98     12492\n",
      "\n",
      "    accuracy                           0.98     21000\n",
      "   macro avg       0.98      0.97      0.98     21000\n",
      "weighted avg       0.98      0.98      0.98     21000\n",
      "\n",
      "ROC : 0.975\n",
      "------------------------------------------------------------\n",
      "로지스틱 회귀 결과 확인\n",
      "              precision    recall  f1-score   support\n",
      "\n",
      "           0       0.82      0.74      0.78      8508\n",
      "           1       0.83      0.89      0.86     12492\n",
      "\n",
      "    accuracy                           0.83     21000\n",
      "   macro avg       0.83      0.81      0.82     21000\n",
      "weighted avg       0.83      0.83      0.83     21000\n",
      "\n",
      "ROC : 0.814\n",
      "------------------------------------------------------------\n",
      "XGB 결과 확인\n",
      "              precision    recall  f1-score   support\n",
      "\n",
      "           0       0.98      0.97      0.97      8508\n",
      "           1       0.98      0.99      0.98     12492\n",
      "\n",
      "    accuracy                           0.98     21000\n",
      "   macro avg       0.98      0.98      0.98     21000\n",
      "weighted avg       0.98      0.98      0.98     21000\n",
      "\n",
      "ROC : 0.977\n"
     ]
    }
   ],
   "source": [
    "print('-'*60)\n",
    "print('랜덤포레스트 결과 확인')\n",
    "print(classification_report(y_val, y_pred_rf_scaled))\n",
    "print('ROC : %.3f'%roc_auc_score(y_val, y_pred_rf_scaled))\n",
    "\n",
    "print('-'*60)\n",
    "print('로지스틱 회귀 결과 확인')\n",
    "print(classification_report(y_val, y_pred_lr_scaled))\n",
    "print('ROC : %.3f'%roc_auc_score(y_val, y_pred_lr_scaled))\n",
    "\n",
    "print('-'*60)\n",
    "print('XGB 결과 확인')\n",
    "print(classification_report(y_val, y_pred_xgb_scaled))\n",
    "print('ROC : %.3f'%roc_auc_score(y_val, y_pred_xgb_scaled))\n",
    "\n"
   ]
  },
  {
   "cell_type": "markdown",
   "id": "1b452deb",
   "metadata": {},
   "source": [
    "## corr()"
   ]
  },
  {
   "cell_type": "code",
   "execution_count": 186,
   "id": "5ee8a3c1",
   "metadata": {},
   "outputs": [],
   "source": [
    "data = pd.concat([X_train, y_train], axis=1)"
   ]
  },
  {
   "cell_type": "code",
   "execution_count": 188,
   "id": "5bbd122e",
   "metadata": {},
   "outputs": [
    {
     "data": {
      "text/html": [
       "<div>\n",
       "<style scoped>\n",
       "    .dataframe tbody tr th:only-of-type {\n",
       "        vertical-align: middle;\n",
       "    }\n",
       "\n",
       "    .dataframe tbody tr th {\n",
       "        vertical-align: top;\n",
       "    }\n",
       "\n",
       "    .dataframe thead th {\n",
       "        text-align: right;\n",
       "    }\n",
       "</style>\n",
       "<table border=\"1\" class=\"dataframe\">\n",
       "  <thead>\n",
       "    <tr style=\"text-align: right;\">\n",
       "      <th></th>\n",
       "      <th>alpha</th>\n",
       "      <th>delta</th>\n",
       "      <th>u</th>\n",
       "      <th>g</th>\n",
       "      <th>r</th>\n",
       "      <th>i</th>\n",
       "      <th>z</th>\n",
       "      <th>redshift</th>\n",
       "      <th>run_ID</th>\n",
       "      <th>rerun_ID</th>\n",
       "      <th>cam_col</th>\n",
       "      <th>field_ID</th>\n",
       "      <th>plate</th>\n",
       "      <th>galaxy</th>\n",
       "    </tr>\n",
       "  </thead>\n",
       "  <tbody>\n",
       "    <tr>\n",
       "      <th>alpha</th>\n",
       "      <td>1.000000</td>\n",
       "      <td>0.139000</td>\n",
       "      <td>-0.002002</td>\n",
       "      <td>-0.002768</td>\n",
       "      <td>-0.025369</td>\n",
       "      <td>-0.026896</td>\n",
       "      <td>-0.003128</td>\n",
       "      <td>-0.001969</td>\n",
       "      <td>-0.012478</td>\n",
       "      <td>NaN</td>\n",
       "      <td>0.017661</td>\n",
       "      <td>-0.163657</td>\n",
       "      <td>-0.003786</td>\n",
       "      <td>0.002567</td>\n",
       "    </tr>\n",
       "    <tr>\n",
       "      <th>delta</th>\n",
       "      <td>0.139000</td>\n",
       "      <td>1.000000</td>\n",
       "      <td>0.003115</td>\n",
       "      <td>0.004326</td>\n",
       "      <td>-0.007267</td>\n",
       "      <td>-0.005234</td>\n",
       "      <td>0.004437</td>\n",
       "      <td>0.030398</td>\n",
       "      <td>-0.298495</td>\n",
       "      <td>NaN</td>\n",
       "      <td>0.032912</td>\n",
       "      <td>-0.172358</td>\n",
       "      <td>0.110893</td>\n",
       "      <td>-0.040316</td>\n",
       "    </tr>\n",
       "    <tr>\n",
       "      <th>u</th>\n",
       "      <td>-0.002002</td>\n",
       "      <td>0.003115</td>\n",
       "      <td>1.000000</td>\n",
       "      <td>0.999518</td>\n",
       "      <td>0.046136</td>\n",
       "      <td>0.038878</td>\n",
       "      <td>0.998663</td>\n",
       "      <td>0.012835</td>\n",
       "      <td>0.014786</td>\n",
       "      <td>NaN</td>\n",
       "      <td>0.003959</td>\n",
       "      <td>-0.009625</td>\n",
       "      <td>0.025698</td>\n",
       "      <td>0.020667</td>\n",
       "    </tr>\n",
       "    <tr>\n",
       "      <th>g</th>\n",
       "      <td>-0.002768</td>\n",
       "      <td>0.004326</td>\n",
       "      <td>0.999518</td>\n",
       "      <td>1.000000</td>\n",
       "      <td>0.053006</td>\n",
       "      <td>0.047667</td>\n",
       "      <td>0.999411</td>\n",
       "      <td>0.020068</td>\n",
       "      <td>0.015145</td>\n",
       "      <td>NaN</td>\n",
       "      <td>0.003895</td>\n",
       "      <td>-0.010040</td>\n",
       "      <td>0.033618</td>\n",
       "      <td>0.013244</td>\n",
       "    </tr>\n",
       "    <tr>\n",
       "      <th>r</th>\n",
       "      <td>-0.025369</td>\n",
       "      <td>-0.007267</td>\n",
       "      <td>0.046136</td>\n",
       "      <td>0.053006</td>\n",
       "      <td>1.000000</td>\n",
       "      <td>0.962650</td>\n",
       "      <td>0.045787</td>\n",
       "      <td>0.432704</td>\n",
       "      <td>0.150782</td>\n",
       "      <td>NaN</td>\n",
       "      <td>0.006689</td>\n",
       "      <td>-0.025521</td>\n",
       "      <td>0.654414</td>\n",
       "      <td>-0.040485</td>\n",
       "    </tr>\n",
       "    <tr>\n",
       "      <th>i</th>\n",
       "      <td>-0.026896</td>\n",
       "      <td>-0.005234</td>\n",
       "      <td>0.038878</td>\n",
       "      <td>0.047667</td>\n",
       "      <td>0.962650</td>\n",
       "      <td>1.000000</td>\n",
       "      <td>0.047518</td>\n",
       "      <td>0.492105</td>\n",
       "      <td>0.144204</td>\n",
       "      <td>NaN</td>\n",
       "      <td>0.006036</td>\n",
       "      <td>-0.026267</td>\n",
       "      <td>0.660886</td>\n",
       "      <td>-0.162981</td>\n",
       "    </tr>\n",
       "    <tr>\n",
       "      <th>z</th>\n",
       "      <td>-0.003128</td>\n",
       "      <td>0.004437</td>\n",
       "      <td>0.998663</td>\n",
       "      <td>0.999411</td>\n",
       "      <td>0.045787</td>\n",
       "      <td>0.047518</td>\n",
       "      <td>1.000000</td>\n",
       "      <td>0.026307</td>\n",
       "      <td>0.013545</td>\n",
       "      <td>NaN</td>\n",
       "      <td>0.003862</td>\n",
       "      <td>-0.010126</td>\n",
       "      <td>0.032311</td>\n",
       "      <td>-0.005756</td>\n",
       "    </tr>\n",
       "    <tr>\n",
       "      <th>redshift</th>\n",
       "      <td>-0.001969</td>\n",
       "      <td>0.030398</td>\n",
       "      <td>0.012835</td>\n",
       "      <td>0.020068</td>\n",
       "      <td>0.432704</td>\n",
       "      <td>0.492105</td>\n",
       "      <td>0.026307</td>\n",
       "      <td>1.000000</td>\n",
       "      <td>0.061791</td>\n",
       "      <td>NaN</td>\n",
       "      <td>0.000544</td>\n",
       "      <td>-0.021300</td>\n",
       "      <td>0.385908</td>\n",
       "      <td>-0.255857</td>\n",
       "    </tr>\n",
       "    <tr>\n",
       "      <th>run_ID</th>\n",
       "      <td>-0.012478</td>\n",
       "      <td>-0.298495</td>\n",
       "      <td>0.014786</td>\n",
       "      <td>0.015145</td>\n",
       "      <td>0.150782</td>\n",
       "      <td>0.144204</td>\n",
       "      <td>0.013545</td>\n",
       "      <td>0.061791</td>\n",
       "      <td>1.000000</td>\n",
       "      <td>NaN</td>\n",
       "      <td>-0.051530</td>\n",
       "      <td>0.031112</td>\n",
       "      <td>0.239947</td>\n",
       "      <td>0.021828</td>\n",
       "    </tr>\n",
       "    <tr>\n",
       "      <th>rerun_ID</th>\n",
       "      <td>NaN</td>\n",
       "      <td>NaN</td>\n",
       "      <td>NaN</td>\n",
       "      <td>NaN</td>\n",
       "      <td>NaN</td>\n",
       "      <td>NaN</td>\n",
       "      <td>NaN</td>\n",
       "      <td>NaN</td>\n",
       "      <td>NaN</td>\n",
       "      <td>NaN</td>\n",
       "      <td>NaN</td>\n",
       "      <td>NaN</td>\n",
       "      <td>NaN</td>\n",
       "      <td>NaN</td>\n",
       "    </tr>\n",
       "    <tr>\n",
       "      <th>cam_col</th>\n",
       "      <td>0.017661</td>\n",
       "      <td>0.032912</td>\n",
       "      <td>0.003959</td>\n",
       "      <td>0.003895</td>\n",
       "      <td>0.006689</td>\n",
       "      <td>0.006036</td>\n",
       "      <td>0.003862</td>\n",
       "      <td>0.000544</td>\n",
       "      <td>-0.051530</td>\n",
       "      <td>NaN</td>\n",
       "      <td>1.000000</td>\n",
       "      <td>-0.012721</td>\n",
       "      <td>-0.005349</td>\n",
       "      <td>-0.024707</td>\n",
       "    </tr>\n",
       "    <tr>\n",
       "      <th>field_ID</th>\n",
       "      <td>-0.163657</td>\n",
       "      <td>-0.172358</td>\n",
       "      <td>-0.009625</td>\n",
       "      <td>-0.010040</td>\n",
       "      <td>-0.025521</td>\n",
       "      <td>-0.026267</td>\n",
       "      <td>-0.010126</td>\n",
       "      <td>-0.021300</td>\n",
       "      <td>0.031112</td>\n",
       "      <td>NaN</td>\n",
       "      <td>-0.012721</td>\n",
       "      <td>1.000000</td>\n",
       "      <td>-0.080614</td>\n",
       "      <td>0.039244</td>\n",
       "    </tr>\n",
       "    <tr>\n",
       "      <th>plate</th>\n",
       "      <td>-0.003786</td>\n",
       "      <td>0.110893</td>\n",
       "      <td>0.025698</td>\n",
       "      <td>0.033618</td>\n",
       "      <td>0.654414</td>\n",
       "      <td>0.660886</td>\n",
       "      <td>0.032311</td>\n",
       "      <td>0.385908</td>\n",
       "      <td>0.239947</td>\n",
       "      <td>NaN</td>\n",
       "      <td>-0.005349</td>\n",
       "      <td>-0.080614</td>\n",
       "      <td>1.000000</td>\n",
       "      <td>-0.109632</td>\n",
       "    </tr>\n",
       "    <tr>\n",
       "      <th>galaxy</th>\n",
       "      <td>0.002567</td>\n",
       "      <td>-0.040316</td>\n",
       "      <td>0.020667</td>\n",
       "      <td>0.013244</td>\n",
       "      <td>-0.040485</td>\n",
       "      <td>-0.162981</td>\n",
       "      <td>-0.005756</td>\n",
       "      <td>-0.255857</td>\n",
       "      <td>0.021828</td>\n",
       "      <td>NaN</td>\n",
       "      <td>-0.024707</td>\n",
       "      <td>0.039244</td>\n",
       "      <td>-0.109632</td>\n",
       "      <td>1.000000</td>\n",
       "    </tr>\n",
       "  </tbody>\n",
       "</table>\n",
       "</div>"
      ],
      "text/plain": [
       "             alpha     delta         u         g         r         i  \\\n",
       "alpha     1.000000  0.139000 -0.002002 -0.002768 -0.025369 -0.026896   \n",
       "delta     0.139000  1.000000  0.003115  0.004326 -0.007267 -0.005234   \n",
       "u        -0.002002  0.003115  1.000000  0.999518  0.046136  0.038878   \n",
       "g        -0.002768  0.004326  0.999518  1.000000  0.053006  0.047667   \n",
       "r        -0.025369 -0.007267  0.046136  0.053006  1.000000  0.962650   \n",
       "i        -0.026896 -0.005234  0.038878  0.047667  0.962650  1.000000   \n",
       "z        -0.003128  0.004437  0.998663  0.999411  0.045787  0.047518   \n",
       "redshift -0.001969  0.030398  0.012835  0.020068  0.432704  0.492105   \n",
       "run_ID   -0.012478 -0.298495  0.014786  0.015145  0.150782  0.144204   \n",
       "rerun_ID       NaN       NaN       NaN       NaN       NaN       NaN   \n",
       "cam_col   0.017661  0.032912  0.003959  0.003895  0.006689  0.006036   \n",
       "field_ID -0.163657 -0.172358 -0.009625 -0.010040 -0.025521 -0.026267   \n",
       "plate    -0.003786  0.110893  0.025698  0.033618  0.654414  0.660886   \n",
       "galaxy    0.002567 -0.040316  0.020667  0.013244 -0.040485 -0.162981   \n",
       "\n",
       "                 z  redshift    run_ID  rerun_ID   cam_col  field_ID  \\\n",
       "alpha    -0.003128 -0.001969 -0.012478       NaN  0.017661 -0.163657   \n",
       "delta     0.004437  0.030398 -0.298495       NaN  0.032912 -0.172358   \n",
       "u         0.998663  0.012835  0.014786       NaN  0.003959 -0.009625   \n",
       "g         0.999411  0.020068  0.015145       NaN  0.003895 -0.010040   \n",
       "r         0.045787  0.432704  0.150782       NaN  0.006689 -0.025521   \n",
       "i         0.047518  0.492105  0.144204       NaN  0.006036 -0.026267   \n",
       "z         1.000000  0.026307  0.013545       NaN  0.003862 -0.010126   \n",
       "redshift  0.026307  1.000000  0.061791       NaN  0.000544 -0.021300   \n",
       "run_ID    0.013545  0.061791  1.000000       NaN -0.051530  0.031112   \n",
       "rerun_ID       NaN       NaN       NaN       NaN       NaN       NaN   \n",
       "cam_col   0.003862  0.000544 -0.051530       NaN  1.000000 -0.012721   \n",
       "field_ID -0.010126 -0.021300  0.031112       NaN -0.012721  1.000000   \n",
       "plate     0.032311  0.385908  0.239947       NaN -0.005349 -0.080614   \n",
       "galaxy   -0.005756 -0.255857  0.021828       NaN -0.024707  0.039244   \n",
       "\n",
       "             plate    galaxy  \n",
       "alpha    -0.003786  0.002567  \n",
       "delta     0.110893 -0.040316  \n",
       "u         0.025698  0.020667  \n",
       "g         0.033618  0.013244  \n",
       "r         0.654414 -0.040485  \n",
       "i         0.660886 -0.162981  \n",
       "z         0.032311 -0.005756  \n",
       "redshift  0.385908 -0.255857  \n",
       "run_ID    0.239947  0.021828  \n",
       "rerun_ID       NaN       NaN  \n",
       "cam_col  -0.005349 -0.024707  \n",
       "field_ID -0.080614  0.039244  \n",
       "plate     1.000000 -0.109632  \n",
       "galaxy   -0.109632  1.000000  "
      ]
     },
     "execution_count": 188,
     "metadata": {},
     "output_type": "execute_result"
    }
   ],
   "source": [
    "data.corr()"
   ]
  },
  {
   "cell_type": "markdown",
   "id": "e17c67ee",
   "metadata": {},
   "source": [
    "----\n",
    "## 제2 작업형 정답안"
   ]
  },
  {
   "cell_type": "code",
   "execution_count": 237,
   "id": "fdb491d9",
   "metadata": {},
   "outputs": [
    {
     "data": {
      "text/html": [
       "<div>\n",
       "<style scoped>\n",
       "    .dataframe tbody tr th:only-of-type {\n",
       "        vertical-align: middle;\n",
       "    }\n",
       "\n",
       "    .dataframe tbody tr th {\n",
       "        vertical-align: top;\n",
       "    }\n",
       "\n",
       "    .dataframe thead th {\n",
       "        text-align: right;\n",
       "    }\n",
       "</style>\n",
       "<table border=\"1\" class=\"dataframe\">\n",
       "  <thead>\n",
       "    <tr style=\"text-align: right;\">\n",
       "      <th></th>\n",
       "      <th>alpha</th>\n",
       "      <th>delta</th>\n",
       "      <th>u</th>\n",
       "      <th>g</th>\n",
       "      <th>r</th>\n",
       "      <th>i</th>\n",
       "      <th>z</th>\n",
       "      <th>redshift</th>\n",
       "      <th>run_ID</th>\n",
       "      <th>rerun_ID</th>\n",
       "      <th>cam_col</th>\n",
       "      <th>field_ID</th>\n",
       "      <th>plate</th>\n",
       "    </tr>\n",
       "  </thead>\n",
       "  <tbody>\n",
       "    <tr>\n",
       "      <th>count</th>\n",
       "      <td>70000.000000</td>\n",
       "      <td>70000.000000</td>\n",
       "      <td>70000.000000</td>\n",
       "      <td>70000.000000</td>\n",
       "      <td>70000.000000</td>\n",
       "      <td>70000.000000</td>\n",
       "      <td>70000.000000</td>\n",
       "      <td>70000.000000</td>\n",
       "      <td>70000.000000</td>\n",
       "      <td>70000.0</td>\n",
       "      <td>70000.000000</td>\n",
       "      <td>70000.000000</td>\n",
       "      <td>70000.000000</td>\n",
       "    </tr>\n",
       "    <tr>\n",
       "      <th>mean</th>\n",
       "      <td>177.535809</td>\n",
       "      <td>24.107885</td>\n",
       "      <td>21.938806</td>\n",
       "      <td>20.486718</td>\n",
       "      <td>19.644011</td>\n",
       "      <td>19.082969</td>\n",
       "      <td>18.624590</td>\n",
       "      <td>0.575246</td>\n",
       "      <td>4478.649443</td>\n",
       "      <td>301.0</td>\n",
       "      <td>3.510500</td>\n",
       "      <td>186.045714</td>\n",
       "      <td>5127.852900</td>\n",
       "    </tr>\n",
       "    <tr>\n",
       "      <th>std</th>\n",
       "      <td>96.483093</td>\n",
       "      <td>19.665057</td>\n",
       "      <td>37.942814</td>\n",
       "      <td>37.925201</td>\n",
       "      <td>1.852053</td>\n",
       "      <td>1.755997</td>\n",
       "      <td>37.904705</td>\n",
       "      <td>0.729921</td>\n",
       "      <td>1965.326847</td>\n",
       "      <td>0.0</td>\n",
       "      <td>1.585203</td>\n",
       "      <td>148.661268</td>\n",
       "      <td>2947.452991</td>\n",
       "    </tr>\n",
       "    <tr>\n",
       "      <th>min</th>\n",
       "      <td>0.005528</td>\n",
       "      <td>-18.785328</td>\n",
       "      <td>-9999.000000</td>\n",
       "      <td>-9999.000000</td>\n",
       "      <td>9.822070</td>\n",
       "      <td>9.469903</td>\n",
       "      <td>-9999.000000</td>\n",
       "      <td>-0.009971</td>\n",
       "      <td>109.000000</td>\n",
       "      <td>301.0</td>\n",
       "      <td>1.000000</td>\n",
       "      <td>11.000000</td>\n",
       "      <td>266.000000</td>\n",
       "    </tr>\n",
       "    <tr>\n",
       "      <th>25%</th>\n",
       "      <td>127.385304</td>\n",
       "      <td>5.115922</td>\n",
       "      <td>20.349987</td>\n",
       "      <td>18.957325</td>\n",
       "      <td>18.136183</td>\n",
       "      <td>17.733732</td>\n",
       "      <td>17.463838</td>\n",
       "      <td>0.052602</td>\n",
       "      <td>3185.000000</td>\n",
       "      <td>301.0</td>\n",
       "      <td>2.000000</td>\n",
       "      <td>82.000000</td>\n",
       "      <td>2525.750000</td>\n",
       "    </tr>\n",
       "    <tr>\n",
       "      <th>50%</th>\n",
       "      <td>180.706865</td>\n",
       "      <td>23.579507</td>\n",
       "      <td>22.183860</td>\n",
       "      <td>21.095445</td>\n",
       "      <td>20.122805</td>\n",
       "      <td>19.399590</td>\n",
       "      <td>19.001010</td>\n",
       "      <td>0.422838</td>\n",
       "      <td>4188.000000</td>\n",
       "      <td>301.0</td>\n",
       "      <td>4.000000</td>\n",
       "      <td>146.000000</td>\n",
       "      <td>4978.000000</td>\n",
       "    </tr>\n",
       "    <tr>\n",
       "      <th>75%</th>\n",
       "      <td>233.942154</td>\n",
       "      <td>39.871336</td>\n",
       "      <td>23.684145</td>\n",
       "      <td>22.121073</td>\n",
       "      <td>21.039012</td>\n",
       "      <td>20.391340</td>\n",
       "      <td>19.917578</td>\n",
       "      <td>0.700399</td>\n",
       "      <td>5326.000000</td>\n",
       "      <td>301.0</td>\n",
       "      <td>5.000000</td>\n",
       "      <td>241.000000</td>\n",
       "      <td>7389.000000</td>\n",
       "    </tr>\n",
       "    <tr>\n",
       "      <th>max</th>\n",
       "      <td>359.999615</td>\n",
       "      <td>82.947622</td>\n",
       "      <td>32.781390</td>\n",
       "      <td>31.602240</td>\n",
       "      <td>29.571860</td>\n",
       "      <td>32.141470</td>\n",
       "      <td>28.790550</td>\n",
       "      <td>7.011245</td>\n",
       "      <td>8162.000000</td>\n",
       "      <td>301.0</td>\n",
       "      <td>6.000000</td>\n",
       "      <td>989.000000</td>\n",
       "      <td>12547.000000</td>\n",
       "    </tr>\n",
       "  </tbody>\n",
       "</table>\n",
       "</div>"
      ],
      "text/plain": [
       "              alpha         delta             u             g             r  \\\n",
       "count  70000.000000  70000.000000  70000.000000  70000.000000  70000.000000   \n",
       "mean     177.535809     24.107885     21.938806     20.486718     19.644011   \n",
       "std       96.483093     19.665057     37.942814     37.925201      1.852053   \n",
       "min        0.005528    -18.785328  -9999.000000  -9999.000000      9.822070   \n",
       "25%      127.385304      5.115922     20.349987     18.957325     18.136183   \n",
       "50%      180.706865     23.579507     22.183860     21.095445     20.122805   \n",
       "75%      233.942154     39.871336     23.684145     22.121073     21.039012   \n",
       "max      359.999615     82.947622     32.781390     31.602240     29.571860   \n",
       "\n",
       "                  i             z      redshift        run_ID  rerun_ID  \\\n",
       "count  70000.000000  70000.000000  70000.000000  70000.000000   70000.0   \n",
       "mean      19.082969     18.624590      0.575246   4478.649443     301.0   \n",
       "std        1.755997     37.904705      0.729921   1965.326847       0.0   \n",
       "min        9.469903  -9999.000000     -0.009971    109.000000     301.0   \n",
       "25%       17.733732     17.463838      0.052602   3185.000000     301.0   \n",
       "50%       19.399590     19.001010      0.422838   4188.000000     301.0   \n",
       "75%       20.391340     19.917578      0.700399   5326.000000     301.0   \n",
       "max       32.141470     28.790550      7.011245   8162.000000     301.0   \n",
       "\n",
       "            cam_col      field_ID         plate  \n",
       "count  70000.000000  70000.000000  70000.000000  \n",
       "mean       3.510500    186.045714   5127.852900  \n",
       "std        1.585203    148.661268   2947.452991  \n",
       "min        1.000000     11.000000    266.000000  \n",
       "25%        2.000000     82.000000   2525.750000  \n",
       "50%        4.000000    146.000000   4978.000000  \n",
       "75%        5.000000    241.000000   7389.000000  \n",
       "max        6.000000    989.000000  12547.000000  "
      ]
     },
     "execution_count": 237,
     "metadata": {},
     "output_type": "execute_result"
    }
   ],
   "source": [
    "X_train.describe()"
   ]
  },
  {
   "cell_type": "code",
   "execution_count": 238,
   "id": "ac133baa",
   "metadata": {},
   "outputs": [],
   "source": [
    "# 이상치 제거 \n",
    "y_train = y_train.loc[X_train.u != -9999]\n",
    "X_train = X_train.loc[X_train.u != -9999]\n",
    "\n",
    "X_train.reset_index(drop=True, inplace=True)\n",
    "y_train.reset_index(drop=True, inplace=True)"
   ]
  },
  {
   "cell_type": "code",
   "execution_count": 239,
   "id": "57ad18dd",
   "metadata": {},
   "outputs": [
    {
     "data": {
      "text/html": [
       "<div>\n",
       "<style scoped>\n",
       "    .dataframe tbody tr th:only-of-type {\n",
       "        vertical-align: middle;\n",
       "    }\n",
       "\n",
       "    .dataframe tbody tr th {\n",
       "        vertical-align: top;\n",
       "    }\n",
       "\n",
       "    .dataframe thead th {\n",
       "        text-align: right;\n",
       "    }\n",
       "</style>\n",
       "<table border=\"1\" class=\"dataframe\">\n",
       "  <thead>\n",
       "    <tr style=\"text-align: right;\">\n",
       "      <th></th>\n",
       "      <th>alpha</th>\n",
       "      <th>delta</th>\n",
       "      <th>u</th>\n",
       "      <th>g</th>\n",
       "      <th>r</th>\n",
       "      <th>i</th>\n",
       "      <th>z</th>\n",
       "      <th>redshift</th>\n",
       "      <th>run_ID</th>\n",
       "      <th>rerun_ID</th>\n",
       "      <th>cam_col</th>\n",
       "      <th>field_ID</th>\n",
       "      <th>plate</th>\n",
       "    </tr>\n",
       "  </thead>\n",
       "  <tbody>\n",
       "    <tr>\n",
       "      <th>count</th>\n",
       "      <td>69999.000000</td>\n",
       "      <td>69999.000000</td>\n",
       "      <td>69999.000000</td>\n",
       "      <td>69999.000000</td>\n",
       "      <td>69999.000000</td>\n",
       "      <td>69999.000000</td>\n",
       "      <td>69999.000000</td>\n",
       "      <td>69999.000000</td>\n",
       "      <td>69999.000000</td>\n",
       "      <td>69999.0</td>\n",
       "      <td>69999.000000</td>\n",
       "      <td>69999.000000</td>\n",
       "      <td>69999.000000</td>\n",
       "    </tr>\n",
       "    <tr>\n",
       "      <th>mean</th>\n",
       "      <td>177.535145</td>\n",
       "      <td>24.108238</td>\n",
       "      <td>22.081964</td>\n",
       "      <td>20.629856</td>\n",
       "      <td>19.644032</td>\n",
       "      <td>19.082984</td>\n",
       "      <td>18.767701</td>\n",
       "      <td>0.575254</td>\n",
       "      <td>4478.702681</td>\n",
       "      <td>301.0</td>\n",
       "      <td>3.510522</td>\n",
       "      <td>186.040701</td>\n",
       "      <td>5127.878813</td>\n",
       "    </tr>\n",
       "    <tr>\n",
       "      <th>std</th>\n",
       "      <td>96.483622</td>\n",
       "      <td>19.664976</td>\n",
       "      <td>2.248554</td>\n",
       "      <td>2.033576</td>\n",
       "      <td>1.852057</td>\n",
       "      <td>1.756005</td>\n",
       "      <td>1.764734</td>\n",
       "      <td>0.729923</td>\n",
       "      <td>1965.290408</td>\n",
       "      <td>0.0</td>\n",
       "      <td>1.585204</td>\n",
       "      <td>148.656411</td>\n",
       "      <td>2947.466071</td>\n",
       "    </tr>\n",
       "    <tr>\n",
       "      <th>min</th>\n",
       "      <td>0.005528</td>\n",
       "      <td>-18.785328</td>\n",
       "      <td>10.996230</td>\n",
       "      <td>10.498200</td>\n",
       "      <td>9.822070</td>\n",
       "      <td>9.469903</td>\n",
       "      <td>9.612333</td>\n",
       "      <td>-0.009971</td>\n",
       "      <td>109.000000</td>\n",
       "      <td>301.0</td>\n",
       "      <td>1.000000</td>\n",
       "      <td>11.000000</td>\n",
       "      <td>266.000000</td>\n",
       "    </tr>\n",
       "    <tr>\n",
       "      <th>25%</th>\n",
       "      <td>127.384192</td>\n",
       "      <td>5.117238</td>\n",
       "      <td>20.350000</td>\n",
       "      <td>18.957435</td>\n",
       "      <td>18.136075</td>\n",
       "      <td>17.733685</td>\n",
       "      <td>17.463885</td>\n",
       "      <td>0.052608</td>\n",
       "      <td>3185.000000</td>\n",
       "      <td>301.0</td>\n",
       "      <td>2.000000</td>\n",
       "      <td>82.000000</td>\n",
       "      <td>2525.500000</td>\n",
       "    </tr>\n",
       "    <tr>\n",
       "      <th>50%</th>\n",
       "      <td>180.705886</td>\n",
       "      <td>23.580630</td>\n",
       "      <td>22.183900</td>\n",
       "      <td>21.095450</td>\n",
       "      <td>20.122810</td>\n",
       "      <td>19.399590</td>\n",
       "      <td>19.001020</td>\n",
       "      <td>0.422848</td>\n",
       "      <td>4188.000000</td>\n",
       "      <td>301.0</td>\n",
       "      <td>4.000000</td>\n",
       "      <td>146.000000</td>\n",
       "      <td>4978.000000</td>\n",
       "    </tr>\n",
       "    <tr>\n",
       "      <th>75%</th>\n",
       "      <td>233.942330</td>\n",
       "      <td>39.872079</td>\n",
       "      <td>23.684160</td>\n",
       "      <td>22.121075</td>\n",
       "      <td>21.039035</td>\n",
       "      <td>20.391350</td>\n",
       "      <td>19.917595</td>\n",
       "      <td>0.700399</td>\n",
       "      <td>5326.000000</td>\n",
       "      <td>301.0</td>\n",
       "      <td>5.000000</td>\n",
       "      <td>241.000000</td>\n",
       "      <td>7389.000000</td>\n",
       "    </tr>\n",
       "    <tr>\n",
       "      <th>max</th>\n",
       "      <td>359.999615</td>\n",
       "      <td>82.947622</td>\n",
       "      <td>32.781390</td>\n",
       "      <td>31.602240</td>\n",
       "      <td>29.571860</td>\n",
       "      <td>32.141470</td>\n",
       "      <td>28.790550</td>\n",
       "      <td>7.011245</td>\n",
       "      <td>8162.000000</td>\n",
       "      <td>301.0</td>\n",
       "      <td>6.000000</td>\n",
       "      <td>989.000000</td>\n",
       "      <td>12547.000000</td>\n",
       "    </tr>\n",
       "  </tbody>\n",
       "</table>\n",
       "</div>"
      ],
      "text/plain": [
       "              alpha         delta             u             g             r  \\\n",
       "count  69999.000000  69999.000000  69999.000000  69999.000000  69999.000000   \n",
       "mean     177.535145     24.108238     22.081964     20.629856     19.644032   \n",
       "std       96.483622     19.664976      2.248554      2.033576      1.852057   \n",
       "min        0.005528    -18.785328     10.996230     10.498200      9.822070   \n",
       "25%      127.384192      5.117238     20.350000     18.957435     18.136075   \n",
       "50%      180.705886     23.580630     22.183900     21.095450     20.122810   \n",
       "75%      233.942330     39.872079     23.684160     22.121075     21.039035   \n",
       "max      359.999615     82.947622     32.781390     31.602240     29.571860   \n",
       "\n",
       "                  i             z      redshift        run_ID  rerun_ID  \\\n",
       "count  69999.000000  69999.000000  69999.000000  69999.000000   69999.0   \n",
       "mean      19.082984     18.767701      0.575254   4478.702681     301.0   \n",
       "std        1.756005      1.764734      0.729923   1965.290408       0.0   \n",
       "min        9.469903      9.612333     -0.009971    109.000000     301.0   \n",
       "25%       17.733685     17.463885      0.052608   3185.000000     301.0   \n",
       "50%       19.399590     19.001020      0.422848   4188.000000     301.0   \n",
       "75%       20.391350     19.917595      0.700399   5326.000000     301.0   \n",
       "max       32.141470     28.790550      7.011245   8162.000000     301.0   \n",
       "\n",
       "            cam_col      field_ID         plate  \n",
       "count  69999.000000  69999.000000  69999.000000  \n",
       "mean       3.510522    186.040701   5127.878813  \n",
       "std        1.585204    148.656411   2947.466071  \n",
       "min        1.000000     11.000000    266.000000  \n",
       "25%        2.000000     82.000000   2525.500000  \n",
       "50%        4.000000    146.000000   4978.000000  \n",
       "75%        5.000000    241.000000   7389.000000  \n",
       "max        6.000000    989.000000  12547.000000  "
      ]
     },
     "execution_count": 239,
     "metadata": {},
     "output_type": "execute_result"
    }
   ],
   "source": [
    "X_train.describe() # u 변수 하나만 이상치를 제거했는데 g, z의 이상치도 제거됨"
   ]
  },
  {
   "cell_type": "code",
   "execution_count": 240,
   "id": "073af7b4",
   "metadata": {},
   "outputs": [
    {
     "name": "stdout",
     "output_type": "stream",
     "text": [
      "0.90    1.566266\n",
      "0.91    1.675948\n",
      "0.92    1.786824\n",
      "0.93    1.910857\n",
      "0.94    2.041589\n",
      "0.95    2.186017\n",
      "0.96    2.323494\n",
      "0.97    2.485796\n",
      "0.98    2.713839\n",
      "0.99    3.116165\n",
      "1.00    7.011245\n",
      "Name: redshift, dtype: float64\n"
     ]
    }
   ],
   "source": [
    "print(X_train['redshift'].quantile([q/100 for q in range(90, 101)]))"
   ]
  },
  {
   "cell_type": "markdown",
   "id": "c561e246",
   "metadata": {},
   "source": [
    "### -> 약 2%만 3을 넘음"
   ]
  },
  {
   "cell_type": "code",
   "execution_count": 241,
   "id": "8e1ae142",
   "metadata": {},
   "outputs": [],
   "source": [
    "# 파생변수 추가\n",
    "X_train['redshift_upper3'] = np.where(X_train['redshift']>3, 1, 0)\n",
    "X_test['redshift_upper3'] = np.where(X_test['redshift']>3, 1, 0)"
   ]
  },
  {
   "cell_type": "code",
   "execution_count": 242,
   "id": "449598ff",
   "metadata": {},
   "outputs": [],
   "source": [
    "COL_DEL = []\n",
    "COL_NUM = ['alpha', 'delta', 'u', 'g', 'r', 'i', 'z', 'redshift']\n",
    "COL_CAT = ['run_ID', 'rerun_ID', 'cam_col', 'field_ID', 'plate', 'redshift_upper3']\n",
    "COL_Y = ['galaxy']\n",
    "\n",
    "X_train[COL_CAT] = X_train[COL_CAT].astype(str)\n",
    "X_test[COL_CAT] = X_test[COL_CAT].astype(str)\n",
    "\n",
    "X_train = X_train.drop(COL_DEL, axis=1)\n",
    "X_test = X_test.drop(COL_DEL, axis=1)"
   ]
  },
  {
   "cell_type": "code",
   "execution_count": 244,
   "id": "2943b127",
   "metadata": {},
   "outputs": [
    {
     "name": "stdout",
     "output_type": "stream",
     "text": [
      "--------------------------------------------------------------------------------\n",
      "alpha\n",
      "          count        mean        std       min         25%         50%  \\\n",
      "galaxy                                                                     \n",
      "0       28433.0  177.234737  99.202036  0.010959  120.997187  180.253146   \n",
      "1       41566.0  177.740638  94.579769  0.005528  131.392267  181.032298   \n",
      "\n",
      "               75%         max  \n",
      "galaxy                          \n",
      "0       239.025694  359.999615  \n",
      "1       231.397544  359.989386  \n",
      "\n",
      "--------------------------------------------------------------------------------\n",
      "delta\n",
      "          count       mean        std        min       25%        50%  \\\n",
      "galaxy                                                                  \n",
      "0       28433.0  25.067356  20.141007 -18.785328  5.060842  26.372836   \n",
      "1       41566.0  23.452158  19.305416 -12.364701  5.136824  22.255904   \n",
      "\n",
      "              75%        max  \n",
      "galaxy                        \n",
      "0       41.762988  82.947622  \n",
      "1       37.855667  77.615588  \n",
      "\n",
      "--------------------------------------------------------------------------------\n",
      "u\n",
      "          count      mean       std       min        25%        50%  \\\n",
      "galaxy                                                                \n",
      "0       28433.0  21.34313  2.010059  10.99623  19.987270  21.355940   \n",
      "1       41566.0  22.58736  2.263188  13.89799  20.786442  22.847385   \n",
      "\n",
      "              75%       max  \n",
      "galaxy                       \n",
      "0       22.548860  32.78139  \n",
      "1       24.207522  29.32565  \n",
      "\n",
      "--------------------------------------------------------------------------------\n",
      "g\n",
      "          count       mean       std       min       25%        50%  \\\n",
      "galaxy                                                                \n",
      "0       28433.0  20.231791  1.851996  10.49820  19.00707  20.579190   \n",
      "1       41566.0  20.902150  2.106089  12.68849  18.90630  21.581005   \n",
      "\n",
      "              75%       max  \n",
      "galaxy                       \n",
      "0       21.533270  30.60700  \n",
      "1       22.439442  31.60224  \n",
      "\n",
      "--------------------------------------------------------------------------------\n",
      "r\n",
      "          count       mean       std       min        25%       50%  \\\n",
      "galaxy                                                                \n",
      "0       28433.0  19.734722  1.818405   9.82207  18.541890  20.15357   \n",
      "1       41566.0  19.581995  1.872222  11.77229  17.812303  20.10107   \n",
      "\n",
      "              75%       max  \n",
      "galaxy                       \n",
      "0       21.125780  29.37411  \n",
      "1       20.963275  29.57186  \n",
      "\n",
      "--------------------------------------------------------------------------------\n",
      "i\n",
      "          count       mean       std        min        25%        50%  \\\n",
      "galaxy                                                                  \n",
      "0       28433.0  19.429044  1.795189   9.469903  18.254250  19.831600   \n",
      "1       41566.0  18.846264  1.688337  11.319370  17.377382  19.217675   \n",
      "\n",
      "              75%       max  \n",
      "galaxy                       \n",
      "0       20.825140  32.14147  \n",
      "1       19.934773  30.16359  \n",
      "\n",
      "--------------------------------------------------------------------------------\n",
      "z\n",
      "          count       mean       std        min       25%       50%  \\\n",
      "galaxy                                                                \n",
      "0       28433.0  19.240711  1.811976   9.612333  18.03419  19.61244   \n",
      "1       41566.0  18.444141  1.655606  10.897380  17.09492  18.76067   \n",
      "\n",
      "              75%       max  \n",
      "galaxy                       \n",
      "0       20.627150  28.79055  \n",
      "1       19.463442  28.23829  \n",
      "\n",
      "--------------------------------------------------------------------------------\n",
      "redshift\n",
      "          count      mean       std       min       25%       50%       75%  \\\n",
      "galaxy                                                                        \n",
      "0       28433.0  0.801073  1.060163 -0.004136 -0.000095  0.000388  1.540357   \n",
      "1       41566.0  0.420785  0.263971 -0.009971  0.164568  0.456604  0.593396   \n",
      "\n",
      "             max  \n",
      "galaxy            \n",
      "0       7.011245  \n",
      "1       1.995524  \n",
      "\n"
     ]
    }
   ],
   "source": [
    "train_df = pd.concat([X_train, y_train], axis=1)\n",
    "\n",
    "for _col in COL_NUM:\n",
    "    print('-'*80)\n",
    "    print(_col)\n",
    "    print(train_df.groupby(COL_Y)[_col].describe(), end='\\n\\n')\n",
    "# 수치형 중 의미가 있어보이는 변수는 redshift\n",
    "# redshift가 타겟 클래스 별로 평균값이 차이가 크게 나니까"
   ]
  },
  {
   "cell_type": "code",
   "execution_count": 245,
   "id": "ea252935",
   "metadata": {},
   "outputs": [
    {
     "name": "stdout",
     "output_type": "stream",
     "text": [
      "    run_ID  galaxy\n",
      "97    2883     1.0\n",
      "325   6121     1.0\n",
      "399   8054     1.0\n",
      "38    1897     1.0\n",
      "245   4800     1.0\n",
      "..     ...     ...\n",
      "292   5378     0.0\n",
      "279   5237     0.0\n",
      "268   5115     0.0\n",
      "261   5060     0.0\n",
      "424    994     0.0\n",
      "\n",
      "[425 rows x 2 columns]\n",
      "\n",
      "  rerun_ID    galaxy\n",
      "0      301  0.593808\n",
      "\n",
      "  cam_col    galaxy\n",
      "0       1  0.619151\n",
      "3       4  0.612120\n",
      "4       5  0.610490\n",
      "2       3  0.593031\n",
      "1       2  0.583152\n",
      "5       6  0.530405\n",
      "\n",
      "    field_ID  galaxy\n",
      "676      717     1.0\n",
      "750      788     1.0\n",
      "667      708     1.0\n",
      "704      746     1.0\n",
      "706      748     1.0\n",
      "..       ...     ...\n",
      "830      934     0.0\n",
      "829      933     0.0\n",
      "828      932     0.0\n",
      "827      931     0.0\n",
      "835      940     0.0\n",
      "\n",
      "[847 rows x 2 columns]\n",
      "\n",
      "     plate  galaxy\n",
      "6186   999     1.0\n",
      "4292  6417     1.0\n",
      "4263  6388     1.0\n",
      "4264  6389     1.0\n",
      "1082  1900     1.0\n",
      "...    ...     ...\n",
      "1653  2560     0.0\n",
      "1655  2563     0.0\n",
      "1656  2564     0.0\n",
      "3569  5343     0.0\n",
      "1073  1891     0.0\n",
      "\n",
      "[6187 rows x 2 columns]\n",
      "\n",
      "  redshift_upper3    galaxy\n",
      "0               0  0.601125\n",
      "1               1  0.000000\n",
      "\n"
     ]
    }
   ],
   "source": [
    "for _col in COL_CAT:\n",
    "    print(train_df.groupby(_col, as_index=False)[COL_Y].mean().sort_values(by=COL_Y, ascending=False), end='\\n\\n')\n",
    "\n",
    "# 범주형 중 의미있어 보이는 변수 : cam_col, redshift_upper3"
   ]
  },
  {
   "cell_type": "code",
   "execution_count": 246,
   "id": "9ca83fc3",
   "metadata": {},
   "outputs": [],
   "source": [
    "from sklearn.preprocessing import LabelEncoder\n",
    "X = pd.concat([X_train, X_test])\n",
    "\n",
    "for _col in COL_CAT:\n",
    "    le = LabelEncoder()\n",
    "    le.fit(X[_col])\n",
    "    X_train[_col] = le.transform(X_train[_col])\n",
    "    X_test[_col] = le.transform(X_test[_col])"
   ]
  },
  {
   "cell_type": "code",
   "execution_count": 247,
   "id": "dda9b563",
   "metadata": {},
   "outputs": [],
   "source": [
    "from sklearn.model_selection import train_test_split\n",
    "\n",
    "X_tr, X_val, y_tr, y_val = train_test_split(X_train, y_train, test_size=0.3, stratify=y_train)"
   ]
  },
  {
   "cell_type": "code",
   "execution_count": 248,
   "id": "36bc69f8",
   "metadata": {},
   "outputs": [],
   "source": [
    "from sklearn.preprocessing import StandardScaler\n",
    "\n",
    "scaler = StandardScaler()\n",
    "X_tr[COL_NUM] = scaler.fit_transform(X_tr[COL_NUM])\n",
    "X_val[COL_NUM] = scaler.transform(X_val[COL_NUM])\n",
    "X_test[COL_NUM] = scaler.transform(X_test[COL_NUM])"
   ]
  },
  {
   "cell_type": "code",
   "execution_count": 249,
   "id": "0dad2730",
   "metadata": {},
   "outputs": [
    {
     "data": {
      "text/plain": [
       "RandomForestClassifier()"
      ]
     },
     "execution_count": 249,
     "metadata": {},
     "output_type": "execute_result"
    }
   ],
   "source": [
    "from sklearn.ensemble import RandomForestClassifier\n",
    "\n",
    "model_rf = RandomForestClassifier()\n",
    "model_rf.fit(X_tr, y_tr.values.ravel())"
   ]
  },
  {
   "cell_type": "code",
   "execution_count": 250,
   "id": "efb712f3",
   "metadata": {},
   "outputs": [
    {
     "name": "stdout",
     "output_type": "stream",
     "text": [
      "[19:16:30] WARNING: /opt/concourse/worker/volumes/live/7a2b9f41-3287-451b-6691-43e9a6c0910f/volume/xgboost-split_1619728204606/work/src/learner.cc:1061: Starting in XGBoost 1.3.0, the default evaluation metric used with the objective 'binary:logistic' was changed from 'error' to 'logloss'. Explicitly set eval_metric if you'd like to restore the old behavior.\n"
     ]
    },
    {
     "data": {
      "text/plain": [
       "XGBClassifier(base_score=0.5, booster='gbtree', colsample_bylevel=1,\n",
       "              colsample_bynode=1, colsample_bytree=1, gamma=0, gpu_id=-1,\n",
       "              importance_type='gain', interaction_constraints='',\n",
       "              learning_rate=0.300000012, max_delta_step=0, max_depth=6,\n",
       "              min_child_weight=1, missing=nan, monotone_constraints='()',\n",
       "              n_estimators=100, n_jobs=8, num_parallel_tree=1, random_state=0,\n",
       "              reg_alpha=0, reg_lambda=1, scale_pos_weight=1, subsample=1,\n",
       "              tree_method='exact', validate_parameters=1, verbosity=None)"
      ]
     },
     "execution_count": 250,
     "metadata": {},
     "output_type": "execute_result"
    }
   ],
   "source": [
    "from xgboost import XGBClassifier\n",
    "\n",
    "model_xgb1 = XGBClassifier()\n",
    "model_xgb1.fit(X_tr, y_tr.values.ravel())"
   ]
  },
  {
   "cell_type": "code",
   "execution_count": 251,
   "id": "74fab481",
   "metadata": {},
   "outputs": [
    {
     "name": "stdout",
     "output_type": "stream",
     "text": [
      "0.9934614563815996\n",
      "0.9940268226392814\n"
     ]
    }
   ],
   "source": [
    "from sklearn.metrics import roc_auc_score\n",
    "\n",
    "y_pred_rf = model_rf.predict_proba(X_val)\n",
    "y_pred_xgb1 = model_xgb1.predict_proba(X_val)\n",
    "\n",
    "score_rf = roc_auc_score(y_val, y_pred_rf[:, 1])\n",
    "score_xgb1 = roc_auc_score(y_val, y_pred_xgb1[:, 1])\n",
    "\n",
    "print(score_rf)\n",
    "print(score_xgb1)"
   ]
  },
  {
   "cell_type": "code",
   "execution_count": 252,
   "id": "08a379e2",
   "metadata": {},
   "outputs": [
    {
     "data": {
      "text/html": [
       "<div>\n",
       "<style scoped>\n",
       "    .dataframe tbody tr th:only-of-type {\n",
       "        vertical-align: middle;\n",
       "    }\n",
       "\n",
       "    .dataframe tbody tr th {\n",
       "        vertical-align: top;\n",
       "    }\n",
       "\n",
       "    .dataframe thead th {\n",
       "        text-align: right;\n",
       "    }\n",
       "</style>\n",
       "<table border=\"1\" class=\"dataframe\">\n",
       "  <thead>\n",
       "    <tr style=\"text-align: right;\">\n",
       "      <th></th>\n",
       "      <th>feature</th>\n",
       "      <th>fi_rf</th>\n",
       "      <th>fi_xgb</th>\n",
       "    </tr>\n",
       "  </thead>\n",
       "  <tbody>\n",
       "    <tr>\n",
       "      <th>0</th>\n",
       "      <td>alpha</td>\n",
       "      <td>0.015466</td>\n",
       "      <td>0.010570</td>\n",
       "    </tr>\n",
       "    <tr>\n",
       "      <th>1</th>\n",
       "      <td>delta</td>\n",
       "      <td>0.015602</td>\n",
       "      <td>0.010864</td>\n",
       "    </tr>\n",
       "    <tr>\n",
       "      <th>2</th>\n",
       "      <td>u</td>\n",
       "      <td>0.071872</td>\n",
       "      <td>0.026000</td>\n",
       "    </tr>\n",
       "    <tr>\n",
       "      <th>3</th>\n",
       "      <td>g</td>\n",
       "      <td>0.090088</td>\n",
       "      <td>0.092639</td>\n",
       "    </tr>\n",
       "    <tr>\n",
       "      <th>4</th>\n",
       "      <td>r</td>\n",
       "      <td>0.040008</td>\n",
       "      <td>0.018843</td>\n",
       "    </tr>\n",
       "    <tr>\n",
       "      <th>5</th>\n",
       "      <td>i</td>\n",
       "      <td>0.078979</td>\n",
       "      <td>0.020740</td>\n",
       "    </tr>\n",
       "    <tr>\n",
       "      <th>6</th>\n",
       "      <td>z</td>\n",
       "      <td>0.095941</td>\n",
       "      <td>0.041589</td>\n",
       "    </tr>\n",
       "    <tr>\n",
       "      <th>7</th>\n",
       "      <td>redshift</td>\n",
       "      <td>0.517992</td>\n",
       "      <td>0.730262</td>\n",
       "    </tr>\n",
       "    <tr>\n",
       "      <th>8</th>\n",
       "      <td>run_ID</td>\n",
       "      <td>0.010186</td>\n",
       "      <td>0.010145</td>\n",
       "    </tr>\n",
       "    <tr>\n",
       "      <th>9</th>\n",
       "      <td>rerun_ID</td>\n",
       "      <td>0.000000</td>\n",
       "      <td>0.000000</td>\n",
       "    </tr>\n",
       "    <tr>\n",
       "      <th>10</th>\n",
       "      <td>cam_col</td>\n",
       "      <td>0.004000</td>\n",
       "      <td>0.009645</td>\n",
       "    </tr>\n",
       "    <tr>\n",
       "      <th>11</th>\n",
       "      <td>field_ID</td>\n",
       "      <td>0.008100</td>\n",
       "      <td>0.009661</td>\n",
       "    </tr>\n",
       "    <tr>\n",
       "      <th>12</th>\n",
       "      <td>plate</td>\n",
       "      <td>0.043360</td>\n",
       "      <td>0.019042</td>\n",
       "    </tr>\n",
       "    <tr>\n",
       "      <th>13</th>\n",
       "      <td>redshift_upper3</td>\n",
       "      <td>0.008407</td>\n",
       "      <td>0.000000</td>\n",
       "    </tr>\n",
       "  </tbody>\n",
       "</table>\n",
       "</div>"
      ],
      "text/plain": [
       "            feature     fi_rf    fi_xgb\n",
       "0             alpha  0.015466  0.010570\n",
       "1             delta  0.015602  0.010864\n",
       "2                 u  0.071872  0.026000\n",
       "3                 g  0.090088  0.092639\n",
       "4                 r  0.040008  0.018843\n",
       "5                 i  0.078979  0.020740\n",
       "6                 z  0.095941  0.041589\n",
       "7          redshift  0.517992  0.730262\n",
       "8            run_ID  0.010186  0.010145\n",
       "9          rerun_ID  0.000000  0.000000\n",
       "10          cam_col  0.004000  0.009645\n",
       "11         field_ID  0.008100  0.009661\n",
       "12            plate  0.043360  0.019042\n",
       "13  redshift_upper3  0.008407  0.000000"
      ]
     },
     "execution_count": 252,
     "metadata": {},
     "output_type": "execute_result"
    }
   ],
   "source": [
    "pd.DataFrame({'feature':X_tr.columns, 'fi_rf':model_rf.feature_importances_, 'fi_xgb':model_xgb1.feature_importances_})"
   ]
  },
  {
   "cell_type": "code",
   "execution_count": 253,
   "id": "8c5a96f2",
   "metadata": {},
   "outputs": [],
   "source": [
    "pred = model_xgb1.predict(X_test)\n",
    "pd.DataFrame({'index':X_test.index, 'target':pred}).to_csv('수험번호_galaxy.csv', index=False)"
   ]
  },
  {
   "cell_type": "markdown",
   "id": "59718c3b",
   "metadata": {},
   "source": [
    "---"
   ]
  },
  {
   "cell_type": "code",
   "execution_count": 257,
   "id": "15f713d8",
   "metadata": {},
   "outputs": [
    {
     "data": {
      "text/plain": [
       "0.90    1.566266\n",
       "0.91    1.675948\n",
       "0.92    1.786824\n",
       "0.93    1.910857\n",
       "0.94    2.041589\n",
       "0.95    2.186017\n",
       "0.96    2.323494\n",
       "0.97    2.485796\n",
       "0.98    2.713839\n",
       "0.99    3.116165\n",
       "1.00    7.011245\n",
       "Name: redshift, dtype: float64"
      ]
     },
     "execution_count": 257,
     "metadata": {},
     "output_type": "execute_result"
    }
   ],
   "source": [
    "X_train['redshift'].quantile([q/100 for q in range(90, 101)])"
   ]
  },
  {
   "cell_type": "code",
   "execution_count": 258,
   "id": "8b4035b3",
   "metadata": {},
   "outputs": [
    {
     "data": {
      "text/plain": [
       "[0.9, 0.91, 0.92, 0.93, 0.94, 0.95, 0.96, 0.97, 0.98, 0.99, 1.0]"
      ]
     },
     "execution_count": 258,
     "metadata": {},
     "output_type": "execute_result"
    }
   ],
   "source": [
    "[q/100 for q in range(90, 101)]"
   ]
  },
  {
   "cell_type": "code",
   "execution_count": 260,
   "id": "be7340a5",
   "metadata": {},
   "outputs": [
    {
     "data": {
      "text/plain": [
       "0.90    51.013207\n",
       "0.91    51.963829\n",
       "0.92    52.967731\n",
       "0.93    54.168300\n",
       "0.94    55.440384\n",
       "0.95    56.739953\n",
       "0.96    57.910130\n",
       "0.97    59.097374\n",
       "0.98    62.424781\n",
       "0.99    65.226762\n",
       "1.00    82.947622\n",
       "Name: delta, dtype: float64"
      ]
     },
     "execution_count": 260,
     "metadata": {},
     "output_type": "execute_result"
    }
   ],
   "source": [
    "X_train['delta'].quantile([q/100 for q in range(90, 101)])"
   ]
  },
  {
   "cell_type": "code",
   "execution_count": null,
   "id": "703bdf99",
   "metadata": {},
   "outputs": [],
   "source": []
  }
 ],
 "metadata": {
  "kernelspec": {
   "display_name": "Python 3",
   "language": "python",
   "name": "python3"
  },
  "language_info": {
   "codemirror_mode": {
    "name": "ipython",
    "version": 3
   },
   "file_extension": ".py",
   "mimetype": "text/x-python",
   "name": "python",
   "nbconvert_exporter": "python",
   "pygments_lexer": "ipython3",
   "version": "3.8.8"
  }
 },
 "nbformat": 4,
 "nbformat_minor": 5
}
