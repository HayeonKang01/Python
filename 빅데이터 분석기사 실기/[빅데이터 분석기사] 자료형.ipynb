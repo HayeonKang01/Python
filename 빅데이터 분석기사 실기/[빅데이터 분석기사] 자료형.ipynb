{
 "cells": [
  {
   "cell_type": "markdown",
   "id": "a5a798b2",
   "metadata": {},
   "source": [
    "## 빅데이터 분석기사 실기\n",
    "- Python을 다룬지 꽤 되었지만 빅분기 실기 준비를 하면서 처음부터 다시 훑어보는 의미로.. \n",
    "- 예문에듀의 <빅데이터 분석기사 실기>를 참고하였다.\n",
    "---\n",
    "### 파이썬 자료형\n",
    "### 숫자형"
   ]
  },
  {
   "cell_type": "code",
   "execution_count": 2,
   "id": "53dcbe04",
   "metadata": {},
   "outputs": [
    {
     "name": "stdout",
     "output_type": "stream",
     "text": [
      "1234 -12.34\n",
      "<class 'int'> <class 'float'>\n",
      "1221.66\n",
      "<class 'float'>\n"
     ]
    }
   ],
   "source": [
    "a = 1234      # 정수형\n",
    "b = -12.34    # 실수형\n",
    "c = a + b \n",
    "\n",
    "print(a, b)\n",
    "print(type(a), type(b))\n",
    "print(c)\n",
    "print(type(c))"
   ]
  },
  {
   "cell_type": "markdown",
   "id": "d3a6a4b8",
   "metadata": {},
   "source": [
    "#### 숫자형 사칙연산"
   ]
  },
  {
   "cell_type": "code",
   "execution_count": 3,
   "id": "10cd013f",
   "metadata": {},
   "outputs": [
    {
     "name": "stdout",
     "output_type": "stream",
     "text": [
      "10\n",
      "-4\n",
      "21\n",
      "0.42857142857142855\n",
      "2187\n",
      "3\n",
      "0\n"
     ]
    }
   ],
   "source": [
    "a = 3\n",
    "b = 7\n",
    "\n",
    "print(a + b)\n",
    "print(a - b)\n",
    "print(a * b)\n",
    "print(a / b)\n",
    "print(a ** b)\n",
    "print(a % b)\n",
    "print(a // b)"
   ]
  },
  {
   "cell_type": "markdown",
   "id": "6fd4fd3f",
   "metadata": {},
   "source": [
    "### 문자형 "
   ]
  },
  {
   "cell_type": "code",
   "execution_count": 4,
   "id": "468a0913",
   "metadata": {},
   "outputs": [
    {
     "name": "stdout",
     "output_type": "stream",
     "text": [
      "Hello World\n",
      "Hello Python's Word\n",
      "\"Hello World.\" he says.\n",
      "Hello World\n",
      "Life is good\n"
     ]
    }
   ],
   "source": [
    "a = \"Hello World\"\n",
    "b = \"Hello Python's Word\"\n",
    "c = '\"Hello World.\" he says.'\n",
    "d = \"Hello World\\nLife is good\" # \\n = 줄바꿈\n",
    "\n",
    "print(a)\n",
    "print(b)\n",
    "print(c)\n",
    "print(d)"
   ]
  },
  {
   "cell_type": "markdown",
   "id": "8081e09f",
   "metadata": {},
   "source": [
    "- \\n : 줄바꿈\n",
    "- \\t : 탭"
   ]
  },
  {
   "cell_type": "markdown",
   "id": "313d8eb3",
   "metadata": {},
   "source": [
    "#### 문자형 사칙연산"
   ]
  },
  {
   "cell_type": "code",
   "execution_count": 5,
   "id": "2b4d4731",
   "metadata": {},
   "outputs": [
    {
     "name": "stdout",
     "output_type": "stream",
     "text": [
      "Python is good.\n"
     ]
    }
   ],
   "source": [
    "# 문자열 더하기\n",
    "a = \"Python\"\n",
    "b = \" \"\n",
    "c = \"is good.\"\n",
    "\n",
    "print(a + b + c)"
   ]
  },
  {
   "cell_type": "code",
   "execution_count": 6,
   "id": "4135a632",
   "metadata": {},
   "outputs": [
    {
     "name": "stdout",
     "output_type": "stream",
     "text": [
      "PythonPythonPython\n"
     ]
    }
   ],
   "source": [
    "# 문자열 곱하기\n",
    "a = \"Python\"\n",
    "\n",
    "print(a*3)"
   ]
  },
  {
   "cell_type": "code",
   "execution_count": 7,
   "id": "2a277814",
   "metadata": {},
   "outputs": [
    {
     "name": "stdout",
     "output_type": "stream",
     "text": [
      "33\n"
     ]
    }
   ],
   "source": [
    "# 문자열 길이 구하기\n",
    "a = \"Life is short, Python is valuable\"\n",
    "b = len(a)\n",
    "\n",
    "print(b)"
   ]
  },
  {
   "cell_type": "code",
   "execution_count": 8,
   "id": "06e36140",
   "metadata": {},
   "outputs": [
    {
     "name": "stdout",
     "output_type": "stream",
     "text": [
      "Love\n"
     ]
    }
   ],
   "source": [
    "# 문자열 인덱싱\n",
    "a = \"Life is short, Python is valuable\"\n",
    "b = a[0]\n",
    "c = a[10]\n",
    "d = a[-8]\n",
    "e = a[-1]\n",
    "\n",
    "print(b + c + d + e)"
   ]
  },
  {
   "cell_type": "code",
   "execution_count": 9,
   "id": "7b887357",
   "metadata": {},
   "outputs": [
    {
     "name": "stdout",
     "output_type": "stream",
     "text": [
      "Life is valuable\n"
     ]
    }
   ],
   "source": [
    "# 문자열 슬라이싱\n",
    "a = \"Life is short, Python is valuable\"\n",
    "b = a[ :4]\n",
    "c = a[4:8]\n",
    "d = a[25: ]\n",
    "\n",
    "print(b + c + d)"
   ]
  },
  {
   "cell_type": "code",
   "execution_count": 10,
   "id": "a3cd0400",
   "metadata": {},
   "outputs": [
    {
     "name": "stdout",
     "output_type": "stream",
     "text": [
      "2\n"
     ]
    }
   ],
   "source": [
    "#문자 개수 세기\n",
    "a = 'apple'\n",
    "b = a.count('p')\n",
    "\n",
    "print(b)"
   ]
  },
  {
   "cell_type": "code",
   "execution_count": 11,
   "id": "f114e8f9",
   "metadata": {},
   "outputs": [
    {
     "name": "stdout",
     "output_type": "stream",
     "text": [
      "1\n"
     ]
    }
   ],
   "source": [
    "# 문자 위치 찾기\n",
    "a = 'apple'\n",
    "b = a.find('p')\n",
    "\n",
    "print(b)"
   ]
  },
  {
   "cell_type": "code",
   "execution_count": 12,
   "id": "f446b4e8",
   "metadata": {},
   "outputs": [
    {
     "name": "stdout",
     "output_type": "stream",
     "text": [
      "a.p.p.l.e\n"
     ]
    }
   ],
   "source": [
    "# 문자열 삽입\n",
    "a = 'apple'\n",
    "b = '.'.join(a)\n",
    "\n",
    "print(b)"
   ]
  },
  {
   "cell_type": "code",
   "execution_count": 13,
   "id": "cff50cf6",
   "metadata": {},
   "outputs": [
    {
     "name": "stdout",
     "output_type": "stream",
     "text": [
      "APPLE\n",
      "apple\n"
     ]
    }
   ],
   "source": [
    "# 소문자와 대문자 바꾸기\n",
    "a = 'apple'\n",
    "b = a.upper()\n",
    "c = a.lower()\n",
    "\n",
    "print(b)\n",
    "print(c)"
   ]
  },
  {
   "cell_type": "code",
   "execution_count": 14,
   "id": "2c3a3f7b",
   "metadata": {},
   "outputs": [
    {
     "name": "stdout",
     "output_type": "stream",
     "text": [
      "apple \n",
      " apple\n",
      "apple\n"
     ]
    }
   ],
   "source": [
    "# 공백 지우기\n",
    "a = \" apple \"\n",
    "b = a.lstrip()\n",
    "c = a.rstrip()\n",
    "d = a.strip()\n",
    "\n",
    "print(b)\n",
    "print(c)\n",
    "print(d)"
   ]
  },
  {
   "cell_type": "code",
   "execution_count": 15,
   "id": "5aaf300b",
   "metadata": {},
   "outputs": [
    {
     "name": "stdout",
     "output_type": "stream",
     "text": [
      "Python is good\n"
     ]
    }
   ],
   "source": [
    "# 문자열 바꾸기\n",
    "a = \"Life is good\"\n",
    "b = a.replace(\"Life\", \"Python\")\n",
    "\n",
    "print(b)"
   ]
  },
  {
   "cell_type": "code",
   "execution_count": 16,
   "id": "fa85d9a1",
   "metadata": {},
   "outputs": [
    {
     "name": "stdout",
     "output_type": "stream",
     "text": [
      "['Life', 'is', 'short,', 'Python', 'is', 'valuable']\n",
      "['Life is short', ' Python is valuable']\n"
     ]
    }
   ],
   "source": [
    "# 문자열 나누기 \n",
    "a = \"Life is short, Python is valuable\"\n",
    "b = a.split()\n",
    "c = a.split(',')\n",
    "\n",
    "print(b)\n",
    "print(c)"
   ]
  },
  {
   "cell_type": "markdown",
   "id": "ace35260",
   "metadata": {},
   "source": [
    "### 리스트 자료형"
   ]
  },
  {
   "cell_type": "code",
   "execution_count": 17,
   "id": "fd43a6bc",
   "metadata": {},
   "outputs": [
    {
     "name": "stdout",
     "output_type": "stream",
     "text": [
      "[1, 2, 3, 4, 5, 1, 2, 3, 4, 5, 'a', 'b', 'c']\n",
      "13\n"
     ]
    }
   ],
   "source": [
    "# 리스트 기본 연산\n",
    "a = [1, 2, 3, 4, 5]\n",
    "b = ['a', 'b', 'c']\n",
    "c = a*2 + b\n",
    "d = len(c)\n",
    "\n",
    "print(c)\n",
    "print(d)"
   ]
  },
  {
   "cell_type": "code",
   "execution_count": 18,
   "id": "a8143a79",
   "metadata": {},
   "outputs": [
    {
     "name": "stdout",
     "output_type": "stream",
     "text": [
      "[1, 2, 3, 4, 5]\n",
      "1\n",
      "[2, 3, 4]\n",
      "5\n",
      "5\n",
      "[3, 4, 5]\n",
      "[3, 4, 5]\n",
      "[1, 2, 3]\n",
      "[1, 2, 3]\n"
     ]
    }
   ],
   "source": [
    "# 리스트 인덱싱과 슬라이싱\n",
    "a = [1, 2, 3, 4, 5]\n",
    "\n",
    "print(a)\n",
    "print(a[0])\n",
    "print(a[1 : 4])\n",
    "print(a[-1])\n",
    "print(a[4])\n",
    "print(a[2:])\n",
    "print(a[2:5])\n",
    "print(a[:3])\n",
    "print(a[0:3])"
   ]
  },
  {
   "cell_type": "code",
   "execution_count": 19,
   "id": "c8acc819",
   "metadata": {},
   "outputs": [
    {
     "name": "stdout",
     "output_type": "stream",
     "text": [
      "[1, 2, 3, ['a', 'b', 'c']]\n",
      "['a', 'b', 'c']\n",
      "a\n",
      "['b', 'c']\n",
      "['a']\n"
     ]
    }
   ],
   "source": [
    "# 중첩된 리스트 인덱싱과 슬라이싱\n",
    "a = [1, 2, 3, ['a', 'b', 'c']]\n",
    "\n",
    "print(a)\n",
    "print(a[3])\n",
    "print(a[3][0])\n",
    "print(a[3][1:])\n",
    "print(a[3][:1])"
   ]
  },
  {
   "cell_type": "code",
   "execution_count": 20,
   "id": "cb4513c1",
   "metadata": {},
   "outputs": [
    {
     "name": "stdout",
     "output_type": "stream",
     "text": [
      "[1, 2, 10, 4]\n"
     ]
    }
   ],
   "source": [
    "# 리스트 요소의 수정과 삭제\n",
    "a = [1, 2, 3, 4, 5]\n",
    "a[2] = 10\n",
    "del a[4]\n",
    "\n",
    "print(a)"
   ]
  },
  {
   "cell_type": "code",
   "execution_count": 21,
   "id": "a6928ae1",
   "metadata": {},
   "outputs": [
    {
     "name": "stdout",
     "output_type": "stream",
     "text": [
      "[1, 2, 3, 10]\n"
     ]
    }
   ],
   "source": [
    "# 리스트 요소 추가\n",
    "a = [1, 2, 3]\n",
    "a.append(10)\n",
    "\n",
    "print(a)"
   ]
  },
  {
   "cell_type": "code",
   "execution_count": 22,
   "id": "3336b12a",
   "metadata": {},
   "outputs": [
    {
     "name": "stdout",
     "output_type": "stream",
     "text": [
      "[1, 2, 3, 4, 5]\n"
     ]
    }
   ],
   "source": [
    "# 리스트 정렬\n",
    "a = [1, 5, 2, 4, 3]\n",
    "a.sort()\n",
    "\n",
    "print(a)"
   ]
  },
  {
   "cell_type": "code",
   "execution_count": 23,
   "id": "bf7a26b1",
   "metadata": {},
   "outputs": [
    {
     "name": "stdout",
     "output_type": "stream",
     "text": [
      "2\n",
      "0\n"
     ]
    }
   ],
   "source": [
    "# 리스트 요소의 위치 반환\n",
    "a = [5, 4, 3, 2, 1]\n",
    "b = a.index(3)\n",
    "c = a.index(5)\n",
    "\n",
    "print(b)\n",
    "print(c)"
   ]
  },
  {
   "cell_type": "code",
   "execution_count": 24,
   "id": "56b1f43f",
   "metadata": {},
   "outputs": [
    {
     "name": "stdout",
     "output_type": "stream",
     "text": [
      "[10, 1, 2, 3]\n"
     ]
    }
   ],
   "source": [
    "# 리스트 요소 삽입\n",
    "a = [1, 2, 3]\n",
    "a.insert(0, 10)\n",
    "\n",
    "print(a)"
   ]
  },
  {
   "cell_type": "code",
   "execution_count": 25,
   "id": "f39579c0",
   "metadata": {},
   "outputs": [
    {
     "name": "stdout",
     "output_type": "stream",
     "text": [
      "[5, 3, 2, 1, 5, 4, 3, 2, 1]\n"
     ]
    }
   ],
   "source": [
    "# 리스트 요소 제거\n",
    "a = [5, 4, 3, 2, 1, 5, 4, 3, 2, 1]\n",
    "a.remove(4)\n",
    "\n",
    "print(a)"
   ]
  },
  {
   "cell_type": "code",
   "execution_count": 26,
   "id": "3d19c427",
   "metadata": {},
   "outputs": [
    {
     "name": "stdout",
     "output_type": "stream",
     "text": [
      "[5, 3, 2, 1, 5, 4, 3, 2, 1]\n",
      "4\n"
     ]
    }
   ],
   "source": [
    "# 리스트 요소 뽑기\n",
    "a = [5, 4, 3, 2, 1, 5, 4, 3, 2, 1]\n",
    "b = a.pop(1)\n",
    "\n",
    "print(a)\n",
    "print(b)"
   ]
  },
  {
   "cell_type": "code",
   "execution_count": 27,
   "id": "98d0070c",
   "metadata": {},
   "outputs": [
    {
     "name": "stdout",
     "output_type": "stream",
     "text": [
      "2\n"
     ]
    }
   ],
   "source": [
    "# 리스트 요소 개수 세기\n",
    "a = [5, 4, 3, 2, 1, 5, 4, 3, 2, 1]\n",
    "b = a.count(1)\n",
    "\n",
    "print(b)"
   ]
  },
  {
   "cell_type": "markdown",
   "id": "de87822b",
   "metadata": {},
   "source": [
    "### 튜플 자료형"
   ]
  },
  {
   "cell_type": "code",
   "execution_count": 28,
   "id": "1efb3913",
   "metadata": {},
   "outputs": [
    {
     "name": "stdout",
     "output_type": "stream",
     "text": [
      "(1, 2, 3, 4, 5, 1, 2, 3, 4, 5, 'a', 'b', 'c')\n",
      "13\n"
     ]
    }
   ],
   "source": [
    "# 튜플 기본 연산\n",
    "a = (1, 2, 3, 4, 5)\n",
    "b = ('a', 'b', 'c')\n",
    "c = a * 2 + b\n",
    "d = len(c)\n",
    "\n",
    "print(c)\n",
    "print(d)"
   ]
  },
  {
   "cell_type": "code",
   "execution_count": 29,
   "id": "6a7b52dd",
   "metadata": {},
   "outputs": [
    {
     "name": "stdout",
     "output_type": "stream",
     "text": [
      "1\n",
      "('a', 'b', 'c')\n"
     ]
    }
   ],
   "source": [
    "# 튜플 인덱싱과 슬라이싱\n",
    "a = (1, 2, 3, 'a', 'b', 'c')\n",
    "\n",
    "print(a[0])\n",
    "print(a[3:])"
   ]
  },
  {
   "cell_type": "markdown",
   "id": "751e5a3c",
   "metadata": {},
   "source": [
    "### 딕셔너리 자료형"
   ]
  },
  {
   "cell_type": "code",
   "execution_count": 30,
   "id": "4bb5993f",
   "metadata": {},
   "outputs": [
    {
     "name": "stdout",
     "output_type": "stream",
     "text": [
      "{'name': 'John', 'age': 30, 'birth': [11, 8]}\n",
      "John\n",
      "[11, 8]\n"
     ]
    }
   ],
   "source": [
    "# 딕셔너리 자료 구조 \n",
    "a = {'name':'John', 'age':30, 'birth':[11, 8]}\n",
    "\n",
    "print(a)\n",
    "print(a['name'])\n",
    "print(a['birth'])"
   ]
  },
  {
   "cell_type": "code",
   "execution_count": 31,
   "id": "3c2570ca",
   "metadata": {},
   "outputs": [
    {
     "name": "stdout",
     "output_type": "stream",
     "text": [
      "{'name': 'John', 'age': 30, 'birth': [11, 8]}\n"
     ]
    }
   ],
   "source": [
    "# 딕셔너리 키-값 추가와 삭제\n",
    "a = {'name':'John'}\n",
    "a['age'] = 30\n",
    "a['house'] = 'apartment'\n",
    "a['birth'] = [11, 8]\n",
    "del a['house'] \n",
    "\n",
    "print(a)"
   ]
  },
  {
   "cell_type": "code",
   "execution_count": 32,
   "id": "06a44ca4",
   "metadata": {},
   "outputs": [
    {
     "name": "stdout",
     "output_type": "stream",
     "text": [
      "{'name': 'Park'}\n"
     ]
    }
   ],
   "source": [
    "# 딕셔너리 키 중복\n",
    "a = {'name':'John', 'name':'Park'}\n",
    "\n",
    "print(a)"
   ]
  },
  {
   "cell_type": "code",
   "execution_count": 33,
   "id": "d004eb08",
   "metadata": {},
   "outputs": [
    {
     "name": "stdout",
     "output_type": "stream",
     "text": [
      "dict_keys(['name', 'age', 'birth'])\n",
      "['name', 'age', 'birth']\n"
     ]
    }
   ],
   "source": [
    "# 딕셔너리 키 리스트 만들기\n",
    "a = {'name':'John', 'age':30, 'birth':[11, 8]}\n",
    "b = a.keys()\n",
    "c = list(a.keys())\n",
    "\n",
    "print(b)\n",
    "print(c)"
   ]
  },
  {
   "cell_type": "code",
   "execution_count": 34,
   "id": "3423d5d4",
   "metadata": {},
   "outputs": [
    {
     "name": "stdout",
     "output_type": "stream",
     "text": [
      "dict_values(['John', 30, [11, 8]])\n",
      "['John', 30, [11, 8]]\n"
     ]
    }
   ],
   "source": [
    "# 딕셔너리 값 리스트 만들기 \n",
    "a = {'name':'John', 'age':30, 'birth':[11, 8]}\n",
    "b = a.values()\n",
    "c = list(a.values())\n",
    "\n",
    "print(b)\n",
    "print(c)"
   ]
  },
  {
   "cell_type": "code",
   "execution_count": 35,
   "id": "6643f74f",
   "metadata": {},
   "outputs": [
    {
     "name": "stdout",
     "output_type": "stream",
     "text": [
      "dict_items([('name', 'John'), ('age', 30), ('birth', [11, 8])])\n",
      "[('name', 'John'), ('age', 30), ('birth', [11, 8])]\n"
     ]
    }
   ],
   "source": [
    "# 딕셔너리 키-값 리스트 만들기\n",
    "a = {'name':'John', 'age':30, 'birth':[11, 8]}\n",
    "b = a.items()\n",
    "c = list(a.items())\n",
    "\n",
    "print(b)\n",
    "print(c)"
   ]
  },
  {
   "cell_type": "code",
   "execution_count": 36,
   "id": "a5f70621",
   "metadata": {},
   "outputs": [
    {
     "name": "stdout",
     "output_type": "stream",
     "text": [
      "John\n",
      "John\n",
      "None\n",
      "No data\n"
     ]
    }
   ],
   "source": [
    "# 딕셔너리 키로 값 호출하기\n",
    "a = {'name':'John', 'age':30, 'birth':[11, 8]}\n",
    "b = a.get('name')\n",
    "c = a['name']\n",
    "d = a.get('house')\n",
    "e = a.get('house', 'No data')\n",
    "\n",
    "print(b)\n",
    "print(c)\n",
    "print(d)\n",
    "print(e)"
   ]
  },
  {
   "cell_type": "markdown",
   "id": "1aad3e1f",
   "metadata": {},
   "source": [
    "### 집합 자료형"
   ]
  },
  {
   "cell_type": "code",
   "execution_count": 37,
   "id": "1fe47cad",
   "metadata": {},
   "outputs": [
    {
     "name": "stdout",
     "output_type": "stream",
     "text": [
      "{1, 2, 3}\n",
      "{1, 2, 3}\n",
      "{'y', 'n', 'P', 'h', 't', 'o'}\n"
     ]
    }
   ],
   "source": [
    "a = {1, 2, 3, 2, 1}\n",
    "b = set([1, 2, 3, 2, 1])\n",
    "c = set('Python')\n",
    "\n",
    "print(a)\n",
    "print(b)\n",
    "print(c)"
   ]
  },
  {
   "cell_type": "code",
   "execution_count": 38,
   "id": "bfd37402",
   "metadata": {},
   "outputs": [
    {
     "name": "stdout",
     "output_type": "stream",
     "text": [
      "{1, 2, 3}\n",
      "[1, 2, 3]\n",
      "1\n",
      "(1, 2, 3)\n",
      "3\n"
     ]
    }
   ],
   "source": [
    "# 집합 자료형 변환\n",
    "a = set([1, 2, 3])\n",
    "b = list(a)\n",
    "c = tuple(a)\n",
    "\n",
    "print(a)\n",
    "print(b)\n",
    "print(b[0])\n",
    "print(c)\n",
    "print(c[2])"
   ]
  },
  {
   "cell_type": "code",
   "execution_count": 39,
   "id": "5923b0af",
   "metadata": {},
   "outputs": [
    {
     "name": "stdout",
     "output_type": "stream",
     "text": [
      "{3, 4, 5}\n",
      "{3, 4, 5}\n"
     ]
    }
   ],
   "source": [
    "# 집합 자료형 교집합\n",
    "a = set([1, 2, 3, 4, 5])\n",
    "b = set([3, 4, 5, 6, 7])\n",
    "c = a & b\n",
    "d = a.intersection(b)\n",
    "\n",
    "print(c)\n",
    "print(d)"
   ]
  },
  {
   "cell_type": "code",
   "execution_count": 40,
   "id": "383d37ec",
   "metadata": {},
   "outputs": [
    {
     "name": "stdout",
     "output_type": "stream",
     "text": [
      "{1, 2, 3, 4, 5, 6, 7}\n",
      "{1, 2, 3, 4, 5, 6, 7}\n"
     ]
    }
   ],
   "source": [
    "# 집합 자료형 합집합\n",
    "a = set([1, 2, 3, 4, 5])\n",
    "b = set([3, 4, 5, 6, 7])\n",
    "c = a | b\n",
    "d = a.union(b)\n",
    "\n",
    "print(c)\n",
    "print(d)"
   ]
  },
  {
   "cell_type": "code",
   "execution_count": 41,
   "id": "05f4802e",
   "metadata": {},
   "outputs": [
    {
     "name": "stdout",
     "output_type": "stream",
     "text": [
      "{1, 2}\n",
      "{1, 2}\n"
     ]
    }
   ],
   "source": [
    "# 집합 자료형 차집합\n",
    "a = set([1, 2, 3, 4, 5])\n",
    "b = set([3, 4, 5, 6, 7])\n",
    "c = a - b\n",
    "d = a.difference(b)\n",
    "\n",
    "print(c)\n",
    "print(d)"
   ]
  },
  {
   "cell_type": "markdown",
   "id": "769577b5",
   "metadata": {},
   "source": [
    "### 논리 자료형"
   ]
  },
  {
   "cell_type": "code",
   "execution_count": 42,
   "id": "a3918432",
   "metadata": {},
   "outputs": [
    {
     "name": "stdout",
     "output_type": "stream",
     "text": [
      "True\n",
      "<class 'bool'>\n",
      "False\n",
      "<class 'bool'>\n",
      "1\n",
      "<class 'int'>\n",
      "0\n",
      "<class 'int'>\n"
     ]
    }
   ],
   "source": [
    "a = True\n",
    "b = False\n",
    "\n",
    "print(a)\n",
    "print(type(a))\n",
    "print(b)\n",
    "print(type(b))\n",
    "print(a + b)\n",
    "print(type(a + b))\n",
    "print(a * b)\n",
    "print(type(a * b))"
   ]
  }
 ],
 "metadata": {
  "kernelspec": {
   "display_name": "Python 3",
   "language": "python",
   "name": "python3"
  },
  "language_info": {
   "codemirror_mode": {
    "name": "ipython",
    "version": 3
   },
   "file_extension": ".py",
   "mimetype": "text/x-python",
   "name": "python",
   "nbconvert_exporter": "python",
   "pygments_lexer": "ipython3",
   "version": "3.8.8"
  }
 },
 "nbformat": 4,
 "nbformat_minor": 5
}
