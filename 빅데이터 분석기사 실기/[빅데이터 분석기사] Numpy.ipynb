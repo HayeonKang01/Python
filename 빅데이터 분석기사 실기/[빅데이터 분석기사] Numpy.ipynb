{
 "cells": [
  {
   "cell_type": "code",
   "execution_count": 1,
   "id": "c399de98",
   "metadata": {},
   "outputs": [],
   "source": [
    "import numpy as np"
   ]
  },
  {
   "cell_type": "markdown",
   "id": "83bb8c80",
   "metadata": {},
   "source": [
    "### numpy 배열 생성"
   ]
  },
  {
   "cell_type": "code",
   "execution_count": 2,
   "id": "e365612d",
   "metadata": {},
   "outputs": [
    {
     "name": "stdout",
     "output_type": "stream",
     "text": [
      "[1 2 3]\n",
      "array1 type :  <class 'numpy.ndarray'>\n",
      "array1 shape :  (3,)\n"
     ]
    }
   ],
   "source": [
    "a1 = np.array([1, 2, 3])\n",
    "print(a1)\n",
    "print('array1 type : ', type(a1))\n",
    "print('array1 shape : ', a1.shape)"
   ]
  },
  {
   "cell_type": "code",
   "execution_count": 3,
   "id": "b1df6917",
   "metadata": {},
   "outputs": [
    {
     "name": "stdout",
     "output_type": "stream",
     "text": [
      "[[1 2 3]\n",
      " [4 5 6]]\n",
      "array2 type :  <class 'numpy.ndarray'>\n",
      "array2 shape :  (2, 3)\n"
     ]
    }
   ],
   "source": [
    "a2 = np.array([[1, 2, 3], [4, 5, 6]])\n",
    "print(a2)\n",
    "print('array2 type : ', type(a2))\n",
    "print('array2 shape : ', a2.shape)"
   ]
  },
  {
   "cell_type": "code",
   "execution_count": 4,
   "id": "ae5bfa17",
   "metadata": {},
   "outputs": [
    {
     "name": "stdout",
     "output_type": "stream",
     "text": [
      "[[1 2 3]]\n",
      "array3 type :  <class 'numpy.ndarray'>\n",
      "array3 shape :  (1, 3)\n"
     ]
    }
   ],
   "source": [
    "a3 = np.array([[1, 2, 3]])\n",
    "print(a3)\n",
    "print('array3 type : ', type(a3))\n",
    "print('array3 shape : ', a3.shape)"
   ]
  },
  {
   "cell_type": "markdown",
   "id": "1ac4d1c5",
   "metadata": {},
   "source": [
    "### numpy 배열 차원"
   ]
  },
  {
   "cell_type": "code",
   "execution_count": 5,
   "id": "e63492f7",
   "metadata": {},
   "outputs": [
    {
     "name": "stdout",
     "output_type": "stream",
     "text": [
      "array1 dim :  1\n",
      "array2 dim :  2\n",
      "array3 dim :  2\n"
     ]
    }
   ],
   "source": [
    "print('array1 dim : ', a1.ndim)\n",
    "print('array2 dim : ', a2.ndim)\n",
    "print('array3 dim : ', a3.ndim)"
   ]
  },
  {
   "cell_type": "code",
   "execution_count": 6,
   "id": "73834ab9",
   "metadata": {},
   "outputs": [
    {
     "name": "stdout",
     "output_type": "stream",
     "text": [
      "[ 0  1  2  3  4  5  6  7  8  9 10 11 12 13 14 15 16 17 18 19]\n"
     ]
    }
   ],
   "source": [
    "# numpy arange 함수 기본\n",
    "a = np.arange(20)\n",
    "print(a)"
   ]
  },
  {
   "cell_type": "code",
   "execution_count": 7,
   "id": "cd6ab9a9",
   "metadata": {},
   "outputs": [
    {
     "name": "stdout",
     "output_type": "stream",
     "text": [
      "[ 1  4  7 10 13 16 19]\n"
     ]
    }
   ],
   "source": [
    "# numpy arange 함수 응용\n",
    "a = np.arange(1, 20, 3)\n",
    "print(a)"
   ]
  },
  {
   "cell_type": "markdown",
   "id": "34b6fc5a",
   "metadata": {},
   "source": [
    "- cf. Python 기본 내장 함수인 rage 함수와 동일 기능 "
   ]
  },
  {
   "cell_type": "markdown",
   "id": "a0e4661d",
   "metadata": {},
   "source": [
    "### numpy 배열 초기화"
   ]
  },
  {
   "cell_type": "code",
   "execution_count": 8,
   "id": "8d456c50",
   "metadata": {},
   "outputs": [
    {
     "name": "stdout",
     "output_type": "stream",
     "text": [
      "[[0. 0. 0. 0. 0.]\n",
      " [0. 0. 0. 0. 0.]]\n",
      "[[1. 1. 1. 1.]\n",
      " [1. 1. 1. 1.]\n",
      " [1. 1. 1. 1.]]\n"
     ]
    }
   ],
   "source": [
    "zero_a = np.zeros((2, 5)) # 행, 열\n",
    "one_a = np.ones((3, 4))\n",
    "\n",
    "print(zero_a)\n",
    "print(one_a)"
   ]
  },
  {
   "cell_type": "code",
   "execution_count": 9,
   "id": "e8b1d1fd",
   "metadata": {},
   "outputs": [
    {
     "name": "stdout",
     "output_type": "stream",
     "text": [
      "[[0. 0. 0. 0.]\n",
      " [0. 0. 0. 0.]\n",
      " [0. 0. 0. 0.]]\n"
     ]
    }
   ],
   "source": [
    "# numpy zeros_like 함수 \n",
    "zero_b = np.zeros_like(one_a)\n",
    "print(zero_b)"
   ]
  },
  {
   "cell_type": "code",
   "execution_count": 10,
   "id": "85586214",
   "metadata": {},
   "outputs": [
    {
     "name": "stdout",
     "output_type": "stream",
     "text": [
      "[[1. 1. 1. 1. 1.]\n",
      " [1. 1. 1. 1. 1.]]\n"
     ]
    }
   ],
   "source": [
    "# numpy ones_like 함수 \n",
    "one_b = np.ones_like(zero_a)\n",
    "print(one_b)"
   ]
  },
  {
   "cell_type": "code",
   "execution_count": 11,
   "id": "0a93493e",
   "metadata": {},
   "outputs": [
    {
     "name": "stdout",
     "output_type": "stream",
     "text": [
      "[[9 9 9]\n",
      " [9 9 9]\n",
      " [9 9 9]\n",
      " [9 9 9]]\n",
      "[[0.19960189 0.26897281 0.76878785 0.79459951]\n",
      " [0.07490439 0.05078073 0.77813199 0.91793392]\n",
      " [0.10541102 0.71600317 0.15601655 0.52877168]]\n"
     ]
    }
   ],
   "source": [
    "# numpy full, random 함수 \n",
    "full_a = np.full((4, 3), 9) # 4행 3열 행렬을 9로 채우기\n",
    "random_a = np.random.random((3,4)) # 3행 4열 행렬을 랜덤 실수로 채우기\n",
    "\n",
    "print(full_a)\n",
    "print(random_a)"
   ]
  },
  {
   "cell_type": "code",
   "execution_count": 12,
   "id": "12ec1437",
   "metadata": {},
   "outputs": [
    {
     "name": "stdout",
     "output_type": "stream",
     "text": [
      "[[1. 0. 0. 0.]\n",
      " [0. 1. 0. 0.]\n",
      " [0. 0. 1. 0.]\n",
      " [0. 0. 0. 1.]]\n"
     ]
    }
   ],
   "source": [
    "# numpy eye 함수 (대각행렬)\n",
    "eye_a = np.eye(4)\n",
    "print(eye_a)"
   ]
  },
  {
   "cell_type": "markdown",
   "id": "41cb3233",
   "metadata": {},
   "source": [
    "### numpy 배열 크기 변형"
   ]
  },
  {
   "cell_type": "code",
   "execution_count": 13,
   "id": "dbf209de",
   "metadata": {},
   "outputs": [
    {
     "name": "stdout",
     "output_type": "stream",
     "text": [
      "array1 : \n",
      " [ 0  1  2  3  4  5  6  7  8  9 10 11]\n",
      "array2 : \n",
      " [[ 0  1  2  3]\n",
      " [ 4  5  6  7]\n",
      " [ 8  9 10 11]]\n",
      "array3 : \n",
      " [[ 0  3  6  9]\n",
      " [ 1  4  7 10]\n",
      " [ 2  5  8 11]]\n"
     ]
    }
   ],
   "source": [
    "# numpy reshape 함수 기본\n",
    "array1 = np.arange(12)\n",
    "print('array1 : \\n', array1)\n",
    "\n",
    "array2 = array1.reshape(3,4) # default 행 먼저 채워넣기\n",
    "print('array2 : \\n', array2)\n",
    "\n",
    "array3 = array1.reshape(3,4, order = 'F') # 열 기준 채워넣기\n",
    "print('array3 : \\n', array3)"
   ]
  },
  {
   "cell_type": "code",
   "execution_count": 14,
   "id": "142984ee",
   "metadata": {},
   "outputs": [
    {
     "name": "stdout",
     "output_type": "stream",
     "text": [
      "[[0 1 2 3 4]\n",
      " [5 6 7 8 9]]\n",
      "array2 dim :  2\n",
      "array2 shape :  (2, 5)\n"
     ]
    }
   ],
   "source": [
    "# numpy reshape 함수 응용\n",
    "array1 = np.arange(10)\n",
    "array2 = array1.reshape(-1, 5)\n",
    "\n",
    "print(array2)\n",
    "print('array2 dim : ', array2.ndim)\n",
    "print('array2 shape : ', array2.shape)"
   ]
  },
  {
   "cell_type": "code",
   "execution_count": 16,
   "id": "1deb5152",
   "metadata": {},
   "outputs": [
    {
     "name": "stdout",
     "output_type": "stream",
     "text": [
      "[[[ 0  6]\n",
      "  [ 2  8]\n",
      "  [ 4 10]]\n",
      "\n",
      " [[ 1  7]\n",
      "  [ 3  9]\n",
      "  [ 5 11]]]\n",
      "array2 dim :  3\n",
      "array2 shape :  (2, 3, 2)\n"
     ]
    }
   ],
   "source": [
    "# numpy reshape 함수 다차원 변형\n",
    "array1 = np.arange(12)\n",
    "array2 = array1.reshape(2,3,2, order = 'F')\n",
    "\n",
    "print(array2)\n",
    "print('array2 dim : ', array2.ndim)\n",
    "print('array2 shape : ', array2.shape)"
   ]
  },
  {
   "cell_type": "code",
   "execution_count": 25,
   "id": "b65bf517",
   "metadata": {},
   "outputs": [
    {
     "name": "stdout",
     "output_type": "stream",
     "text": [
      "[ 0  6  2  8  4 10  1  7  3  9  5 11]\n"
     ]
    }
   ],
   "source": [
    "# numpy flatten 함수 1차원 변형\n",
    "array3 = array2.flatten()\n",
    "print(array3)"
   ]
  },
  {
   "cell_type": "markdown",
   "id": "52f2d87d",
   "metadata": {},
   "source": [
    "### numpy 배열 데이터 추출하기\n",
    "### 1. 인덱싱"
   ]
  },
  {
   "cell_type": "code",
   "execution_count": 26,
   "id": "693aaacd",
   "metadata": {},
   "outputs": [
    {
     "name": "stdout",
     "output_type": "stream",
     "text": [
      "array1 :  [1 2 3 4 5 6 7 8 9]\n",
      "3\n",
      "8\n"
     ]
    }
   ],
   "source": [
    "# numpy 1차원 배열 단일값 추출\n",
    "array1 = np.arange(1, 10)\n",
    "print('array1 : ', array1)\n",
    "\n",
    "value1 = array1[2]\n",
    "value2 = array1[-2]\n",
    "\n",
    "print(value1)\n",
    "print(value2)"
   ]
  },
  {
   "cell_type": "code",
   "execution_count": 27,
   "id": "e0bd2c70",
   "metadata": {},
   "outputs": [
    {
     "name": "stdout",
     "output_type": "stream",
     "text": [
      "array2 : \n",
      " [[1 2 3]\n",
      " [4 5 6]\n",
      " [7 8 9]]\n",
      "1\n",
      "9\n",
      "8\n"
     ]
    }
   ],
   "source": [
    "# numpy 다차원 배열 단일값 추출\n",
    "array1 = np.arange(1, 10)\n",
    "array2 = array1.reshape(3, 3)\n",
    "print('array2 : \\n', array2)\n",
    "\n",
    "value1 = array2[0, 0]\n",
    "value2 = array2[-1, -1]\n",
    "value3 = array2[-1, -2]\n",
    "\n",
    "print(value1)\n",
    "print(value2)\n",
    "print(value3)"
   ]
  },
  {
   "cell_type": "markdown",
   "id": "2046405e",
   "metadata": {},
   "source": [
    "### 2. 슬라이싱"
   ]
  },
  {
   "cell_type": "code",
   "execution_count": 28,
   "id": "b4507811",
   "metadata": {},
   "outputs": [
    {
     "name": "stdout",
     "output_type": "stream",
     "text": [
      "<class 'numpy.ndarray'>\n",
      "[1 2 3]\n",
      "[1 2 3]\n",
      "[4 5 6 7 8 9]\n"
     ]
    }
   ],
   "source": [
    "# numpy 1차원 배열 슬라이싱 추출\n",
    "array1 = np.arange(1, 10)\n",
    "array2 = array1[0:3]\n",
    "array3 = array1[:3]\n",
    "array4 = array1[3:]\n",
    "\n",
    "print(type(array2))\n",
    "print(array2)\n",
    "print(array3)\n",
    "print(array4)"
   ]
  },
  {
   "cell_type": "code",
   "execution_count": 31,
   "id": "802f7f2f",
   "metadata": {},
   "outputs": [
    {
     "name": "stdout",
     "output_type": "stream",
     "text": [
      "array2 : \n",
      " [[1 2 3]\n",
      " [4 5 6]\n",
      " [7 8 9]]\n",
      "array2[0:2, 0:2]\n",
      " [[1 2]\n",
      " [4 5]]\n",
      "array2[1:3, 0:3]\n",
      " [[4 5 6]\n",
      " [7 8 9]]\n",
      "array2[:2, 1:]\n",
      " [[2 3]\n",
      " [5 6]]\n",
      "array2[:2, 0]\n",
      " [1 4]\n"
     ]
    }
   ],
   "source": [
    "# numpy 다차원 배열 슬라이싱 추출\n",
    "array1 = np.arange(1, 10)\n",
    "array2 = array1.reshape(3, 3)\n",
    "print('array2 : \\n', array2)\n",
    "\n",
    "print('array2[0:2, 0:2]\\n', array2[0:2, 0:2])\n",
    "print('array2[1:3, 0:3]\\n', array2[1:3, 0:3])\n",
    "print('array2[:2, 1:]\\n', array2[:2, 1:])\n",
    "print('array2[:2, 0]\\n', array2[:2, 0])"
   ]
  },
  {
   "cell_type": "markdown",
   "id": "4ea47b31",
   "metadata": {},
   "source": [
    "### numpy 선형대수 기본연산\n",
    "### 1. 행렬 내적(행렬 곱)"
   ]
  },
  {
   "cell_type": "code",
   "execution_count": 32,
   "id": "336663cb",
   "metadata": {},
   "outputs": [
    {
     "name": "stdout",
     "output_type": "stream",
     "text": [
      "[[ 58  64]\n",
      " [139 154]]\n"
     ]
    }
   ],
   "source": [
    "# numpy 행렬 내적 계산\n",
    "array1 = np.array([[1, 2, 3],\n",
    "                  [4, 5, 6]])\n",
    "array2 = np.array([[7, 8],\n",
    "                  [9, 10],\n",
    "                  [11, 12]])\n",
    "\n",
    "dot_array = np.dot(array1, array2)\n",
    "print(dot_array)"
   ]
  },
  {
   "cell_type": "markdown",
   "id": "814af79c",
   "metadata": {},
   "source": [
    "### 2. 전치 행렬"
   ]
  },
  {
   "cell_type": "code",
   "execution_count": 33,
   "id": "44bad08e",
   "metadata": {},
   "outputs": [
    {
     "name": "stdout",
     "output_type": "stream",
     "text": [
      "[[1 4]\n",
      " [2 5]\n",
      " [3 6]]\n"
     ]
    }
   ],
   "source": [
    "# numpy 전치 행렬 계산\n",
    "array1 = np.array([[1, 2, 3], \n",
    "                  [4, 5, 6]])\n",
    "transpose_array = np.transpose(array1)\n",
    "\n",
    "print(transpose_array)"
   ]
  },
  {
   "cell_type": "markdown",
   "id": "5b64ca73",
   "metadata": {},
   "source": [
    "### numpy 기술통계\n",
    "#### 1. 배열 데이터 개수 계산"
   ]
  },
  {
   "cell_type": "code",
   "execution_count": 34,
   "id": "579d6fb5",
   "metadata": {},
   "outputs": [
    {
     "data": {
      "text/plain": [
       "26"
      ]
     },
     "execution_count": 34,
     "metadata": {},
     "output_type": "execute_result"
    }
   ],
   "source": [
    "x = np.array([18, 5, 10, 23, 19, -8, 10, 0, 0, 5, 2, 15, 8,\n",
    "             2, 5, 4, 15, -1, 4, -7, -24, 7, 9, -6, 23, -13])\n",
    "\n",
    "len(x)"
   ]
  },
  {
   "cell_type": "markdown",
   "id": "86a05633",
   "metadata": {},
   "source": [
    "#### 2. 평균, 분산, 표준편차 계산"
   ]
  },
  {
   "cell_type": "code",
   "execution_count": 35,
   "id": "8a40fd62",
   "metadata": {},
   "outputs": [
    {
     "name": "stdout",
     "output_type": "stream",
     "text": [
      "4.8076923076923075\n",
      "115.23224852071006\n",
      "10.734628476137871\n"
     ]
    }
   ],
   "source": [
    "print(np.mean(x))\n",
    "print(np.var(x))\n",
    "print(np.std(x))"
   ]
  },
  {
   "cell_type": "markdown",
   "id": "107f1e56",
   "metadata": {},
   "source": [
    "#### 3. 최댓값, 최솟값, 중앙값 계산"
   ]
  },
  {
   "cell_type": "code",
   "execution_count": 36,
   "id": "2d108ce4",
   "metadata": {},
   "outputs": [
    {
     "name": "stdout",
     "output_type": "stream",
     "text": [
      "23\n",
      "-24\n",
      "5.0\n"
     ]
    }
   ],
   "source": [
    "print(np.max(x))\n",
    "print(np.min(x))\n",
    "print(np.median(x))"
   ]
  },
  {
   "cell_type": "markdown",
   "id": "8e6004b0",
   "metadata": {},
   "source": [
    "#### 4. 사분위수 계산"
   ]
  },
  {
   "cell_type": "code",
   "execution_count": 37,
   "id": "a71d5d2f",
   "metadata": {},
   "outputs": [
    {
     "name": "stdout",
     "output_type": "stream",
     "text": [
      "0.0\n",
      "5.0\n",
      "10.0\n"
     ]
    }
   ],
   "source": [
    "print(np.percentile(x, 25))\n",
    "print(np.percentile(x, 50))\n",
    "print(np.percentile(x, 75))"
   ]
  }
 ],
 "metadata": {
  "kernelspec": {
   "display_name": "Python 3",
   "language": "python",
   "name": "python3"
  },
  "language_info": {
   "codemirror_mode": {
    "name": "ipython",
    "version": 3
   },
   "file_extension": ".py",
   "mimetype": "text/x-python",
   "name": "python",
   "nbconvert_exporter": "python",
   "pygments_lexer": "ipython3",
   "version": "3.8.8"
  }
 },
 "nbformat": 4,
 "nbformat_minor": 5
}
