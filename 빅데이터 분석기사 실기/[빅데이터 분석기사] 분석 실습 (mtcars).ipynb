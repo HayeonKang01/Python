{
 "cells": [
  {
   "cell_type": "code",
   "execution_count": 18,
   "id": "f64cdaa9",
   "metadata": {},
   "outputs": [],
   "source": [
    "import warnings\n",
    "warnings.filterwarnings('ignore')"
   ]
  },
  {
   "cell_type": "markdown",
   "id": "842f7760",
   "metadata": {},
   "source": [
    "## 빅데이터 분석기사 실기 \n",
    "---\n",
    "### 1. 실습 A-Z : Motor Trend Car Road Tests\n",
    "1. 문제 \n",
    "- mtcars 데이터셋을 변형시킨 데이터 "
   ]
  },
  {
   "cell_type": "markdown",
   "id": "ab73a7a3",
   "metadata": {},
   "source": [
    "### 2. 사전 준비"
   ]
  },
  {
   "cell_type": "code",
   "execution_count": 1,
   "id": "248c74d5",
   "metadata": {},
   "outputs": [],
   "source": [
    "# 2. 데이터 형식 및 내용 "
   ]
  },
  {
   "cell_type": "markdown",
   "id": "96120e2c",
   "metadata": {},
   "source": [
    "### 처음 시험 시작하면 아래와 같거나 비슷한 수준의 예시 코드가 주어짐"
   ]
  },
  {
   "cell_type": "code",
   "execution_count": 4,
   "id": "747063c8",
   "metadata": {},
   "outputs": [],
   "source": [
    "# 데이터 파일 읽기 예제 \n",
    "import pandas as pd\n",
    "\n",
    "X_test = pd.read_csv('/Users/hayeon/Downloads/mpg_X_test.csv')\n",
    "X_train = pd.read_csv('/Users/hayeon/Downloads/mpg_X_train.csv')\n",
    "y_train = pd.read_csv('/Users/hayeon/Downloads/mpg_y_train.csv')"
   ]
  },
  {
   "cell_type": "markdown",
   "id": "668f5298",
   "metadata": {},
   "source": [
    "---"
   ]
  },
  {
   "cell_type": "code",
   "execution_count": 5,
   "id": "02be946d",
   "metadata": {},
   "outputs": [],
   "source": [
    "import pandas as pd\n",
    "import numpy as np"
   ]
  },
  {
   "cell_type": "code",
   "execution_count": 10,
   "id": "907d1d60",
   "metadata": {},
   "outputs": [],
   "source": [
    "X_test = pd.read_csv('/Users/hayeon/Downloads/mpg_X_test.csv')\n",
    "X_train = pd.read_csv('/Users/hayeon/Downloads/mpg_X_train.csv')\n",
    "y_train = pd.read_csv('/Users/hayeon/Downloads/mpg_y_train.csv')"
   ]
  },
  {
   "cell_type": "markdown",
   "id": "a869e1c5",
   "metadata": {},
   "source": [
    "### 3. 데이터 전처리"
   ]
  },
  {
   "cell_type": "code",
   "execution_count": 7,
   "id": "31ff2642",
   "metadata": {},
   "outputs": [
    {
     "name": "stdout",
     "output_type": "stream",
     "text": [
      "<class 'pandas.core.frame.DataFrame'>\n",
      "RangeIndex: 278 entries, 0 to 277\n",
      "Data columns (total 8 columns):\n",
      " #   Column        Non-Null Count  Dtype  \n",
      "---  ------        --------------  -----  \n",
      " 0   name          278 non-null    object \n",
      " 1   mpg           278 non-null    float64\n",
      " 2   cylinders     278 non-null    int64  \n",
      " 3   displacement  278 non-null    float64\n",
      " 4   horsepower    274 non-null    float64\n",
      " 5   weight        278 non-null    int64  \n",
      " 6   acceleration  278 non-null    float64\n",
      " 7   model_year    278 non-null    int64  \n",
      "dtypes: float64(4), int64(3), object(1)\n",
      "memory usage: 17.5+ KB\n",
      "None\n"
     ]
    }
   ],
   "source": [
    "print(X_train.info())"
   ]
  },
  {
   "cell_type": "markdown",
   "id": "1966e382",
   "metadata": {},
   "source": [
    "### imputer \n",
    "- 특정 값을 대체할 때 사용하는 모듈"
   ]
  },
  {
   "cell_type": "code",
   "execution_count": 11,
   "id": "543252ba",
   "metadata": {},
   "outputs": [],
   "source": [
    "from sklearn.impute import SimpleImputer\n",
    "\n",
    "imputer = SimpleImputer(missing_values=np.nan, strategy='mean') # nan에 해당하는 값을 바꿔준다\n",
    "X_train[['horsepower']] = imputer.fit_transform(X_train[['horsepower']])\n",
    "X_test[['horsepower']] = imputer.fit_transform(X_test[['horsepower']])"
   ]
  },
  {
   "cell_type": "code",
   "execution_count": 12,
   "id": "41fde63d",
   "metadata": {},
   "outputs": [
    {
     "name": "stdout",
     "output_type": "stream",
     "text": [
      "              mpg   cylinders  displacement  horsepower       weight  \\\n",
      "count  278.000000  278.000000    278.000000  278.000000   278.000000   \n",
      "mean    23.732734    5.374101    189.994604  103.383212  2948.464029   \n",
      "std      7.647295    1.677084    105.471423   38.695458   862.949746   \n",
      "min     10.000000    3.000000     68.000000   46.000000  1613.000000   \n",
      "25%     18.000000    4.000000     98.000000   75.000000  2206.250000   \n",
      "50%     23.000000    4.000000    140.500000   90.500000  2737.500000   \n",
      "75%     29.000000    6.000000    258.000000  118.750000  3560.000000   \n",
      "max     46.600000    8.000000    455.000000  230.000000  5140.000000   \n",
      "\n",
      "       acceleration  model_year  \n",
      "count    278.000000  278.000000  \n",
      "mean      15.580216   76.057554  \n",
      "std        2.745907    3.605591  \n",
      "min        8.000000   70.000000  \n",
      "25%       14.000000   73.000000  \n",
      "50%       15.500000   76.000000  \n",
      "75%       17.000000   79.000000  \n",
      "max       24.800000   82.000000  \n"
     ]
    }
   ],
   "source": [
    "print(X_train.describe())"
   ]
  },
  {
   "cell_type": "code",
   "execution_count": 13,
   "id": "62517690",
   "metadata": {},
   "outputs": [],
   "source": [
    "COL_DEL = ['name']\n",
    "COL_NUM = ['mpg', 'cylinders', 'displacement', 'horsepower', 'weight', 'acceleration', 'model_year']\n",
    "COL_CAT = []\n",
    "COL_Y = ['isUSA']\n",
    "\n",
    "X_train = X_train.iloc[:, 1:]\n",
    "X_test = X_test.iloc[:, 1:]"
   ]
  },
  {
   "cell_type": "code",
   "execution_count": 14,
   "id": "425617fa",
   "metadata": {
    "collapsed": true
   },
   "outputs": [
    {
     "data": {
      "text/html": [
       "<div>\n",
       "<style scoped>\n",
       "    .dataframe tbody tr th:only-of-type {\n",
       "        vertical-align: middle;\n",
       "    }\n",
       "\n",
       "    .dataframe tbody tr th {\n",
       "        vertical-align: top;\n",
       "    }\n",
       "\n",
       "    .dataframe thead th {\n",
       "        text-align: right;\n",
       "    }\n",
       "</style>\n",
       "<table border=\"1\" class=\"dataframe\">\n",
       "  <thead>\n",
       "    <tr style=\"text-align: right;\">\n",
       "      <th></th>\n",
       "      <th>mpg</th>\n",
       "      <th>cylinders</th>\n",
       "      <th>displacement</th>\n",
       "      <th>horsepower</th>\n",
       "      <th>weight</th>\n",
       "      <th>acceleration</th>\n",
       "      <th>model_year</th>\n",
       "    </tr>\n",
       "  </thead>\n",
       "  <tbody>\n",
       "    <tr>\n",
       "      <th>0</th>\n",
       "      <td>31.0</td>\n",
       "      <td>4</td>\n",
       "      <td>112.0</td>\n",
       "      <td>85.0</td>\n",
       "      <td>2575</td>\n",
       "      <td>16.2</td>\n",
       "      <td>82</td>\n",
       "    </tr>\n",
       "    <tr>\n",
       "      <th>1</th>\n",
       "      <td>13.0</td>\n",
       "      <td>8</td>\n",
       "      <td>400.0</td>\n",
       "      <td>175.0</td>\n",
       "      <td>5140</td>\n",
       "      <td>12.0</td>\n",
       "      <td>71</td>\n",
       "    </tr>\n",
       "    <tr>\n",
       "      <th>2</th>\n",
       "      <td>37.0</td>\n",
       "      <td>4</td>\n",
       "      <td>91.0</td>\n",
       "      <td>68.0</td>\n",
       "      <td>2025</td>\n",
       "      <td>18.2</td>\n",
       "      <td>82</td>\n",
       "    </tr>\n",
       "    <tr>\n",
       "      <th>3</th>\n",
       "      <td>12.0</td>\n",
       "      <td>8</td>\n",
       "      <td>350.0</td>\n",
       "      <td>180.0</td>\n",
       "      <td>4499</td>\n",
       "      <td>12.5</td>\n",
       "      <td>73</td>\n",
       "    </tr>\n",
       "    <tr>\n",
       "      <th>4</th>\n",
       "      <td>19.0</td>\n",
       "      <td>4</td>\n",
       "      <td>120.0</td>\n",
       "      <td>88.0</td>\n",
       "      <td>3270</td>\n",
       "      <td>21.9</td>\n",
       "      <td>76</td>\n",
       "    </tr>\n",
       "    <tr>\n",
       "      <th>...</th>\n",
       "      <td>...</td>\n",
       "      <td>...</td>\n",
       "      <td>...</td>\n",
       "      <td>...</td>\n",
       "      <td>...</td>\n",
       "      <td>...</td>\n",
       "      <td>...</td>\n",
       "    </tr>\n",
       "    <tr>\n",
       "      <th>273</th>\n",
       "      <td>36.1</td>\n",
       "      <td>4</td>\n",
       "      <td>91.0</td>\n",
       "      <td>60.0</td>\n",
       "      <td>1800</td>\n",
       "      <td>16.4</td>\n",
       "      <td>78</td>\n",
       "    </tr>\n",
       "    <tr>\n",
       "      <th>274</th>\n",
       "      <td>30.0</td>\n",
       "      <td>4</td>\n",
       "      <td>97.0</td>\n",
       "      <td>67.0</td>\n",
       "      <td>1985</td>\n",
       "      <td>16.4</td>\n",
       "      <td>77</td>\n",
       "    </tr>\n",
       "    <tr>\n",
       "      <th>275</th>\n",
       "      <td>33.5</td>\n",
       "      <td>4</td>\n",
       "      <td>98.0</td>\n",
       "      <td>83.0</td>\n",
       "      <td>2075</td>\n",
       "      <td>15.9</td>\n",
       "      <td>77</td>\n",
       "    </tr>\n",
       "    <tr>\n",
       "      <th>276</th>\n",
       "      <td>18.0</td>\n",
       "      <td>6</td>\n",
       "      <td>171.0</td>\n",
       "      <td>97.0</td>\n",
       "      <td>2984</td>\n",
       "      <td>14.5</td>\n",
       "      <td>75</td>\n",
       "    </tr>\n",
       "    <tr>\n",
       "      <th>277</th>\n",
       "      <td>17.0</td>\n",
       "      <td>8</td>\n",
       "      <td>304.0</td>\n",
       "      <td>150.0</td>\n",
       "      <td>3672</td>\n",
       "      <td>11.5</td>\n",
       "      <td>72</td>\n",
       "    </tr>\n",
       "  </tbody>\n",
       "</table>\n",
       "<p>278 rows × 7 columns</p>\n",
       "</div>"
      ],
      "text/plain": [
       "      mpg  cylinders  displacement  horsepower  weight  acceleration  \\\n",
       "0    31.0          4         112.0        85.0    2575          16.2   \n",
       "1    13.0          8         400.0       175.0    5140          12.0   \n",
       "2    37.0          4          91.0        68.0    2025          18.2   \n",
       "3    12.0          8         350.0       180.0    4499          12.5   \n",
       "4    19.0          4         120.0        88.0    3270          21.9   \n",
       "..    ...        ...           ...         ...     ...           ...   \n",
       "273  36.1          4          91.0        60.0    1800          16.4   \n",
       "274  30.0          4          97.0        67.0    1985          16.4   \n",
       "275  33.5          4          98.0        83.0    2075          15.9   \n",
       "276  18.0          6         171.0        97.0    2984          14.5   \n",
       "277  17.0          8         304.0       150.0    3672          11.5   \n",
       "\n",
       "     model_year  \n",
       "0            82  \n",
       "1            71  \n",
       "2            82  \n",
       "3            73  \n",
       "4            76  \n",
       "..          ...  \n",
       "273          78  \n",
       "274          77  \n",
       "275          77  \n",
       "276          75  \n",
       "277          72  \n",
       "\n",
       "[278 rows x 7 columns]"
      ]
     },
     "execution_count": 14,
     "metadata": {},
     "output_type": "execute_result"
    }
   ],
   "source": [
    "X_train"
   ]
  },
  {
   "cell_type": "markdown",
   "id": "04aafbae",
   "metadata": {},
   "source": [
    "### 4. 데이터 모형 구축"
   ]
  },
  {
   "cell_type": "code",
   "execution_count": 40,
   "id": "4795da60",
   "metadata": {},
   "outputs": [],
   "source": [
    "from sklearn.model_selection import train_test_split\n",
    "\n",
    "X_tr, X_val, y_tr, y_val = train_test_split(X_train, y_train, test_size=0.3)"
   ]
  },
  {
   "cell_type": "code",
   "execution_count": 41,
   "id": "003fc3f1",
   "metadata": {},
   "outputs": [],
   "source": [
    "from sklearn.preprocessing import StandardScaler\n",
    "\n",
    "scaler = StandardScaler()\n",
    "scaler.fit(X_tr[COL_NUM])\n",
    "\n",
    "X_tr[COL_NUM] = scaler.transform(X_tr[COL_NUM])\n",
    "X_val[COL_NUM] = scaler.transform(X_val[COL_NUM])\n",
    "X_test[COL_NUM] = scaler.transform(X_test[COL_NUM])"
   ]
  },
  {
   "cell_type": "code",
   "execution_count": 42,
   "id": "e6bf9b5d",
   "metadata": {},
   "outputs": [
    {
     "data": {
      "text/plain": [
       "DecisionTreeClassifier(max_depth=10)"
      ]
     },
     "execution_count": 42,
     "metadata": {},
     "output_type": "execute_result"
    }
   ],
   "source": [
    "from sklearn.neighbors import KNeighborsClassifier\n",
    "\n",
    "modelKNN = KNeighborsClassifier(n_neighbors=5, metric='euclidean')\n",
    "modelKNN.fit(X_tr, y_tr.values.ravel())\n",
    "\n",
    "from sklearn.tree import DecisionTreeClassifier\n",
    "modelDT = DecisionTreeClassifier(max_depth=10)\n",
    "modelDT.fit(X_tr, y_tr)"
   ]
  },
  {
   "cell_type": "markdown",
   "id": "5d1bc174",
   "metadata": {},
   "source": [
    "### 5. 데이터 모형 평가"
   ]
  },
  {
   "cell_type": "code",
   "execution_count": 43,
   "id": "263b2e10",
   "metadata": {},
   "outputs": [],
   "source": [
    "y_val_pred = modelKNN.predict(X_val)\n",
    "\n",
    "y_val_pred_probaKNN = modelKNN.predict_proba(X_val)\n",
    "y_val_pred_probaDT = modelDT.predict_proba(X_val)"
   ]
  },
  {
   "cell_type": "code",
   "execution_count": 44,
   "id": "925503b7",
   "metadata": {},
   "outputs": [
    {
     "name": "stdout",
     "output_type": "stream",
     "text": [
      "0.8625 0.8045454545454546\n"
     ]
    }
   ],
   "source": [
    "from sklearn.metrics import roc_auc_score\n",
    "\n",
    "scoreKNN = roc_auc_score(y_val, y_val_pred_probaKNN[:, 1])\n",
    "scoreDT = roc_auc_score(y_val, y_val_pred_probaDT[:, 1])\n",
    "\n",
    "print(scoreKNN, scoreDT)"
   ]
  },
  {
   "cell_type": "code",
   "execution_count": 45,
   "id": "900cd5a7",
   "metadata": {},
   "outputs": [
    {
     "name": "stdout",
     "output_type": "stream",
     "text": [
      "2 개의 이웃 확인 :  0.8696022727272728\n",
      "3 개의 이웃 확인 :  0.85\n",
      "4 개의 이웃 확인 :  0.8630681818181819\n",
      "5 개의 이웃 확인 :  0.8625\n",
      "6 개의 이웃 확인 :  0.8823863636363637\n",
      "7 개의 이웃 확인 :  0.9017045454545455\n",
      "8 개의 이웃 확인 :  0.8852272727272728\n",
      "9 개의 이웃 확인 :  0.8886363636363637\n"
     ]
    }
   ],
   "source": [
    "# best model selection \n",
    "best_model = None\n",
    "best_score = 0\n",
    "\n",
    "for i in range(2, 10):\n",
    "    model = KNeighborsClassifier(n_neighbors=i, metric='euclidean')\n",
    "    model.fit(X_tr, y_tr.values.ravel())\n",
    "    y_val_pred_proba = model.predict_proba(X_val)\n",
    "    score = roc_auc_score(y_val, y_val_pred_proba[:, 1])\n",
    "    print(i, \"개의 이웃 확인 : \", score)\n",
    "    if best_score <= score:\n",
    "        best_model = model"
   ]
  },
  {
   "cell_type": "markdown",
   "id": "f7ba0126",
   "metadata": {},
   "source": [
    "### 7개의 군집일 때 가장 성능이 좋음\n",
    "### 이제 제출을 위해 문제에서 요구하는 제출물 만들기"
   ]
  },
  {
   "cell_type": "code",
   "execution_count": 46,
   "id": "4d98cc70",
   "metadata": {},
   "outputs": [
    {
     "name": "stdout",
     "output_type": "stream",
     "text": [
      "[[0.44444444 0.55555556]\n",
      " [0.44444444 0.55555556]\n",
      " [0.44444444 0.55555556]\n",
      " [0.44444444 0.55555556]\n",
      " [0.44444444 0.55555556]\n",
      " [0.44444444 0.55555556]\n",
      " [0.44444444 0.55555556]\n",
      " [0.44444444 0.55555556]\n",
      " [0.44444444 0.55555556]\n",
      " [0.44444444 0.55555556]\n",
      " [0.44444444 0.55555556]\n",
      " [0.44444444 0.55555556]\n",
      " [0.33333333 0.66666667]\n",
      " [0.44444444 0.55555556]\n",
      " [0.44444444 0.55555556]\n",
      " [0.44444444 0.55555556]\n",
      " [0.44444444 0.55555556]\n",
      " [0.44444444 0.55555556]\n",
      " [0.44444444 0.55555556]\n",
      " [0.44444444 0.55555556]\n",
      " [0.44444444 0.55555556]\n",
      " [0.44444444 0.55555556]\n",
      " [0.44444444 0.55555556]\n",
      " [0.33333333 0.66666667]\n",
      " [0.44444444 0.55555556]\n",
      " [0.44444444 0.55555556]\n",
      " [0.44444444 0.55555556]\n",
      " [0.44444444 0.55555556]\n",
      " [0.44444444 0.55555556]\n",
      " [0.44444444 0.55555556]\n",
      " [0.44444444 0.55555556]\n",
      " [0.44444444 0.55555556]\n",
      " [0.44444444 0.55555556]\n",
      " [0.44444444 0.55555556]\n",
      " [0.44444444 0.55555556]\n",
      " [0.44444444 0.55555556]\n",
      " [0.44444444 0.55555556]\n",
      " [0.44444444 0.55555556]\n",
      " [0.44444444 0.55555556]\n",
      " [0.44444444 0.55555556]\n",
      " [0.44444444 0.55555556]\n",
      " [0.44444444 0.55555556]\n",
      " [0.44444444 0.55555556]\n",
      " [0.44444444 0.55555556]\n",
      " [0.44444444 0.55555556]\n",
      " [0.44444444 0.55555556]\n",
      " [0.44444444 0.55555556]\n",
      " [0.44444444 0.55555556]\n",
      " [0.44444444 0.55555556]\n",
      " [0.44444444 0.55555556]\n",
      " [0.44444444 0.55555556]\n",
      " [0.44444444 0.55555556]\n",
      " [0.44444444 0.55555556]\n",
      " [0.44444444 0.55555556]\n",
      " [0.44444444 0.55555556]\n",
      " [0.44444444 0.55555556]\n",
      " [0.44444444 0.55555556]\n",
      " [0.44444444 0.55555556]\n",
      " [0.44444444 0.55555556]\n",
      " [0.44444444 0.55555556]\n",
      " [0.44444444 0.55555556]\n",
      " [0.44444444 0.55555556]\n",
      " [0.33333333 0.66666667]\n",
      " [0.44444444 0.55555556]\n",
      " [0.44444444 0.55555556]\n",
      " [0.44444444 0.55555556]\n",
      " [0.44444444 0.55555556]\n",
      " [0.44444444 0.55555556]\n",
      " [0.44444444 0.55555556]\n",
      " [0.44444444 0.55555556]\n",
      " [0.44444444 0.55555556]\n",
      " [0.44444444 0.55555556]\n",
      " [0.44444444 0.55555556]\n",
      " [0.44444444 0.55555556]\n",
      " [0.44444444 0.55555556]\n",
      " [0.44444444 0.55555556]\n",
      " [0.44444444 0.55555556]\n",
      " [0.44444444 0.55555556]\n",
      " [0.44444444 0.55555556]\n",
      " [0.44444444 0.55555556]\n",
      " [0.44444444 0.55555556]\n",
      " [0.44444444 0.55555556]\n",
      " [0.44444444 0.55555556]\n",
      " [0.44444444 0.55555556]\n",
      " [0.44444444 0.55555556]\n",
      " [0.44444444 0.55555556]\n",
      " [0.44444444 0.55555556]\n",
      " [0.44444444 0.55555556]\n",
      " [0.44444444 0.55555556]\n",
      " [0.44444444 0.55555556]\n",
      " [0.44444444 0.55555556]\n",
      " [0.33333333 0.66666667]\n",
      " [0.44444444 0.55555556]\n",
      " [0.33333333 0.66666667]\n",
      " [0.44444444 0.55555556]\n",
      " [0.44444444 0.55555556]\n",
      " [0.44444444 0.55555556]\n",
      " [0.44444444 0.55555556]\n",
      " [0.33333333 0.66666667]\n",
      " [0.44444444 0.55555556]\n",
      " [0.44444444 0.55555556]\n",
      " [0.33333333 0.66666667]\n",
      " [0.33333333 0.66666667]\n",
      " [0.44444444 0.55555556]\n",
      " [0.44444444 0.55555556]\n",
      " [0.44444444 0.55555556]\n",
      " [0.44444444 0.55555556]\n",
      " [0.44444444 0.55555556]\n",
      " [0.44444444 0.55555556]\n",
      " [0.33333333 0.66666667]\n",
      " [0.44444444 0.55555556]\n",
      " [0.44444444 0.55555556]\n",
      " [0.44444444 0.55555556]\n",
      " [0.44444444 0.55555556]\n",
      " [0.44444444 0.55555556]\n",
      " [0.44444444 0.55555556]\n",
      " [0.44444444 0.55555556]\n",
      " [0.44444444 0.55555556]\n",
      " [0.44444444 0.55555556]\n",
      " [0.44444444 0.55555556]]\n"
     ]
    }
   ],
   "source": [
    "print(best_model.predict_proba(X_test))"
   ]
  },
  {
   "cell_type": "code",
   "execution_count": 47,
   "id": "33952715",
   "metadata": {},
   "outputs": [
    {
     "name": "stdout",
     "output_type": "stream",
     "text": [
      "[0.55555556 0.55555556 0.55555556 0.55555556 0.55555556 0.55555556\n",
      " 0.55555556 0.55555556 0.55555556 0.55555556 0.55555556 0.55555556\n",
      " 0.66666667 0.55555556 0.55555556 0.55555556 0.55555556 0.55555556\n",
      " 0.55555556 0.55555556 0.55555556 0.55555556 0.55555556 0.66666667\n",
      " 0.55555556 0.55555556 0.55555556 0.55555556 0.55555556 0.55555556\n",
      " 0.55555556 0.55555556 0.55555556 0.55555556 0.55555556 0.55555556\n",
      " 0.55555556 0.55555556 0.55555556 0.55555556 0.55555556 0.55555556\n",
      " 0.55555556 0.55555556 0.55555556 0.55555556 0.55555556 0.55555556\n",
      " 0.55555556 0.55555556 0.55555556 0.55555556 0.55555556 0.55555556\n",
      " 0.55555556 0.55555556 0.55555556 0.55555556 0.55555556 0.55555556\n",
      " 0.55555556 0.55555556 0.66666667 0.55555556 0.55555556 0.55555556\n",
      " 0.55555556 0.55555556 0.55555556 0.55555556 0.55555556 0.55555556\n",
      " 0.55555556 0.55555556 0.55555556 0.55555556 0.55555556 0.55555556\n",
      " 0.55555556 0.55555556 0.55555556 0.55555556 0.55555556 0.55555556\n",
      " 0.55555556 0.55555556 0.55555556 0.55555556 0.55555556 0.55555556\n",
      " 0.55555556 0.66666667 0.55555556 0.66666667 0.55555556 0.55555556\n",
      " 0.55555556 0.55555556 0.66666667 0.55555556 0.55555556 0.66666667\n",
      " 0.66666667 0.55555556 0.55555556 0.55555556 0.55555556 0.55555556\n",
      " 0.55555556 0.66666667 0.55555556 0.55555556 0.55555556 0.55555556\n",
      " 0.55555556 0.55555556 0.55555556 0.55555556 0.55555556 0.55555556]\n"
     ]
    }
   ],
   "source": [
    "# 미국에 해당하는 경우가 1이기 때문에 두번째 열에 해당하는게 우리가 추출해야 하는 확률 값 \n",
    "pred = best_model.predict_proba(X_test)[:, 1]\n",
    "print(pred)"
   ]
  },
  {
   "cell_type": "code",
   "execution_count": 49,
   "id": "6e3f9513",
   "metadata": {},
   "outputs": [],
   "source": [
    "pd.DataFrame({'isUSA' : pred}).to_csv('003000000.csv', index=False)"
   ]
  },
  {
   "cell_type": "markdown",
   "id": "bd950f89",
   "metadata": {},
   "source": [
    "## Tip \n",
    "- 성능 떨어지는 단순 기본 모형이라도 빠르게 완성하고, 시간적 여유가 있을 때 다양한 모형을 실험해보거나 파라미터 튜닝하는 등.. 은 나중에!"
   ]
  }
 ],
 "metadata": {
  "kernelspec": {
   "display_name": "Python 3",
   "language": "python",
   "name": "python3"
  },
  "language_info": {
   "codemirror_mode": {
    "name": "ipython",
    "version": 3
   },
   "file_extension": ".py",
   "mimetype": "text/x-python",
   "name": "python",
   "nbconvert_exporter": "python",
   "pygments_lexer": "ipython3",
   "version": "3.8.8"
  }
 },
 "nbformat": 4,
 "nbformat_minor": 5
}
