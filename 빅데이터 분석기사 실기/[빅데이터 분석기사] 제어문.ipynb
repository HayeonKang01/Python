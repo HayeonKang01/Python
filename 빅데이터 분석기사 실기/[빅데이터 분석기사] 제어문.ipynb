{
 "cells": [
  {
   "cell_type": "markdown",
   "id": "e21cb789",
   "metadata": {},
   "source": [
    "## 빅데이터 분석기사 실기 \n",
    "---\n",
    "### If"
   ]
  },
  {
   "cell_type": "code",
   "execution_count": 1,
   "id": "23ab6e84",
   "metadata": {},
   "outputs": [
    {
     "name": "stdout",
     "output_type": "stream",
     "text": [
      "가설은\n",
      "사실이다\n"
     ]
    }
   ],
   "source": [
    "a = True\n",
    "\n",
    "if a :\n",
    "    print('가설은')\n",
    "    print('사실이다')\n",
    "else:\n",
    "    print('가설은')\n",
    "    print('거짓이다')"
   ]
  },
  {
   "cell_type": "markdown",
   "id": "a5ce7ff0",
   "metadata": {},
   "source": [
    "|조건문 표현 방법 | 조건문 의미|\n",
    "|--|--|\n",
    "|x < y|x가 y보다 작다면|\n",
    "|x > y|x가 y보다 크다면|\n",
    "|x == y|x와 y가 같다면|\n",
    "|x != y|x가 y와 같지 않다면|\n",
    "|x >= y|x가 y보다 크거나 같다면|\n",
    "|x <= y|x가 y보다 작거나 같다면|"
   ]
  },
  {
   "cell_type": "code",
   "execution_count": 2,
   "id": "d0dcb14b",
   "metadata": {},
   "outputs": [
    {
     "name": "stdout",
     "output_type": "stream",
     "text": [
      "x가 y보다 작거나 같다\n"
     ]
    }
   ],
   "source": [
    "# 조건문 비교 연산자 \n",
    "x = 3\n",
    "y = 7\n",
    "\n",
    "if x <= y:\n",
    "    print('x가 y보다 작거나 같다')\n",
    "else:\n",
    "    print('x가 y보다 크다')"
   ]
  },
  {
   "cell_type": "markdown",
   "id": "192ea47e",
   "metadata": {},
   "source": [
    "|조건문 표현 방법|조건문 의미|\n",
    "|--|--|\n",
    "|x or y|x와 y 둘 중 하나만 참이어도 참|\n",
    "|x and y|x와 y 모두 참이어야 참|\n",
    "|not x|x가 거짓이면 참|"
   ]
  },
  {
   "cell_type": "code",
   "execution_count": 3,
   "id": "77019d80",
   "metadata": {},
   "outputs": [
    {
     "name": "stdout",
     "output_type": "stream",
     "text": [
      "x가 y보다 작거나 같다\n"
     ]
    }
   ],
   "source": [
    "# 조건문 and, or, not 연산자 \n",
    "x = 3\n",
    "y = 7\n",
    "\n",
    "if x == y or x < y :\n",
    "    print('x가 y보다 작거나 같다')\n",
    "else:\n",
    "    print('x가 y보다 크다')"
   ]
  },
  {
   "cell_type": "code",
   "execution_count": 4,
   "id": "5a9af914",
   "metadata": {},
   "outputs": [
    {
     "name": "stdout",
     "output_type": "stream",
     "text": [
      "데이터가 존재한다\n"
     ]
    }
   ],
   "source": [
    "# 조건문 in, not in 연산자\n",
    "x = 3\n",
    "y = [1, 2, 3, 4, 5]\n",
    "\n",
    "if x in y:\n",
    "    print('데이터가 존재한다')\n",
    "else:\n",
    "    print('데이터가 존재하지 않는다')"
   ]
  },
  {
   "cell_type": "code",
   "execution_count": 5,
   "id": "6ed598e4",
   "metadata": {},
   "outputs": [
    {
     "name": "stdout",
     "output_type": "stream",
     "text": [
      "x가 y보다 작다\n"
     ]
    }
   ],
   "source": [
    "# elif를 활용한 조건문의 기본구조 \n",
    "x = 3\n",
    "y = 7\n",
    "\n",
    "if x == y:\n",
    "    print('x와 y는 같다')\n",
    "elif x < y:\n",
    "    print('x가 y보다 작다')\n",
    "else:\n",
    "    print('x가 y보다 크다')"
   ]
  },
  {
   "cell_type": "markdown",
   "id": "b089102f",
   "metadata": {},
   "source": [
    "### while 문"
   ]
  },
  {
   "cell_type": "code",
   "execution_count": 6,
   "id": "ac9cf436",
   "metadata": {},
   "outputs": [
    {
     "name": "stdout",
     "output_type": "stream",
     "text": [
      "a값은 0 입니다\n",
      "a값은 1 입니다\n",
      "a값은 2 입니다\n",
      "a값은 3 입니다\n",
      "a값은 4 입니다\n",
      "while문이 종료되었습니다.\n"
     ]
    }
   ],
   "source": [
    "# while 문 기본 구조\n",
    "a = 0\n",
    "\n",
    "while a < 5:\n",
    "    print('a값은 %s 입니다'%a)\n",
    "    a = a + 1\n",
    "\n",
    "print('while문이 종료되었습니다.')"
   ]
  },
  {
   "cell_type": "code",
   "execution_count": 9,
   "id": "a9b8bb41",
   "metadata": {},
   "outputs": [
    {
     "name": "stdout",
     "output_type": "stream",
     "text": [
      "바구니에서 사과를 꺼냈습니다\n",
      "바구니에서 바나나를 꺼냈습니다\n",
      "바구니에서 토마토를 꺼냈습니다\n",
      "바구니에 아무것도 남아있지 않습니다\n"
     ]
    }
   ],
   "source": [
    "# while문 조건 변경\n",
    "a = 0\n",
    "b = ['사과', '바나나', '토마토']\n",
    "\n",
    "while a < len(b):\n",
    "    print('바구니에서 %s를 꺼냈습니다'%b[a])\n",
    "    a = a + 1\n",
    "    \n",
    "print('바구니에 아무것도 남아있지 않습니다')"
   ]
  },
  {
   "cell_type": "code",
   "execution_count": 10,
   "id": "5d02b8a5",
   "metadata": {},
   "outputs": [
    {
     "name": "stdout",
     "output_type": "stream",
     "text": [
      "a값은 5 입니다\n",
      "a값은 4 입니다\n",
      "a값은 3 입니다\n",
      "while문이 종료되었습니다\n"
     ]
    }
   ],
   "source": [
    "# while 문 break 활용\n",
    "a = 5\n",
    "\n",
    "while a > 0 :\n",
    "    print('a값은 %s 입니다'%a)\n",
    "    a = a - 1\n",
    "    \n",
    "    if a == 2:\n",
    "        break\n",
    "        \n",
    "print('while문이 종료되었습니다')"
   ]
  },
  {
   "cell_type": "code",
   "execution_count": 11,
   "id": "821b0e63",
   "metadata": {},
   "outputs": [
    {
     "name": "stdout",
     "output_type": "stream",
     "text": [
      "1\n",
      "3\n",
      "5\n",
      "7\n",
      "9\n"
     ]
    }
   ],
   "source": [
    "# while문 continue 활용\n",
    "a = 0\n",
    "\n",
    "while a < 10:\n",
    "    a = a + 1\n",
    "    if a % 2 == 0:\n",
    "        continue\n",
    "    print(a)"
   ]
  },
  {
   "cell_type": "markdown",
   "id": "ad0e5313",
   "metadata": {},
   "source": [
    "### for 문"
   ]
  },
  {
   "cell_type": "code",
   "execution_count": 12,
   "id": "24aff054",
   "metadata": {},
   "outputs": [
    {
     "name": "stdout",
     "output_type": "stream",
     "text": [
      "사과\n",
      "바나나\n",
      "토마토\n"
     ]
    }
   ],
   "source": [
    "# for문 기본 구조\n",
    "a = ['사과', '바나나', '토마토']\n",
    " \n",
    "for i in a:\n",
    "    print(i)"
   ]
  },
  {
   "cell_type": "code",
   "execution_count": 13,
   "id": "83ffcf91",
   "metadata": {},
   "outputs": [
    {
     "name": "stdout",
     "output_type": "stream",
     "text": [
      "90 는(은) 평균보다 크다\n",
      "25 는(은) 평균보다 작다\n",
      "67 는(은) 평균보다 크다\n",
      "45 는(은) 평균보다 작다\n",
      "80 는(은) 평균보다 크다\n"
     ]
    }
   ],
   "source": [
    "# for문과 if문 활용\n",
    "a = [90, 25, 67, 45, 80]\n",
    "b = sum(a) / len(a) # list a's average\n",
    "\n",
    "for i in a:\n",
    "    if i > b:\n",
    "        print('%d 는(은) 평균보다 크다'%i)\n",
    "    else:\n",
    "        print('%d 는(은) 평균보다 작다'%i)"
   ]
  },
  {
   "cell_type": "code",
   "execution_count": 16,
   "id": "c12c5b13",
   "metadata": {},
   "outputs": [
    {
     "name": "stdout",
     "output_type": "stream",
     "text": [
      "2 4 6 8 10 12 14 16 18  \n",
      "3 6 9 12 15 18 21 24 27  \n",
      "4 8 12 16 20 24 28 32 36  \n",
      "5 10 15 20 25 30 35 40 45  \n",
      "6 12 18 24 30 36 42 48 54  \n",
      "7 14 21 28 35 42 49 56 63  \n",
      "8 16 24 32 40 48 56 64 72  \n",
      "9 18 27 36 45 54 63 72 81  \n"
     ]
    }
   ],
   "source": [
    "# for문과 range문 활용\n",
    "# 구구단 출력\n",
    "for i in range(2, 10):\n",
    "    for j in range(1, 10):\n",
    "        print(i * j, end= ' ')\n",
    "    print(' ')"
   ]
  },
  {
   "cell_type": "code",
   "execution_count": 17,
   "id": "70effcdd",
   "metadata": {},
   "outputs": [
    {
     "name": "stdout",
     "output_type": "stream",
     "text": [
      "[40, 30, 20, 10]\n"
     ]
    }
   ],
   "source": [
    "# for문과 리스트 요소 삽입\n",
    "a = [1, 2, 3, 4]\n",
    "result = []\n",
    "\n",
    "for i in a :\n",
    "    result.insert(0, i * 10)\n",
    "    \n",
    "print(result)"
   ]
  },
  {
   "cell_type": "markdown",
   "id": "ef1d059f",
   "metadata": {},
   "source": [
    "### 파이썬 함수\n",
    "### def 문"
   ]
  },
  {
   "cell_type": "code",
   "execution_count": 19,
   "id": "68b7abf1",
   "metadata": {},
   "outputs": [
    {
     "name": "stdout",
     "output_type": "stream",
     "text": [
      "10\n"
     ]
    }
   ],
   "source": [
    "# def 문 기본 구조\n",
    "def add(a, b):\n",
    "    return a + b\n",
    "\n",
    "a = 3\n",
    "b = 7\n",
    "c = add(a, b)\n",
    "\n",
    "print(c)"
   ]
  }
 ],
 "metadata": {
  "kernelspec": {
   "display_name": "Python 3",
   "language": "python",
   "name": "python3"
  },
  "language_info": {
   "codemirror_mode": {
    "name": "ipython",
    "version": 3
   },
   "file_extension": ".py",
   "mimetype": "text/x-python",
   "name": "python",
   "nbconvert_exporter": "python",
   "pygments_lexer": "ipython3",
   "version": "3.8.8"
  }
 },
 "nbformat": 4,
 "nbformat_minor": 5
}
