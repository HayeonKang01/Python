{
 "cells": [
  {
   "cell_type": "markdown",
   "id": "fe25af50",
   "metadata": {},
   "source": [
    "## 빅데이터 분석기사 실기 \n",
    "- Penguins : 남극 펭귄 신체 크기와 무게에 대한 7가지 정도의 데이터"
   ]
  },
  {
   "cell_type": "code",
   "execution_count": 57,
   "id": "86d37797",
   "metadata": {},
   "outputs": [],
   "source": [
    "import pandas as pd\n",
    "import numpy as np"
   ]
  },
  {
   "cell_type": "code",
   "execution_count": 58,
   "id": "ab01fd81",
   "metadata": {},
   "outputs": [],
   "source": [
    "import warnings\n",
    "warnings.filterwarnings('ignore')"
   ]
  },
  {
   "cell_type": "markdown",
   "id": "128baab8",
   "metadata": {},
   "source": [
    "## 1. 데이터 불러오기"
   ]
  },
  {
   "cell_type": "code",
   "execution_count": 59,
   "id": "2c9a80d7",
   "metadata": {},
   "outputs": [],
   "source": [
    "X_test = pd.read_csv('/Users/hayeon/Downloads/penguin_X_test.csv')\n",
    "X_train = pd.read_csv('/Users/hayeon/Downloads/penguin_X_train.csv')\n",
    "y_train = pd.read_csv('/Users/hayeon/Downloads/penguin_y_train.csv')"
   ]
  },
  {
   "cell_type": "markdown",
   "id": "5eceb45e",
   "metadata": {},
   "source": [
    "## 2. 데이터 전처리"
   ]
  },
  {
   "cell_type": "code",
   "execution_count": 60,
   "id": "dbcadc29",
   "metadata": {},
   "outputs": [
    {
     "name": "stdout",
     "output_type": "stream",
     "text": [
      "<class 'pandas.core.frame.DataFrame'>\n",
      "RangeIndex: 240 entries, 0 to 239\n",
      "Data columns (total 6 columns):\n",
      " #   Column             Non-Null Count  Dtype  \n",
      "---  ------             --------------  -----  \n",
      " 0   species            240 non-null    object \n",
      " 1   island             240 non-null    object \n",
      " 2   sex                232 non-null    object \n",
      " 3   bill_length_mm     238 non-null    float64\n",
      " 4   bill_depth_mm      238 non-null    float64\n",
      " 5   flipper_length_mm  238 non-null    float64\n",
      "dtypes: float64(3), object(3)\n",
      "memory usage: 11.4+ KB\n",
      "None\n"
     ]
    }
   ],
   "source": [
    "print(X_train.info())"
   ]
  },
  {
   "cell_type": "markdown",
   "id": "3292f837",
   "metadata": {},
   "source": [
    "### 결측치 확인할 때 y_train 붙여서 확인해야 한다고 함\n",
    "- why???"
   ]
  },
  {
   "cell_type": "code",
   "execution_count": 61,
   "id": "d9d7d846",
   "metadata": {},
   "outputs": [],
   "source": [
    "train = pd.concat([X_train, y_train], axis=1)"
   ]
  },
  {
   "cell_type": "code",
   "execution_count": 62,
   "id": "96bb1dc4",
   "metadata": {},
   "outputs": [
    {
     "name": "stdout",
     "output_type": "stream",
     "text": [
      "    species     island  sex  bill_length_mm  bill_depth_mm  flipper_length_mm  \\\n",
      "0    Adelie  Torgersen  NaN            42.0           20.2              190.0   \n",
      "6    Gentoo     Biscoe  NaN            44.5           14.3              216.0   \n",
      "43   Gentoo     Biscoe  NaN             NaN            NaN                NaN   \n",
      "66   Adelie  Torgersen  NaN            37.8           17.3              180.0   \n",
      "88   Gentoo     Biscoe  NaN            47.3           13.8              216.0   \n",
      "89   Adelie  Torgersen  NaN            37.8           17.1              186.0   \n",
      "110  Gentoo     Biscoe  NaN            44.5           15.7              217.0   \n",
      "229  Adelie  Torgersen  NaN             NaN            NaN                NaN   \n",
      "\n",
      "     body_mass_g  \n",
      "0         4250.0  \n",
      "6         4100.0  \n",
      "43           NaN  \n",
      "66        3700.0  \n",
      "88        4725.0  \n",
      "89        3300.0  \n",
      "110       4875.0  \n",
      "229          NaN  \n"
     ]
    }
   ],
   "source": [
    "print(train.loc[(train.sex.isna()) | (train.bill_length_mm.isna()) | (train.bill_depth_mm.isna())|\n",
    "               (train.flipper_length_mm.isna()) | (train.body_mass_g.isna())])"
   ]
  },
  {
   "cell_type": "code",
   "execution_count": 63,
   "id": "06543431",
   "metadata": {},
   "outputs": [],
   "source": [
    "# 결측치가 다 같은 행에서들 발견되었기 때문에 drop\n",
    "train = train.dropna()\n",
    "train.reset_index(drop=True, inplace=True)"
   ]
  },
  {
   "cell_type": "code",
   "execution_count": 64,
   "id": "18e8557d",
   "metadata": {},
   "outputs": [],
   "source": [
    "X_train = train[['species', 'island', 'sex', 'bill_length_mm', 'bill_depth_mm', 'flipper_length_mm']]\n",
    "y_train = train[['body_mass_g']]"
   ]
  },
  {
   "cell_type": "code",
   "execution_count": 65,
   "id": "c64c2120",
   "metadata": {},
   "outputs": [
    {
     "name": "stdout",
     "output_type": "stream",
     "text": [
      "       bill_length_mm  bill_depth_mm  flipper_length_mm\n",
      "count      232.000000     232.000000         232.000000\n",
      "mean        43.990948      17.226293         200.681034\n",
      "std          5.509760       1.964677          14.064231\n",
      "min         32.100000      13.200000         172.000000\n",
      "25%         39.200000      15.700000         190.000000\n",
      "50%         44.950000      17.350000         197.000000\n",
      "75%         48.775000      18.725000         212.250000\n",
      "max         58.000000      21.500000         231.000000\n"
     ]
    }
   ],
   "source": [
    "# 수치형 범위가 다르니 스케일링 해야 함\n",
    "print(X_train.describe())"
   ]
  },
  {
   "cell_type": "code",
   "execution_count": 66,
   "id": "3b900190",
   "metadata": {},
   "outputs": [],
   "source": [
    "COL_DEL = []\n",
    "COL_NUM = ['bill_length_mm', 'bill_depth_mm', 'flipper_length_mm'] # 수치형 변수\n",
    "COL_CAT = ['species', 'island', 'sex'] # 범주형 변수\n",
    "COL_Y = ['body_mass_g']"
   ]
  },
  {
   "cell_type": "code",
   "execution_count": 67,
   "id": "ad074ea1",
   "metadata": {},
   "outputs": [],
   "source": [
    "# label encoding\n",
    "X = pd.concat([X_train, X_test]) # 모든 범주형을 체크해야 하니까 합쳐서 ohe fit\n",
    "\n",
    "from sklearn.preprocessing import OneHotEncoder\n",
    "ohe = OneHotEncoder(handle_unknown='ignore') # 처리 이후에 새로 등장하는 범주가 없을 예정이니 ignore\n",
    "ohe.fit(X[COL_CAT])\n",
    "\n",
    "X_train_res = ohe.transform(X_train[COL_CAT])\n",
    "X_test_res = ohe.transform(X_test[COL_CAT])"
   ]
  },
  {
   "cell_type": "code",
   "execution_count": 68,
   "id": "adebbb7c",
   "metadata": {},
   "outputs": [
    {
     "name": "stdout",
     "output_type": "stream",
     "text": [
      "  (0, 2)\t1.0\n",
      "  (0, 3)\t1.0\n",
      "  (0, 6)\t1.0\n",
      "  (1, 0)\t1.0\n",
      "  (1, 5)\t1.0\n",
      "  (1, 7)\t1.0\n",
      "  (2, 1)\t1.0\n",
      "  (2, 4)\t1.0\n",
      "  (2, 7)\t1.0\n",
      "  (3, 2)\t1.0\n",
      "  (3, 3)\t1.0\n",
      "  (3, 7)\t1.0\n",
      "  (4, 0)\t1.0\n",
      "  (4, 4)\t1.0\n",
      "  (4, 6)\t1.0\n",
      "  (5, 2)\t1.0\n",
      "  (5, 3)\t1.0\n",
      "  (5, 7)\t1.0\n",
      "  (6, 2)\t1.0\n",
      "  (6, 3)\t1.0\n",
      "  (6, 6)\t1.0\n",
      "  (7, 0)\t1.0\n",
      "  (7, 5)\t1.0\n",
      "  (7, 6)\t1.0\n",
      "  (8, 2)\t1.0\n",
      "  :\t:\n",
      "  (223, 6)\t1.0\n",
      "  (224, 2)\t1.0\n",
      "  (224, 3)\t1.0\n",
      "  (224, 7)\t1.0\n",
      "  (225, 0)\t1.0\n",
      "  (225, 4)\t1.0\n",
      "  (225, 7)\t1.0\n",
      "  (226, 1)\t1.0\n",
      "  (226, 4)\t1.0\n",
      "  (226, 7)\t1.0\n",
      "  (227, 1)\t1.0\n",
      "  (227, 4)\t1.0\n",
      "  (227, 6)\t1.0\n",
      "  (228, 2)\t1.0\n",
      "  (228, 3)\t1.0\n",
      "  (228, 7)\t1.0\n",
      "  (229, 0)\t1.0\n",
      "  (229, 5)\t1.0\n",
      "  (229, 6)\t1.0\n",
      "  (230, 1)\t1.0\n",
      "  (230, 4)\t1.0\n",
      "  (230, 6)\t1.0\n",
      "  (231, 2)\t1.0\n",
      "  (231, 3)\t1.0\n",
      "  (231, 6)\t1.0\n"
     ]
    }
   ],
   "source": [
    "print(X_train_res)"
   ]
  },
  {
   "cell_type": "code",
   "execution_count": 69,
   "id": "b1d0532f",
   "metadata": {},
   "outputs": [
    {
     "name": "stdout",
     "output_type": "stream",
     "text": [
      "     x0_Adelie  x0_Chinstrap  x0_Gentoo  x1_Biscoe  x1_Dream  x1_Torgersen  \\\n",
      "0          0.0           0.0        1.0        1.0       0.0           0.0   \n",
      "1          1.0           0.0        0.0        0.0       0.0           1.0   \n",
      "2          0.0           1.0        0.0        0.0       1.0           0.0   \n",
      "3          0.0           0.0        1.0        1.0       0.0           0.0   \n",
      "4          1.0           0.0        0.0        0.0       1.0           0.0   \n",
      "..         ...           ...        ...        ...       ...           ...   \n",
      "227        0.0           1.0        0.0        0.0       1.0           0.0   \n",
      "228        0.0           0.0        1.0        1.0       0.0           0.0   \n",
      "229        1.0           0.0        0.0        0.0       0.0           1.0   \n",
      "230        0.0           1.0        0.0        0.0       1.0           0.0   \n",
      "231        0.0           0.0        1.0        1.0       0.0           0.0   \n",
      "\n",
      "     x2_FEMALE  x2_MALE  \n",
      "0          1.0      0.0  \n",
      "1          0.0      1.0  \n",
      "2          0.0      1.0  \n",
      "3          0.0      1.0  \n",
      "4          1.0      0.0  \n",
      "..         ...      ...  \n",
      "227        1.0      0.0  \n",
      "228        0.0      1.0  \n",
      "229        1.0      0.0  \n",
      "230        1.0      0.0  \n",
      "231        1.0      0.0  \n",
      "\n",
      "[232 rows x 8 columns]\n"
     ]
    }
   ],
   "source": [
    "# 위 결과는 np.array이기 때문에 데이터프레임으로 변경시켜줘야 함\n",
    "X_train_ohe = pd.DataFrame(X_train_res.todense(), columns=ohe.get_feature_names())\n",
    "X_test_ohe = pd.DataFrame(X_test_res.todense(), columns=ohe.get_feature_names())\n",
    "print(X_train_ohe)\n",
    "\n",
    "X_train_fin = pd.concat([X_train[COL_NUM], X_train_ohe], axis=1)\n",
    "X_test_fin = pd.concat([X_test[COL_NUM], X_test_ohe], axis=1)"
   ]
  },
  {
   "cell_type": "markdown",
   "id": "fd17bdc1",
   "metadata": {},
   "source": [
    "### cf. todense() 역할?"
   ]
  },
  {
   "cell_type": "code",
   "execution_count": 70,
   "id": "1a5d56a1",
   "metadata": {
    "scrolled": true
   },
   "outputs": [
    {
     "name": "stdout",
     "output_type": "stream",
     "text": [
      "  (0, 2)\t1.0\n",
      "  (0, 3)\t1.0\n",
      "  (0, 6)\t1.0\n",
      "  (1, 0)\t1.0\n",
      "  (1, 5)\t1.0\n",
      "  (1, 7)\t1.0\n",
      "  (2, 1)\t1.0\n",
      "  (2, 4)\t1.0\n",
      "  (2, 7)\t1.0\n",
      "  (3, 2)\t1.0\n",
      "  (3, 3)\t1.0\n",
      "  (3, 7)\t1.0\n",
      "  (4, 0)\t1.0\n",
      "  (4, 4)\t1.0\n",
      "  (4, 6)\t1.0\n"
     ]
    }
   ],
   "source": [
    "print(X_train_res[:5]) # 1이 들어있는 위치만 보여줌 "
   ]
  },
  {
   "cell_type": "code",
   "execution_count": 71,
   "id": "a11350e4",
   "metadata": {},
   "outputs": [
    {
     "data": {
      "text/plain": [
       "matrix([[0., 0., 1., ..., 0., 1., 0.],\n",
       "        [1., 0., 0., ..., 1., 0., 1.],\n",
       "        [0., 1., 0., ..., 0., 0., 1.],\n",
       "        ...,\n",
       "        [1., 0., 0., ..., 1., 1., 0.],\n",
       "        [0., 1., 0., ..., 0., 1., 0.],\n",
       "        [0., 0., 1., ..., 0., 1., 0.]])"
      ]
     },
     "execution_count": 71,
     "metadata": {},
     "output_type": "execute_result"
    }
   ],
   "source": [
    "X_train_res.todense() # 위 X_train_res를 토대로 좌표 있으면 1, 좌표 없으면 0 채워넣어서 매트릭스 만들기 "
   ]
  },
  {
   "cell_type": "markdown",
   "id": "67c70f05",
   "metadata": {},
   "source": [
    "---\n",
    "### 4. 데이터 모형 구축"
   ]
  },
  {
   "cell_type": "code",
   "execution_count": 72,
   "id": "938218b6",
   "metadata": {},
   "outputs": [],
   "source": [
    "from sklearn.model_selection import train_test_split\n",
    "\n",
    "X_tr, X_val, y_tr, y_val = train_test_split(X_train_fin, y_train, test_size=0.3)"
   ]
  },
  {
   "cell_type": "code",
   "execution_count": 73,
   "id": "edabbe97",
   "metadata": {},
   "outputs": [],
   "source": [
    "from sklearn.preprocessing import MinMaxScaler\n",
    "\n",
    "scaler = MinMaxScaler()\n",
    "\n",
    "# fit 할 때는 X_tr 데이터셋을 기준으로 함 -> 평균과 분산에 영향을 미치는 데이터 누수가 발생하지 않게\n",
    "scaler.fit(X_tr[COL_NUM])\n",
    "X_tr[COL_NUM] = scaler.transform(X_tr[COL_NUM])\n",
    "X_val[COL_NUM] = scaler.transform(X_val[COL_NUM])\n",
    "X_test_fin[COL_NUM] = scaler.transform(X_test_fin[COL_NUM])"
   ]
  },
  {
   "cell_type": "code",
   "execution_count": 74,
   "id": "4685e3d6",
   "metadata": {
    "scrolled": true
   },
   "outputs": [
    {
     "name": "stdout",
     "output_type": "stream",
     "text": [
      "[[4039.80459995]\n",
      " [5590.44999251]\n",
      " [3524.97255521]\n",
      " [3905.48318893]\n",
      " [4945.78100872]\n",
      " [5335.75287763]\n",
      " [3382.30555509]\n",
      " [3474.91586052]\n",
      " [3328.94745323]\n",
      " [5244.95957381]\n",
      " [3926.53275988]\n",
      " [3884.83256106]\n",
      " [4162.44633274]\n",
      " [4053.46020969]\n",
      " [4122.44505694]\n",
      " [3986.65178876]\n",
      " [3448.46553991]\n",
      " [5295.88200298]\n",
      " [4156.39455693]\n",
      " [4077.28114515]\n",
      " [3494.43251459]\n",
      " [3537.62563654]\n",
      " [4734.6700009 ]\n",
      " [5523.5810384 ]\n",
      " [4211.04713446]\n",
      " [4214.233899  ]\n",
      " [3212.60014272]\n",
      " [3849.88389533]\n",
      " [3347.01839848]\n",
      " [4747.41878369]\n",
      " [4784.93382396]\n",
      " [5292.48754645]\n",
      " [3454.54882463]\n",
      " [3395.16553495]\n",
      " [3376.0606055 ]\n",
      " [3472.5343464 ]\n",
      " [3457.77618486]\n",
      " [3484.63121255]\n",
      " [3540.5598092 ]\n",
      " [3806.41166562]\n",
      " [4811.76081968]\n",
      " [3950.15348628]\n",
      " [3421.3168211 ]\n",
      " [3317.34420152]\n",
      " [3968.41640332]\n",
      " [5386.17068097]\n",
      " [4708.90725797]\n",
      " [3423.87021243]\n",
      " [4196.79114831]\n",
      " [5646.47268277]\n",
      " [3339.39600018]\n",
      " [5412.44169136]\n",
      " [3611.28271026]\n",
      " [4221.52319887]\n",
      " [3450.36855161]\n",
      " [3586.65412306]\n",
      " [5415.45189282]\n",
      " [4017.09659651]\n",
      " [4012.64909464]\n",
      " [4839.41750526]\n",
      " [4116.60032261]\n",
      " [4644.32572438]\n",
      " [3910.53921269]\n",
      " [3379.63323298]\n",
      " [5346.6419247 ]\n",
      " [4039.58220582]\n",
      " [4754.2846869 ]\n",
      " [3220.59876169]\n",
      " [3171.00636005]\n",
      " [5400.94599508]]\n"
     ]
    }
   ],
   "source": [
    "from sklearn.linear_model import LinearRegression\n",
    "\n",
    "modelLR = LinearRegression()\n",
    "modelLR.fit(X_tr, y_tr)\n",
    "\n",
    "y_val_pred = modelLR.predict(X_val)\n",
    "print(y_val_pred)"
   ]
  },
  {
   "cell_type": "code",
   "execution_count": 75,
   "id": "31ff672e",
   "metadata": {},
   "outputs": [
    {
     "name": "stdout",
     "output_type": "stream",
     "text": [
      "[3305.39520774]\n",
      "x0_Chinstrap        -506.573616\n",
      "x0_Adelie           -247.173010\n",
      "x2_FEMALE           -192.367390\n",
      "x1_Torgersen         -43.141690\n",
      "x1_Dream               5.574104\n",
      "x1_Biscoe             37.567587\n",
      "x2_MALE              192.367390\n",
      "bill_length_mm       415.937827\n",
      "bill_depth_mm        445.683230\n",
      "x0_Gentoo            753.746627\n",
      "flipper_length_mm    854.585862\n",
      "dtype: float64\n"
     ]
    }
   ],
   "source": [
    "# intercept_\n",
    "print(modelLR.intercept_) # 절편\n",
    "\n",
    "coef = pd.Series(data=modelLR.coef_[0], index=X_train_fin.columns) # 기울기\n",
    "print(coef.sort_values())"
   ]
  },
  {
   "cell_type": "markdown",
   "id": "0be43cda",
   "metadata": {},
   "source": [
    "## 해석\n",
    "- Chinstrap, Adelie 종일수록 무게가 덜 나감\n",
    "- Gentoo 종이면 다른 종에 비해 무게가 많이 나감\n",
    "- Female 펭귄이 무게가 덜 나감 \n",
    "---\n",
    "### 5. 데이터 모형 평가"
   ]
  },
  {
   "cell_type": "code",
   "execution_count": 76,
   "id": "74328675",
   "metadata": {},
   "outputs": [
    {
     "name": "stdout",
     "output_type": "stream",
     "text": [
      "MSE : 97896.964, RMSE : 312.885\n"
     ]
    }
   ],
   "source": [
    "from sklearn.metrics import mean_squared_error, r2_score\n",
    "\n",
    "mse = mean_squared_error(y_val, y_val_pred)\n",
    "rmse = mean_squared_error(y_val, y_val_pred, squared=False)\n",
    "\n",
    "print('MSE : %.3f, RMSE : %.3F'%(mse, rmse))"
   ]
  },
  {
   "cell_type": "code",
   "execution_count": 77,
   "id": "6623bec3",
   "metadata": {},
   "outputs": [
    {
     "name": "stdout",
     "output_type": "stream",
     "text": [
      "[[4038.24504197]\n",
      " [5323.31629443]\n",
      " [4046.74989462]\n",
      " [3484.00964739]\n",
      " [4716.20084598]\n",
      " [4029.49323052]\n",
      " [3334.72342389]\n",
      " [3716.98572079]\n",
      " [3502.61468281]\n",
      " [3531.5034131 ]\n",
      " [3429.33349074]\n",
      " [5478.48589028]\n",
      " [3586.67283438]\n",
      " [4001.18616531]\n",
      " [3759.7304863 ]\n",
      " [4028.43655769]\n",
      " [4286.71631632]\n",
      " [3464.28770266]\n",
      " [3628.81192546]\n",
      " [3328.9132463 ]\n",
      " [5333.46974525]\n",
      " [4092.38231675]\n",
      " [5830.54287703]\n",
      " [4714.93982969]\n",
      " [5378.86427764]\n",
      " [5491.03367054]\n",
      " [5496.60863868]\n",
      " [4123.38643662]\n",
      " [3392.8439075 ]\n",
      " [4036.67562146]\n",
      " [4169.83191373]\n",
      " [3455.05345045]\n",
      " [3507.74486268]\n",
      " [4662.46557624]\n",
      " [3405.84535301]\n",
      " [3432.11750268]\n",
      " [3295.92269804]\n",
      " [3366.58226685]\n",
      " [3860.19745228]\n",
      " [4971.38977137]\n",
      " [3530.61812472]\n",
      " [5577.55580573]\n",
      " [4981.8041114 ]\n",
      " [4717.11605314]\n",
      " [5734.66212744]\n",
      " [3864.57587965]\n",
      " [4796.22487608]\n",
      " [3314.3747495 ]\n",
      " [5386.29469335]\n",
      " [4171.21046674]\n",
      " [4698.68110515]\n",
      " [4772.46303383]\n",
      " [4101.33195768]\n",
      " [3800.63730282]\n",
      " [3303.50499341]\n",
      " [4232.61468843]\n",
      " [4859.45558792]\n",
      " [4653.5517501 ]\n",
      " [3799.4465872 ]\n",
      " [3995.73176399]\n",
      " [3698.41461595]\n",
      " [4896.9193178 ]\n",
      " [3289.93903539]\n",
      " [4920.42884713]\n",
      " [4006.38904718]\n",
      " [3984.43707024]\n",
      " [5476.39947228]\n",
      " [3205.31084285]\n",
      " [4795.85707795]\n",
      " [3629.56796612]\n",
      " [4023.09067316]\n",
      " [3427.20639015]\n",
      " [4777.68301916]\n",
      " [3231.18133728]\n",
      " [4886.56486445]\n",
      " [4671.28530877]\n",
      " [5356.27853176]\n",
      " [3428.80318516]\n",
      " [3451.54828962]\n",
      " [4835.58683675]\n",
      " [3555.82488232]\n",
      " [5694.91097704]\n",
      " [3351.93441069]\n",
      " [4852.08077074]\n",
      " [4720.3137953 ]\n",
      " [3433.46783167]\n",
      " [5619.34630277]\n",
      " [4094.75954274]\n",
      " [3876.45712402]\n",
      " [4804.97619476]\n",
      " [4145.40288908]\n",
      " [4023.07116837]\n",
      " [4160.02486942]\n",
      " [4131.17892234]\n",
      " [5420.80446682]\n",
      " [4084.55413502]\n",
      " [5288.42590752]\n",
      " [3561.89215373]\n",
      " [4828.42583741]\n",
      " [5339.52370857]\n",
      " [3520.76026279]]\n"
     ]
    }
   ],
   "source": [
    "# 제출물 만들기\n",
    "y_pred = modelLR.predict(X_test_fin)\n",
    "print(y_pred)"
   ]
  },
  {
   "cell_type": "code",
   "execution_count": 81,
   "id": "52f38386",
   "metadata": {},
   "outputs": [],
   "source": [
    "pd.DataFrame({'body_mass_g' : y_pred[:, 0]}).to_csv('0040000000.csv', index=False)"
   ]
  }
 ],
 "metadata": {
  "kernelspec": {
   "display_name": "Python 3",
   "language": "python",
   "name": "python3"
  },
  "language_info": {
   "codemirror_mode": {
    "name": "ipython",
    "version": 3
   },
   "file_extension": ".py",
   "mimetype": "text/x-python",
   "name": "python",
   "nbconvert_exporter": "python",
   "pygments_lexer": "ipython3",
   "version": "3.8.8"
  }
 },
 "nbformat": 4,
 "nbformat_minor": 5
}
